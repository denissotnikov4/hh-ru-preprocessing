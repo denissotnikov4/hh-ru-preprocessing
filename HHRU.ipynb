{
  "nbformat": 4,
  "nbformat_minor": 0,
  "metadata": {
    "colab": {
      "name": "HHRU.ipynb",
      "provenance": []
    },
    "kernelspec": {
      "name": "python3",
      "display_name": "Python 3"
    },
    "language_info": {
      "name": "python"
    }
  },
  "cells": [
    {
      "cell_type": "code",
      "metadata": {
        "id": "to3gs_wVcmic"
      },
      "source": [
        "import pandas as pd\n",
        "import numpy as np\n",
        "import seaborn as sns\n",
        "import os\n",
        "from matplotlib import pyplot as plt"
      ],
      "execution_count": null,
      "outputs": []
    },
    {
      "cell_type": "code",
      "metadata": {
        "id": "nH6bzkfNVkHn"
      },
      "source": [
        "%matplotlib inline"
      ],
      "execution_count": null,
      "outputs": []
    },
    {
      "cell_type": "code",
      "metadata": {
        "colab": {
          "base_uri": "https://localhost:8080/"
        },
        "id": "3CXDL7z1dGKC",
        "outputId": "aa150d85-6340-4e25-dc2f-518412341242"
      },
      "source": [
        "from google.colab import drive\n",
        "drive.mount('/content/drive')"
      ],
      "execution_count": null,
      "outputs": [
        {
          "output_type": "stream",
          "text": [
            "Drive already mounted at /content/drive; to attempt to forcibly remount, call drive.mount(\"/content/drive\", force_remount=True).\n"
          ],
          "name": "stdout"
        }
      ]
    },
    {
      "cell_type": "code",
      "metadata": {
        "colab": {
          "base_uri": "https://localhost:8080/",
          "height": 475
        },
        "id": "YgmILgIOdDcQ",
        "outputId": "2ac19414-ea49-4255-9394-4fb84f9e9943"
      },
      "source": [
        "# Your path to data set below\n",
        "fn = '/content/drive/MyDrive/DataSets/vacancies_2020.csv.gz'\n",
        "df = pd.read_csv(fn, compression='gzip')\n",
        "df.head()"
      ],
      "execution_count": null,
      "outputs": [
        {
          "output_type": "execute_result",
          "data": {
            "text/html": [
              "<div>\n",
              "<style scoped>\n",
              "    .dataframe tbody tr th:only-of-type {\n",
              "        vertical-align: middle;\n",
              "    }\n",
              "\n",
              "    .dataframe tbody tr th {\n",
              "        vertical-align: top;\n",
              "    }\n",
              "\n",
              "    .dataframe thead th {\n",
              "        text-align: right;\n",
              "    }\n",
              "</style>\n",
              "<table border=\"1\" class=\"dataframe\">\n",
              "  <thead>\n",
              "    <tr style=\"text-align: right;\">\n",
              "      <th></th>\n",
              "      <th>id</th>\n",
              "      <th>description</th>\n",
              "      <th>key_skills</th>\n",
              "      <th>schedule_id</th>\n",
              "      <th>schedule_name</th>\n",
              "      <th>accept_handicapped</th>\n",
              "      <th>accept_kids</th>\n",
              "      <th>experience_id</th>\n",
              "      <th>experience_name</th>\n",
              "      <th>specializations</th>\n",
              "      <th>contacts</th>\n",
              "      <th>billing_type_id</th>\n",
              "      <th>billing_type_name</th>\n",
              "      <th>allow_messages</th>\n",
              "      <th>premium</th>\n",
              "      <th>driver_license_types</th>\n",
              "      <th>accept_incomplete_resumes</th>\n",
              "      <th>employer_id</th>\n",
              "      <th>employer_name</th>\n",
              "      <th>employer_vacancies_url</th>\n",
              "      <th>employer_trusted</th>\n",
              "      <th>employer_alternate_url</th>\n",
              "      <th>employer_industries</th>\n",
              "      <th>response_letter_required</th>\n",
              "      <th>type_id</th>\n",
              "      <th>type_name</th>\n",
              "      <th>has_test</th>\n",
              "      <th>response_url</th>\n",
              "      <th>test_required</th>\n",
              "      <th>salary_from</th>\n",
              "      <th>salary_to</th>\n",
              "      <th>salary_gross</th>\n",
              "      <th>salary_currency</th>\n",
              "      <th>archived</th>\n",
              "      <th>name</th>\n",
              "      <th>insider_interview</th>\n",
              "      <th>area_id</th>\n",
              "      <th>area_name</th>\n",
              "      <th>area_url</th>\n",
              "      <th>created_at</th>\n",
              "      <th>published_at</th>\n",
              "      <th>address_city</th>\n",
              "      <th>address_street</th>\n",
              "      <th>address_building</th>\n",
              "      <th>address_description</th>\n",
              "      <th>address_lat</th>\n",
              "      <th>address_lng</th>\n",
              "      <th>alternate_url</th>\n",
              "      <th>apply_alternate_url</th>\n",
              "      <th>code</th>\n",
              "      <th>department_id</th>\n",
              "      <th>department_name</th>\n",
              "      <th>employment_id</th>\n",
              "      <th>employment_name</th>\n",
              "      <th>prof_classes_found</th>\n",
              "      <th>terms_found</th>\n",
              "    </tr>\n",
              "  </thead>\n",
              "  <tbody>\n",
              "    <tr>\n",
              "      <th>0</th>\n",
              "      <td>30711158</td>\n",
              "      <td>&lt;p&gt;&lt;strong&gt;О Компании&lt;/strong&gt;&lt;/p&gt; &lt;p&gt;Мы помог...</td>\n",
              "      <td>NaN</td>\n",
              "      <td>fullDay</td>\n",
              "      <td>Полный день</td>\n",
              "      <td>False</td>\n",
              "      <td>False</td>\n",
              "      <td>between1And3</td>\n",
              "      <td>От 1 года до 3 лет</td>\n",
              "      <td>1.117 Тестирование 1 Информационные технологии...</td>\n",
              "      <td>NaN</td>\n",
              "      <td>standard</td>\n",
              "      <td>Стандарт</td>\n",
              "      <td>True</td>\n",
              "      <td>False</td>\n",
              "      <td>NaN</td>\n",
              "      <td>False</td>\n",
              "      <td>3034828.0</td>\n",
              "      <td>Смарт консалтинг</td>\n",
              "      <td>https://api.hh.ru/vacancies?employer_id=3034828</td>\n",
              "      <td>True</td>\n",
              "      <td>https://hh.ru/employer/3034828</td>\n",
              "      <td>Разработка программного обеспечения</td>\n",
              "      <td>False</td>\n",
              "      <td>open</td>\n",
              "      <td>Открытая</td>\n",
              "      <td>False</td>\n",
              "      <td>NaN</td>\n",
              "      <td>NaN</td>\n",
              "      <td>NaN</td>\n",
              "      <td>NaN</td>\n",
              "      <td>NaN</td>\n",
              "      <td>NaN</td>\n",
              "      <td>False</td>\n",
              "      <td>Тестировщик QA</td>\n",
              "      <td>NaN</td>\n",
              "      <td>4</td>\n",
              "      <td>Новосибирск</td>\n",
              "      <td>https://api.hh.ru/areas/4</td>\n",
              "      <td>2020-10-12T05:18:46+0300</td>\n",
              "      <td>2020-10-12T05:18:46+0300</td>\n",
              "      <td>Новосибирск</td>\n",
              "      <td>Октябрьская магистраль</td>\n",
              "      <td>4</td>\n",
              "      <td>NaN</td>\n",
              "      <td>55.022567</td>\n",
              "      <td>82.930086</td>\n",
              "      <td>https://hh.ru/vacancy/30711158</td>\n",
              "      <td>https://hh.ru/applicant/vacancy_response?vacan...</td>\n",
              "      <td>NaN</td>\n",
              "      <td>NaN</td>\n",
              "      <td>NaN</td>\n",
              "      <td>full</td>\n",
              "      <td>Полная занятость</td>\n",
              "      <td>tester</td>\n",
              "      <td>jmeter спринт тестировщик continuous_integrati...</td>\n",
              "    </tr>\n",
              "    <tr>\n",
              "      <th>1</th>\n",
              "      <td>30711538</td>\n",
              "      <td>&lt;p&gt;&lt;strong&gt;Vigrom&lt;/strong&gt; сегодня – междунаро...</td>\n",
              "      <td>PHP\\nSQL\\nООП\\nPostgreSQL\\nMemcached\\nSymfony\\...</td>\n",
              "      <td>fullDay</td>\n",
              "      <td>Полный день</td>\n",
              "      <td>False</td>\n",
              "      <td>False</td>\n",
              "      <td>between1And3</td>\n",
              "      <td>От 1 года до 3 лет</td>\n",
              "      <td>1.221 Программирование, Разработка 1 Информаци...</td>\n",
              "      <td>NaN</td>\n",
              "      <td>standard</td>\n",
              "      <td>Стандарт</td>\n",
              "      <td>True</td>\n",
              "      <td>False</td>\n",
              "      <td>NaN</td>\n",
              "      <td>False</td>\n",
              "      <td>1110684.0</td>\n",
              "      <td>Vigrom Corp.</td>\n",
              "      <td>https://api.hh.ru/vacancies?employer_id=1110684</td>\n",
              "      <td>True</td>\n",
              "      <td>https://hh.ru/employer/1110684</td>\n",
              "      <td>Интернет-компания (поисковики, платежные систе...</td>\n",
              "      <td>False</td>\n",
              "      <td>open</td>\n",
              "      <td>Открытая</td>\n",
              "      <td>False</td>\n",
              "      <td>NaN</td>\n",
              "      <td>NaN</td>\n",
              "      <td>NaN</td>\n",
              "      <td>NaN</td>\n",
              "      <td>NaN</td>\n",
              "      <td>NaN</td>\n",
              "      <td>True</td>\n",
              "      <td>PHP-разработчик</td>\n",
              "      <td>NaN</td>\n",
              "      <td>71</td>\n",
              "      <td>Пенза</td>\n",
              "      <td>https://api.hh.ru/areas/71</td>\n",
              "      <td>2020-01-28T10:52:44+0300</td>\n",
              "      <td>2020-01-28T10:52:44+0300</td>\n",
              "      <td>Пенза</td>\n",
              "      <td>Тамбовская улица</td>\n",
              "      <td>35Б</td>\n",
              "      <td>NaN</td>\n",
              "      <td>53.173614</td>\n",
              "      <td>45.005847</td>\n",
              "      <td>https://hh.ru/vacancy/30711538</td>\n",
              "      <td>https://hh.ru/applicant/vacancy_response?vacan...</td>\n",
              "      <td>NaN</td>\n",
              "      <td>NaN</td>\n",
              "      <td>NaN</td>\n",
              "      <td>full</td>\n",
              "      <td>Полная занятость</td>\n",
              "      <td>programmer</td>\n",
              "      <td>современный_офис memcache team phpunit php арх...</td>\n",
              "    </tr>\n",
              "    <tr>\n",
              "      <th>2</th>\n",
              "      <td>30713109</td>\n",
              "      <td>&lt;p&gt;Каждый день миллионы пользователей находят ...</td>\n",
              "      <td>NaN</td>\n",
              "      <td>remote</td>\n",
              "      <td>Удаленная работа</td>\n",
              "      <td>True</td>\n",
              "      <td>False</td>\n",
              "      <td>noExperience</td>\n",
              "      <td>Нет опыта</td>\n",
              "      <td>4.278 Сотрудник call-центра 4 Административный...</td>\n",
              "      <td>NaN</td>\n",
              "      <td>standard</td>\n",
              "      <td>Стандарт</td>\n",
              "      <td>False</td>\n",
              "      <td>False</td>\n",
              "      <td>NaN</td>\n",
              "      <td>True</td>\n",
              "      <td>1740.0</td>\n",
              "      <td>Яндекс</td>\n",
              "      <td>https://api.hh.ru/vacancies?employer_id=1740</td>\n",
              "      <td>True</td>\n",
              "      <td>https://hh.ru/employer/1740</td>\n",
              "      <td>Интернет-компания (поисковики, платежные систе...</td>\n",
              "      <td>False</td>\n",
              "      <td>open</td>\n",
              "      <td>Открытая</td>\n",
              "      <td>False</td>\n",
              "      <td>NaN</td>\n",
              "      <td>NaN</td>\n",
              "      <td>NaN</td>\n",
              "      <td>NaN</td>\n",
              "      <td>NaN</td>\n",
              "      <td>NaN</td>\n",
              "      <td>True</td>\n",
              "      <td>Оператор саll-центра</td>\n",
              "      <td>NaN</td>\n",
              "      <td>2</td>\n",
              "      <td>Санкт-Петербург</td>\n",
              "      <td>https://api.hh.ru/areas/2</td>\n",
              "      <td>2020-03-21T10:07:10+0300</td>\n",
              "      <td>2020-03-21T10:07:10+0300</td>\n",
              "      <td>NaN</td>\n",
              "      <td>NaN</td>\n",
              "      <td>NaN</td>\n",
              "      <td>NaN</td>\n",
              "      <td>NaN</td>\n",
              "      <td>NaN</td>\n",
              "      <td>https://hh.ru/vacancy/30713109</td>\n",
              "      <td>https://hh.ru/applicant/vacancy_response?vacan...</td>\n",
              "      <td>NaN</td>\n",
              "      <td>NaN</td>\n",
              "      <td>NaN</td>\n",
              "      <td>part</td>\n",
              "      <td>Частичная занятость</td>\n",
              "      <td>operator</td>\n",
              "      <td>яндекс windows_7 гибкий_график</td>\n",
              "    </tr>\n",
              "    <tr>\n",
              "      <th>3</th>\n",
              "      <td>30714567</td>\n",
              "      <td>&lt;p&gt;&lt;strong&gt;В твоих руках - отличная возможност...</td>\n",
              "      <td>NaN</td>\n",
              "      <td>fullDay</td>\n",
              "      <td>Полный день</td>\n",
              "      <td>False</td>\n",
              "      <td>False</td>\n",
              "      <td>noExperience</td>\n",
              "      <td>Нет опыта</td>\n",
              "      <td>17.269 Телекоммуникации, Сетевые решения 17 Пр...</td>\n",
              "      <td>NaN</td>\n",
              "      <td>standard</td>\n",
              "      <td>Стандарт</td>\n",
              "      <td>True</td>\n",
              "      <td>False</td>\n",
              "      <td>NaN</td>\n",
              "      <td>False</td>\n",
              "      <td>1217313.0</td>\n",
              "      <td>МегаФон Ритейл</td>\n",
              "      <td>https://api.hh.ru/vacancies?employer_id=1217313</td>\n",
              "      <td>True</td>\n",
              "      <td>https://hh.ru/employer/1217313</td>\n",
              "      <td>Розничная сеть (мобильный ретейл)</td>\n",
              "      <td>False</td>\n",
              "      <td>open</td>\n",
              "      <td>Открытая</td>\n",
              "      <td>False</td>\n",
              "      <td>NaN</td>\n",
              "      <td>NaN</td>\n",
              "      <td>23000.0</td>\n",
              "      <td>29000.0</td>\n",
              "      <td>False</td>\n",
              "      <td>RUR</td>\n",
              "      <td>True</td>\n",
              "      <td>Продавец - Консультант офиса продаж и обслужив...</td>\n",
              "      <td>NaN</td>\n",
              "      <td>1395</td>\n",
              "      <td>Копейск</td>\n",
              "      <td>https://api.hh.ru/areas/1395</td>\n",
              "      <td>2020-01-13T12:38:10+0300</td>\n",
              "      <td>2020-01-13T12:38:10+0300</td>\n",
              "      <td>Челябинск</td>\n",
              "      <td>улица Кирова</td>\n",
              "      <td>159</td>\n",
              "      <td>NaN</td>\n",
              "      <td>55.164515</td>\n",
              "      <td>61.401188</td>\n",
              "      <td>https://hh.ru/vacancy/30714567</td>\n",
              "      <td>https://hh.ru/applicant/vacancy_response?vacan...</td>\n",
              "      <td>NaN</td>\n",
              "      <td>NaN</td>\n",
              "      <td>NaN</td>\n",
              "      <td>full</td>\n",
              "      <td>Полная занятость</td>\n",
              "      <td>prodajnik</td>\n",
              "      <td>медицинская_страховка официальное_трудоустройс...</td>\n",
              "    </tr>\n",
              "    <tr>\n",
              "      <th>4</th>\n",
              "      <td>30716168</td>\n",
              "      <td>&lt;p&gt;&lt;strong&gt;Компания «Северсталь-Инфоком» - цен...</td>\n",
              "      <td>Bash\\nPowerShell\\nC++\\nC#\\nJava\\nPerl\\nPython\\...</td>\n",
              "      <td>fullDay</td>\n",
              "      <td>Полный день</td>\n",
              "      <td>False</td>\n",
              "      <td>False</td>\n",
              "      <td>between1And3</td>\n",
              "      <td>От 1 года до 3 лет</td>\n",
              "      <td>1.221 Программирование, Разработка 1 Информаци...</td>\n",
              "      <td>NaN</td>\n",
              "      <td>standard</td>\n",
              "      <td>Стандарт</td>\n",
              "      <td>True</td>\n",
              "      <td>False</td>\n",
              "      <td>NaN</td>\n",
              "      <td>False</td>\n",
              "      <td>6041.0</td>\n",
              "      <td>Северсталь, Москва</td>\n",
              "      <td>https://api.hh.ru/vacancies?employer_id=6041</td>\n",
              "      <td>True</td>\n",
              "      <td>https://hh.ru/employer/6041</td>\n",
              "      <td>Добыча и обогащение угля\\nПродукция черной мет...</td>\n",
              "      <td>False</td>\n",
              "      <td>open</td>\n",
              "      <td>Открытая</td>\n",
              "      <td>False</td>\n",
              "      <td>NaN</td>\n",
              "      <td>NaN</td>\n",
              "      <td>NaN</td>\n",
              "      <td>NaN</td>\n",
              "      <td>NaN</td>\n",
              "      <td>NaN</td>\n",
              "      <td>True</td>\n",
              "      <td>Технический консультант</td>\n",
              "      <td>NaN</td>\n",
              "      <td>1753</td>\n",
              "      <td>Череповец</td>\n",
              "      <td>https://api.hh.ru/areas/1753</td>\n",
              "      <td>2020-01-23T17:59:56+0300</td>\n",
              "      <td>2020-01-23T17:59:56+0300</td>\n",
              "      <td>Череповец</td>\n",
              "      <td>улица Мира</td>\n",
              "      <td>30</td>\n",
              "      <td>NaN</td>\n",
              "      <td>59.136091</td>\n",
              "      <td>37.877356</td>\n",
              "      <td>https://hh.ru/vacancy/30716168</td>\n",
              "      <td>https://hh.ru/applicant/vacancy_response?vacan...</td>\n",
              "      <td>NaN</td>\n",
              "      <td>severstal-6041-it</td>\n",
              "      <td>Северсталь. ИТ Компания</td>\n",
              "      <td>full</td>\n",
              "      <td>Полная занятость</td>\n",
              "      <td>consultant</td>\n",
              "      <td>bash team c# perl английский_язык тестирование...</td>\n",
              "    </tr>\n",
              "  </tbody>\n",
              "</table>\n",
              "</div>"
            ],
            "text/plain": [
              "         id  ...                                        terms_found\n",
              "0  30711158  ...  jmeter спринт тестировщик continuous_integrati...\n",
              "1  30711538  ...  современный_офис memcache team phpunit php арх...\n",
              "2  30713109  ...                     яндекс windows_7 гибкий_график\n",
              "3  30714567  ...  медицинская_страховка официальное_трудоустройс...\n",
              "4  30716168  ...  bash team c# perl английский_язык тестирование...\n",
              "\n",
              "[5 rows x 56 columns]"
            ]
          },
          "metadata": {
            "tags": []
          },
          "execution_count": 4
        }
      ]
    },
    {
      "cell_type": "code",
      "metadata": {
        "colab": {
          "base_uri": "https://localhost:8080/"
        },
        "id": "lNy36bLhhOsR",
        "outputId": "9b45dfc5-d835-4b5c-851e-32546b8d5d10"
      },
      "source": [
        "df.shape"
      ],
      "execution_count": null,
      "outputs": [
        {
          "output_type": "execute_result",
          "data": {
            "text/plain": [
              "(587637, 56)"
            ]
          },
          "metadata": {
            "tags": []
          },
          "execution_count": 5
        }
      ]
    },
    {
      "cell_type": "code",
      "metadata": {
        "colab": {
          "base_uri": "https://localhost:8080/"
        },
        "id": "IZymAXBLekvH",
        "outputId": "d0232174-1c1d-4423-c843-8c9a09214a4f"
      },
      "source": [
        "df.info()"
      ],
      "execution_count": null,
      "outputs": [
        {
          "output_type": "stream",
          "text": [
            "<class 'pandas.core.frame.DataFrame'>\n",
            "RangeIndex: 587637 entries, 0 to 587636\n",
            "Data columns (total 56 columns):\n",
            " #   Column                     Non-Null Count   Dtype  \n",
            "---  ------                     --------------   -----  \n",
            " 0   id                         587637 non-null  int64  \n",
            " 1   description                587637 non-null  object \n",
            " 2   key_skills                 431738 non-null  object \n",
            " 3   schedule_id                587637 non-null  object \n",
            " 4   schedule_name              587637 non-null  object \n",
            " 5   accept_handicapped         587637 non-null  bool   \n",
            " 6   accept_kids                587637 non-null  bool   \n",
            " 7   experience_id              587637 non-null  object \n",
            " 8   experience_name            587637 non-null  object \n",
            " 9   specializations            587637 non-null  object \n",
            " 10  contacts                   12130 non-null   object \n",
            " 11  billing_type_id            587637 non-null  object \n",
            " 12  billing_type_name          587637 non-null  object \n",
            " 13  allow_messages             587637 non-null  bool   \n",
            " 14  premium                    587637 non-null  bool   \n",
            " 15  driver_license_types       1749 non-null    object \n",
            " 16  accept_incomplete_resumes  587637 non-null  bool   \n",
            " 17  employer_id                586477 non-null  float64\n",
            " 18  employer_name              587637 non-null  object \n",
            " 19  employer_vacancies_url     586477 non-null  object \n",
            " 20  employer_trusted           586477 non-null  object \n",
            " 21  employer_alternate_url     586477 non-null  object \n",
            " 22  employer_industries        473202 non-null  object \n",
            " 23  response_letter_required   587637 non-null  bool   \n",
            " 24  type_id                    587637 non-null  object \n",
            " 25  type_name                  587637 non-null  object \n",
            " 26  has_test                   587637 non-null  bool   \n",
            " 27  response_url               757 non-null     object \n",
            " 28  test_required              2948 non-null    object \n",
            " 29  salary_from                258741 non-null  float64\n",
            " 30  salary_to                  164509 non-null  float64\n",
            " 31  salary_gross               284072 non-null  object \n",
            " 32  salary_currency            285014 non-null  object \n",
            " 33  archived                   587637 non-null  bool   \n",
            " 34  name                       587637 non-null  object \n",
            " 35  insider_interview          6570 non-null    object \n",
            " 36  area_id                    587637 non-null  int64  \n",
            " 37  area_name                  587637 non-null  object \n",
            " 38  area_url                   587637 non-null  object \n",
            " 39  created_at                 587637 non-null  object \n",
            " 40  published_at               587637 non-null  object \n",
            " 41  address_city               276688 non-null  object \n",
            " 42  address_street             271467 non-null  object \n",
            " 43  address_building           262952 non-null  object \n",
            " 44  address_description        0 non-null       float64\n",
            " 45  address_lat                278728 non-null  float64\n",
            " 46  address_lng                278728 non-null  float64\n",
            " 47  alternate_url              587637 non-null  object \n",
            " 48  apply_alternate_url        587637 non-null  object \n",
            " 49  code                       6673 non-null    object \n",
            " 50  department_id              39413 non-null   object \n",
            " 51  department_name            39413 non-null   object \n",
            " 52  employment_id              587637 non-null  object \n",
            " 53  employment_name            587637 non-null  object \n",
            " 54  prof_classes_found         576794 non-null  object \n",
            " 55  terms_found                583826 non-null  object \n",
            "dtypes: bool(8), float64(6), int64(2), object(40)\n",
            "memory usage: 219.7+ MB\n"
          ],
          "name": "stdout"
        }
      ]
    },
    {
      "cell_type": "markdown",
      "metadata": {
        "id": "I8xEIquTrC9w"
      },
      "source": [
        "---\n",
        "# Rename and drop columns\n",
        "---\n"
      ]
    },
    {
      "cell_type": "code",
      "metadata": {
        "id": "wkWx_Q9LU22h"
      },
      "source": [
        "df = df.rename(columns={'schedule_id': 'schedule', \n",
        "                        'experience_id': 'experience',\n",
        "                        'billing_type_id':'billing_type',\n",
        "                        'type_id': 'type',\n",
        "                        'department_id': 'department',\n",
        "                        'employment_id': 'employment',\n",
        "                        'published_at': 'date'})"
      ],
      "execution_count": null,
      "outputs": []
    },
    {
      "cell_type": "code",
      "metadata": {
        "id": "0AGi93xl0Q6c"
      },
      "source": [
        "df = df.drop(columns=['billing_type_name', 'schedule_name', 'experience_name', \n",
        "                      'type_name', 'address_street', 'address_building', \n",
        "                      'address_description', 'address_lat', 'address_lng', \n",
        "                      'address_lng', 'contacts', 'driver_license_types', \n",
        "                      'response_url', 'insider_interview', 'code', 'department', \n",
        "                      'department_name', 'employment_name', 'area_url',\n",
        "                      'created_at', 'employer_alternate_url', \n",
        "                      'apply_alternate_url', 'type', 'billing_type', \n",
        "                      'address_city', 'description', 'specializations', \n",
        "                      'employer_name', 'employer_vacancies_url', 'alternate_url',\n",
        "                      'premium', 'employer_id'])"
      ],
      "execution_count": null,
      "outputs": []
    },
    {
      "cell_type": "code",
      "metadata": {
        "colab": {
          "base_uri": "https://localhost:8080/"
        },
        "id": "W7wFDKzy_9BD",
        "outputId": "df431979-a33b-4094-b5da-580f46b85d78"
      },
      "source": [
        "df.shape"
      ],
      "execution_count": null,
      "outputs": [
        {
          "output_type": "execute_result",
          "data": {
            "text/plain": [
              "(587637, 25)"
            ]
          },
          "metadata": {
            "tags": []
          },
          "execution_count": 9
        }
      ]
    },
    {
      "cell_type": "markdown",
      "metadata": {
        "id": "DWQkQHHSrMO1"
      },
      "source": [
        "---\n",
        "# Data filtering\n",
        "---\n"
      ]
    },
    {
      "cell_type": "code",
      "metadata": {
        "id": "JmwkIFgL4FsZ"
      },
      "source": [
        "df = df[df.archived == 1]"
      ],
      "execution_count": null,
      "outputs": []
    },
    {
      "cell_type": "code",
      "metadata": {
        "id": "0GbUXuorrbqD"
      },
      "source": [
        "df = df[(df.salary_from.isna() == False) & (df.salary_to.isna() == False) & (df.key_skills.isna() == False)]"
      ],
      "execution_count": null,
      "outputs": []
    },
    {
      "cell_type": "code",
      "metadata": {
        "colab": {
          "base_uri": "https://localhost:8080/"
        },
        "id": "ZC_K3wb-0o0p",
        "outputId": "f811f979-7660-4fa9-9ed0-b0ce1652cec5"
      },
      "source": [
        "df.prof_classes_found.value_counts().head()"
      ],
      "execution_count": null,
      "outputs": [
        {
          "output_type": "execute_result",
          "data": {
            "text/plain": [
              "programmer    23834\n",
              "prodajnik      8757\n",
              "support        5886\n",
              "sysadmin       4885\n",
              "specialist     3921\n",
              "Name: prof_classes_found, dtype: int64"
            ]
          },
          "metadata": {
            "tags": []
          },
          "execution_count": 12
        }
      ]
    },
    {
      "cell_type": "code",
      "metadata": {
        "id": "lR4bUEJB0tnC"
      },
      "source": [
        "df = df[df.prof_classes_found != 'prodajnik']\n",
        "df = df[df.prof_classes_found != 'montajnik']\n",
        "df = df[df.prof_classes_found != 'teacher']\n",
        "df = df[df.prof_classes_found != 'just_work']\n",
        "df = df[df.prof_classes_found != 'montajnik electric']\n",
        "df = df[df.prof_classes_found != 'rukovoditel_zam']\n",
        "df = df[df.prof_classes_found != 'prodajnik electric']\n",
        "df = df[df.prof_classes_found != 'electric']\n",
        "df = df[(df.prof_classes_found != 'prodajnik technic')]\n",
        "df = df[df.employment != 'volunteer']"
      ],
      "execution_count": null,
      "outputs": []
    },
    {
      "cell_type": "code",
      "metadata": {
        "id": "Jj-MSnH7fzDu"
      },
      "source": [
        "df = df.reset_index(drop=True)"
      ],
      "execution_count": null,
      "outputs": []
    },
    {
      "cell_type": "code",
      "metadata": {
        "id": "VKHSNCmi4aOb",
        "colab": {
          "base_uri": "https://localhost:8080/"
        },
        "outputId": "e6ab804a-7401-40cd-b5c6-91e8a102f79a"
      },
      "source": [
        "df.shape"
      ],
      "execution_count": null,
      "outputs": [
        {
          "output_type": "execute_result",
          "data": {
            "text/plain": [
              "(75384, 25)"
            ]
          },
          "metadata": {
            "tags": []
          },
          "execution_count": 15
        }
      ]
    },
    {
      "cell_type": "code",
      "metadata": {
        "id": "bq6iY3Q9utnG"
      },
      "source": [
        "df = df.drop(columns='archived')"
      ],
      "execution_count": null,
      "outputs": []
    },
    {
      "cell_type": "code",
      "metadata": {
        "colab": {
          "base_uri": "https://localhost:8080/"
        },
        "id": "A8SlQgzLf1xi",
        "outputId": "83353e16-d0d3-4cf1-e6bf-2464158a310b"
      },
      "source": [
        "df.head()"
      ],
      "execution_count": null,
      "outputs": [
        {
          "output_type": "execute_result",
          "data": {
            "text/html": [
              "<div>\n",
              "<style scoped>\n",
              "    .dataframe tbody tr th:only-of-type {\n",
              "        vertical-align: middle;\n",
              "    }\n",
              "\n",
              "    .dataframe tbody tr th {\n",
              "        vertical-align: top;\n",
              "    }\n",
              "\n",
              "    .dataframe thead th {\n",
              "        text-align: right;\n",
              "    }\n",
              "</style>\n",
              "<table border=\"1\" class=\"dataframe\">\n",
              "  <thead>\n",
              "    <tr style=\"text-align: right;\">\n",
              "      <th></th>\n",
              "      <th>id</th>\n",
              "      <th>key_skills</th>\n",
              "      <th>schedule</th>\n",
              "      <th>accept_handicapped</th>\n",
              "      <th>accept_kids</th>\n",
              "      <th>experience</th>\n",
              "      <th>allow_messages</th>\n",
              "      <th>accept_incomplete_resumes</th>\n",
              "      <th>employer_trusted</th>\n",
              "      <th>employer_industries</th>\n",
              "      <th>response_letter_required</th>\n",
              "      <th>has_test</th>\n",
              "      <th>test_required</th>\n",
              "      <th>salary_from</th>\n",
              "      <th>salary_to</th>\n",
              "      <th>salary_gross</th>\n",
              "      <th>salary_currency</th>\n",
              "      <th>name</th>\n",
              "      <th>area_id</th>\n",
              "      <th>area_name</th>\n",
              "      <th>date</th>\n",
              "      <th>employment</th>\n",
              "      <th>prof_classes_found</th>\n",
              "      <th>terms_found</th>\n",
              "    </tr>\n",
              "  </thead>\n",
              "  <tbody>\n",
              "    <tr>\n",
              "      <th>0</th>\n",
              "      <td>33721414</td>\n",
              "      <td>Активные продажи\\nХолодные продажи\\nПрямые про...</td>\n",
              "      <td>fullDay</td>\n",
              "      <td>False</td>\n",
              "      <td>False</td>\n",
              "      <td>noExperience</td>\n",
              "      <td>True</td>\n",
              "      <td>False</td>\n",
              "      <td>True</td>\n",
              "      <td>Интернет-провайдер\\nОптоволоконная связь\\nФикс...</td>\n",
              "      <td>False</td>\n",
              "      <td>False</td>\n",
              "      <td>NaN</td>\n",
              "      <td>14000.0</td>\n",
              "      <td>50000.0</td>\n",
              "      <td>True</td>\n",
              "      <td>RUR</td>\n",
              "      <td>Агент по сбору заявок на подключение</td>\n",
              "      <td>52</td>\n",
              "      <td>Кострома</td>\n",
              "      <td>2020-02-03T09:05:56+0300</td>\n",
              "      <td>full</td>\n",
              "      <td>NaN</td>\n",
              "      <td>дружный_коллектив опыт_работы</td>\n",
              "    </tr>\n",
              "    <tr>\n",
              "      <th>1</th>\n",
              "      <td>33723735</td>\n",
              "      <td>B2B Продажи\\nВедение переговоров</td>\n",
              "      <td>fullDay</td>\n",
              "      <td>False</td>\n",
              "      <td>False</td>\n",
              "      <td>noExperience</td>\n",
              "      <td>True</td>\n",
              "      <td>True</td>\n",
              "      <td>True</td>\n",
              "      <td>Оптоволоконная связь\\nФиксированная связь</td>\n",
              "      <td>False</td>\n",
              "      <td>False</td>\n",
              "      <td>NaN</td>\n",
              "      <td>35000.0</td>\n",
              "      <td>60000.0</td>\n",
              "      <td>False</td>\n",
              "      <td>RUR</td>\n",
              "      <td>Менеджер по работе с корпоративными клиентами</td>\n",
              "      <td>1753</td>\n",
              "      <td>Череповец</td>\n",
              "      <td>2020-01-15T10:44:35+0300</td>\n",
              "      <td>full</td>\n",
              "      <td>support</td>\n",
              "      <td>комфортный_офис power_point менеджер_по_продаж...</td>\n",
              "    </tr>\n",
              "    <tr>\n",
              "      <th>2</th>\n",
              "      <td>36620015</td>\n",
              "      <td>Windows 7\\nВысокая скорость печати\\nWindows Os...</td>\n",
              "      <td>fullDay</td>\n",
              "      <td>False</td>\n",
              "      <td>False</td>\n",
              "      <td>between3And6</td>\n",
              "      <td>True</td>\n",
              "      <td>False</td>\n",
              "      <td>True</td>\n",
              "      <td>NaN</td>\n",
              "      <td>False</td>\n",
              "      <td>False</td>\n",
              "      <td>NaN</td>\n",
              "      <td>30000.0</td>\n",
              "      <td>35000.0</td>\n",
              "      <td>False</td>\n",
              "      <td>RUR</td>\n",
              "      <td>Инженер-программист</td>\n",
              "      <td>90</td>\n",
              "      <td>Томск</td>\n",
              "      <td>2020-04-10T12:40:35+0300</td>\n",
              "      <td>full</td>\n",
              "      <td>programmer</td>\n",
              "      <td>высшее_образование windows_7 windows_2003 тест...</td>\n",
              "    </tr>\n",
              "    <tr>\n",
              "      <th>3</th>\n",
              "      <td>36620022</td>\n",
              "      <td>Atlassian Jira\\nSQL\\nБазы данных\\nРазработка т...</td>\n",
              "      <td>fullDay</td>\n",
              "      <td>False</td>\n",
              "      <td>False</td>\n",
              "      <td>between1And3</td>\n",
              "      <td>True</td>\n",
              "      <td>False</td>\n",
              "      <td>True</td>\n",
              "      <td>Системная интеграция,  автоматизации технологи...</td>\n",
              "      <td>False</td>\n",
              "      <td>False</td>\n",
              "      <td>NaN</td>\n",
              "      <td>45000.0</td>\n",
              "      <td>73000.0</td>\n",
              "      <td>True</td>\n",
              "      <td>RUR</td>\n",
              "      <td>Системный аналитик</td>\n",
              "      <td>90</td>\n",
              "      <td>Томск</td>\n",
              "      <td>2020-04-10T12:40:57+0300</td>\n",
              "      <td>full</td>\n",
              "      <td>analyst</td>\n",
              "      <td>высшее_образование site разработчик google_ana...</td>\n",
              "    </tr>\n",
              "    <tr>\n",
              "      <th>4</th>\n",
              "      <td>36620106</td>\n",
              "      <td>JavaScript\\nReact\\nReactNative</td>\n",
              "      <td>fullDay</td>\n",
              "      <td>False</td>\n",
              "      <td>False</td>\n",
              "      <td>between3And6</td>\n",
              "      <td>True</td>\n",
              "      <td>False</td>\n",
              "      <td>True</td>\n",
              "      <td>Научно-исследовательская, научная, академическ...</td>\n",
              "      <td>False</td>\n",
              "      <td>False</td>\n",
              "      <td>NaN</td>\n",
              "      <td>150000.0</td>\n",
              "      <td>200000.0</td>\n",
              "      <td>False</td>\n",
              "      <td>RUR</td>\n",
              "      <td>Frontend developer (React)</td>\n",
              "      <td>1</td>\n",
              "      <td>Москва</td>\n",
              "      <td>2020-04-10T12:47:20+0300</td>\n",
              "      <td>full</td>\n",
              "      <td>programmer</td>\n",
              "      <td>разработчик react медицинская_страховка опыт_р...</td>\n",
              "    </tr>\n",
              "  </tbody>\n",
              "</table>\n",
              "</div>"
            ],
            "text/plain": [
              "         id  ...                                        terms_found\n",
              "0  33721414  ...                      дружный_коллектив опыт_работы\n",
              "1  33723735  ...  комфортный_офис power_point менеджер_по_продаж...\n",
              "2  36620015  ...  высшее_образование windows_7 windows_2003 тест...\n",
              "3  36620022  ...  высшее_образование site разработчик google_ana...\n",
              "4  36620106  ...  разработчик react медицинская_страховка опыт_р...\n",
              "\n",
              "[5 rows x 24 columns]"
            ]
          },
          "metadata": {
            "tags": []
          },
          "execution_count": 17
        }
      ]
    },
    {
      "cell_type": "markdown",
      "metadata": {
        "id": "wHHrPCrRbMmz"
      },
      "source": [
        "---\n",
        "# Change a Categorical data\n",
        "---\n"
      ]
    },
    {
      "cell_type": "code",
      "metadata": {
        "id": "aR6X1p48ZoCX"
      },
      "source": [
        "from sklearn.preprocessing import OneHotEncoder, OrdinalEncoder"
      ],
      "execution_count": null,
      "outputs": []
    },
    {
      "cell_type": "code",
      "metadata": {
        "id": "uthNgIY_bpDq"
      },
      "source": [
        "onehot_encoder = OneHotEncoder(sparse=False)"
      ],
      "execution_count": null,
      "outputs": []
    },
    {
      "cell_type": "code",
      "metadata": {
        "id": "cYpsU6YNeZIe"
      },
      "source": [
        "# Change a boolean value\n",
        "df[\"accept_handicapped\"]        = df[\"accept_handicapped\"].replace([False, True], [0, 1])\n",
        "df[\"accept_kids\"]               = df[\"accept_kids\"].replace([False, True], [0, 1])\n",
        "df[\"allow_messages\"]            = df[\"allow_messages\"].replace([False, True], [0, 1])\n",
        "df[\"accept_incomplete_resumes\"] = df[\"accept_incomplete_resumes\"].replace([False, True], [0, 1])\n",
        "df[\"response_letter_required\"]  = df[\"response_letter_required\"].replace([False, True], [0, 1])\n",
        "df[\"has_test\"]                  = df[\"has_test\"].replace([False, True], [0, 1])"
      ],
      "execution_count": null,
      "outputs": []
    },
    {
      "cell_type": "code",
      "metadata": {
        "id": "sMvlhu5yhKC1"
      },
      "source": [
        "# Change a object value\n",
        "df[\"employer_trusted\"] = df[\"employer_trusted\"].replace([False, True], [0, 1])\n",
        "df[\"test_required\"]    = df[\"test_required\"].replace([False, True], [0, 1])\n",
        "df[\"salary_gross\"]     = df[\"salary_gross\"].replace([False, True], [0, 1])"
      ],
      "execution_count": null,
      "outputs": []
    },
    {
      "cell_type": "code",
      "metadata": {
        "colab": {
          "base_uri": "https://localhost:8080/"
        },
        "id": "xEwa32vKUVGv",
        "outputId": "429f64a0-8d3f-4a62-c31b-42511830dfea"
      },
      "source": [
        "df.head(1)"
      ],
      "execution_count": null,
      "outputs": [
        {
          "output_type": "execute_result",
          "data": {
            "text/html": [
              "<div>\n",
              "<style scoped>\n",
              "    .dataframe tbody tr th:only-of-type {\n",
              "        vertical-align: middle;\n",
              "    }\n",
              "\n",
              "    .dataframe tbody tr th {\n",
              "        vertical-align: top;\n",
              "    }\n",
              "\n",
              "    .dataframe thead th {\n",
              "        text-align: right;\n",
              "    }\n",
              "</style>\n",
              "<table border=\"1\" class=\"dataframe\">\n",
              "  <thead>\n",
              "    <tr style=\"text-align: right;\">\n",
              "      <th></th>\n",
              "      <th>id</th>\n",
              "      <th>key_skills</th>\n",
              "      <th>schedule</th>\n",
              "      <th>accept_handicapped</th>\n",
              "      <th>accept_kids</th>\n",
              "      <th>experience</th>\n",
              "      <th>allow_messages</th>\n",
              "      <th>accept_incomplete_resumes</th>\n",
              "      <th>employer_trusted</th>\n",
              "      <th>employer_industries</th>\n",
              "      <th>response_letter_required</th>\n",
              "      <th>has_test</th>\n",
              "      <th>test_required</th>\n",
              "      <th>salary_from</th>\n",
              "      <th>salary_to</th>\n",
              "      <th>salary_gross</th>\n",
              "      <th>salary_currency</th>\n",
              "      <th>name</th>\n",
              "      <th>area_id</th>\n",
              "      <th>area_name</th>\n",
              "      <th>date</th>\n",
              "      <th>employment</th>\n",
              "      <th>prof_classes_found</th>\n",
              "      <th>terms_found</th>\n",
              "    </tr>\n",
              "  </thead>\n",
              "  <tbody>\n",
              "    <tr>\n",
              "      <th>0</th>\n",
              "      <td>33721414</td>\n",
              "      <td>Активные продажи\\nХолодные продажи\\nПрямые про...</td>\n",
              "      <td>fullDay</td>\n",
              "      <td>0</td>\n",
              "      <td>0</td>\n",
              "      <td>noExperience</td>\n",
              "      <td>1</td>\n",
              "      <td>0</td>\n",
              "      <td>1.0</td>\n",
              "      <td>Интернет-провайдер\\nОптоволоконная связь\\nФикс...</td>\n",
              "      <td>0</td>\n",
              "      <td>0</td>\n",
              "      <td>NaN</td>\n",
              "      <td>14000.0</td>\n",
              "      <td>50000.0</td>\n",
              "      <td>1.0</td>\n",
              "      <td>RUR</td>\n",
              "      <td>Агент по сбору заявок на подключение</td>\n",
              "      <td>52</td>\n",
              "      <td>Кострома</td>\n",
              "      <td>2020-02-03T09:05:56+0300</td>\n",
              "      <td>full</td>\n",
              "      <td>NaN</td>\n",
              "      <td>дружный_коллектив опыт_работы</td>\n",
              "    </tr>\n",
              "  </tbody>\n",
              "</table>\n",
              "</div>"
            ],
            "text/plain": [
              "         id  ...                    terms_found\n",
              "0  33721414  ...  дружный_коллектив опыт_работы\n",
              "\n",
              "[1 rows x 24 columns]"
            ]
          },
          "metadata": {
            "tags": []
          },
          "execution_count": 22
        }
      ]
    },
    {
      "cell_type": "markdown",
      "metadata": {
        "id": "0xsNJNeAP9yz"
      },
      "source": [
        "---\n",
        "### OneHotEncoder for the \"schedule\" column\n",
        "---\n"
      ]
    },
    {
      "cell_type": "code",
      "metadata": {
        "id": "pg0ho0KFOaaf",
        "colab": {
          "base_uri": "https://localhost:8080/"
        },
        "outputId": "fb1f5dc2-5a17-4f8b-a698-13529d49322a"
      },
      "source": [
        "df.schedule.value_counts()"
      ],
      "execution_count": null,
      "outputs": [
        {
          "output_type": "execute_result",
          "data": {
            "text/plain": [
              "fullDay        53464\n",
              "remote         13539\n",
              "flexible        4924\n",
              "shift           2258\n",
              "flyInFlyOut     1199\n",
              "Name: schedule, dtype: int64"
            ]
          },
          "metadata": {
            "tags": []
          },
          "execution_count": 23
        }
      ]
    },
    {
      "cell_type": "code",
      "metadata": {
        "id": "_1odl3OkmooK",
        "colab": {
          "base_uri": "https://localhost:8080/"
        },
        "outputId": "4a7ac331-de35-4cce-e246-5a13f10d201d"
      },
      "source": [
        "df.id[df.schedule.isna() == True].count()"
      ],
      "execution_count": null,
      "outputs": [
        {
          "output_type": "execute_result",
          "data": {
            "text/plain": [
              "0"
            ]
          },
          "metadata": {
            "tags": []
          },
          "execution_count": 24
        }
      ]
    },
    {
      "cell_type": "code",
      "metadata": {
        "id": "mZ2QU6TEkYcp"
      },
      "source": [
        "schd = pd.DataFrame(onehot_encoder.fit_transform(df[['schedule']]))\n",
        "schd = schd.rename(columns={0: 'schedule_flexible', 1: 'schedule_flyInFlyOut', \n",
        "                            2: 'schedule_fullDay', 3: 'schedule_remote', \n",
        "                            4: 'schedule_shift'})"
      ],
      "execution_count": null,
      "outputs": []
    },
    {
      "cell_type": "code",
      "metadata": {
        "id": "ZzPW28ihkl-X",
        "colab": {
          "base_uri": "https://localhost:8080/"
        },
        "outputId": "52d54ab9-efcd-4d5b-ac06-e23c63474180"
      },
      "source": [
        "schd.shape"
      ],
      "execution_count": null,
      "outputs": [
        {
          "output_type": "execute_result",
          "data": {
            "text/plain": [
              "(75384, 5)"
            ]
          },
          "metadata": {
            "tags": []
          },
          "execution_count": 26
        }
      ]
    },
    {
      "cell_type": "code",
      "metadata": {
        "id": "tm0RSk9blmMW"
      },
      "source": [
        "df['schedule_flexible']    = schd.schedule_flexible\n",
        "df['schedule_flyInFlyOut'] = schd.schedule_flyInFlyOut\n",
        "df['schedule_fullDay']     = schd.schedule_fullDay\n",
        "df['schedule_remote']   = schd.schedule_remote\n",
        "df['schedule_shift']   = schd.schedule_shift"
      ],
      "execution_count": null,
      "outputs": []
    },
    {
      "cell_type": "code",
      "metadata": {
        "id": "Wx1UDLnOl_Q9",
        "colab": {
          "base_uri": "https://localhost:8080/"
        },
        "outputId": "167d31af-0a5d-40cc-f1a8-af52db7ca5bb"
      },
      "source": [
        "df.head(1)"
      ],
      "execution_count": null,
      "outputs": [
        {
          "output_type": "execute_result",
          "data": {
            "text/html": [
              "<div>\n",
              "<style scoped>\n",
              "    .dataframe tbody tr th:only-of-type {\n",
              "        vertical-align: middle;\n",
              "    }\n",
              "\n",
              "    .dataframe tbody tr th {\n",
              "        vertical-align: top;\n",
              "    }\n",
              "\n",
              "    .dataframe thead th {\n",
              "        text-align: right;\n",
              "    }\n",
              "</style>\n",
              "<table border=\"1\" class=\"dataframe\">\n",
              "  <thead>\n",
              "    <tr style=\"text-align: right;\">\n",
              "      <th></th>\n",
              "      <th>id</th>\n",
              "      <th>key_skills</th>\n",
              "      <th>schedule</th>\n",
              "      <th>accept_handicapped</th>\n",
              "      <th>accept_kids</th>\n",
              "      <th>experience</th>\n",
              "      <th>allow_messages</th>\n",
              "      <th>accept_incomplete_resumes</th>\n",
              "      <th>employer_trusted</th>\n",
              "      <th>employer_industries</th>\n",
              "      <th>response_letter_required</th>\n",
              "      <th>has_test</th>\n",
              "      <th>test_required</th>\n",
              "      <th>salary_from</th>\n",
              "      <th>salary_to</th>\n",
              "      <th>salary_gross</th>\n",
              "      <th>salary_currency</th>\n",
              "      <th>name</th>\n",
              "      <th>area_id</th>\n",
              "      <th>area_name</th>\n",
              "      <th>date</th>\n",
              "      <th>employment</th>\n",
              "      <th>prof_classes_found</th>\n",
              "      <th>terms_found</th>\n",
              "      <th>schedule_flexible</th>\n",
              "      <th>schedule_flyInFlyOut</th>\n",
              "      <th>schedule_fullDay</th>\n",
              "      <th>schedule_remote</th>\n",
              "      <th>schedule_shift</th>\n",
              "    </tr>\n",
              "  </thead>\n",
              "  <tbody>\n",
              "    <tr>\n",
              "      <th>0</th>\n",
              "      <td>33721414</td>\n",
              "      <td>Активные продажи\\nХолодные продажи\\nПрямые про...</td>\n",
              "      <td>fullDay</td>\n",
              "      <td>0</td>\n",
              "      <td>0</td>\n",
              "      <td>noExperience</td>\n",
              "      <td>1</td>\n",
              "      <td>0</td>\n",
              "      <td>1.0</td>\n",
              "      <td>Интернет-провайдер\\nОптоволоконная связь\\nФикс...</td>\n",
              "      <td>0</td>\n",
              "      <td>0</td>\n",
              "      <td>NaN</td>\n",
              "      <td>14000.0</td>\n",
              "      <td>50000.0</td>\n",
              "      <td>1.0</td>\n",
              "      <td>RUR</td>\n",
              "      <td>Агент по сбору заявок на подключение</td>\n",
              "      <td>52</td>\n",
              "      <td>Кострома</td>\n",
              "      <td>2020-02-03T09:05:56+0300</td>\n",
              "      <td>full</td>\n",
              "      <td>NaN</td>\n",
              "      <td>дружный_коллектив опыт_работы</td>\n",
              "      <td>0.0</td>\n",
              "      <td>0.0</td>\n",
              "      <td>1.0</td>\n",
              "      <td>0.0</td>\n",
              "      <td>0.0</td>\n",
              "    </tr>\n",
              "  </tbody>\n",
              "</table>\n",
              "</div>"
            ],
            "text/plain": [
              "         id  ... schedule_shift\n",
              "0  33721414  ...            0.0\n",
              "\n",
              "[1 rows x 29 columns]"
            ]
          },
          "metadata": {
            "tags": []
          },
          "execution_count": 28
        }
      ]
    },
    {
      "cell_type": "code",
      "metadata": {
        "id": "oeb64xWxmDla"
      },
      "source": [
        "df = df.drop(columns='schedule')"
      ],
      "execution_count": null,
      "outputs": []
    },
    {
      "cell_type": "code",
      "metadata": {
        "id": "vMwTa--RmgaN",
        "colab": {
          "base_uri": "https://localhost:8080/"
        },
        "outputId": "9e2330ec-5bb0-4cd5-b7b6-8e0c657951dc"
      },
      "source": [
        "df.shape"
      ],
      "execution_count": null,
      "outputs": [
        {
          "output_type": "execute_result",
          "data": {
            "text/plain": [
              "(75384, 28)"
            ]
          },
          "metadata": {
            "tags": []
          },
          "execution_count": 30
        }
      ]
    },
    {
      "cell_type": "markdown",
      "metadata": {
        "id": "2IhH-xsLd_Hy"
      },
      "source": [
        "---\n",
        "### OneHotEncoder for the \"employment\" column\n",
        "---"
      ]
    },
    {
      "cell_type": "code",
      "metadata": {
        "id": "5F3625lrnLHv",
        "colab": {
          "base_uri": "https://localhost:8080/"
        },
        "outputId": "6096e0b6-445b-4f22-dfed-17e24e408e44"
      },
      "source": [
        "df.id[df.employment.isna() == True].count()"
      ],
      "execution_count": null,
      "outputs": [
        {
          "output_type": "execute_result",
          "data": {
            "text/plain": [
              "0"
            ]
          },
          "metadata": {
            "tags": []
          },
          "execution_count": 31
        }
      ]
    },
    {
      "cell_type": "code",
      "metadata": {
        "id": "cxEz2J4CblBB",
        "colab": {
          "base_uri": "https://localhost:8080/"
        },
        "outputId": "e1815085-eb37-480b-d0a9-33514d9ee5c2"
      },
      "source": [
        "empl = pd.DataFrame(onehot_encoder.fit_transform(df[['employment']]))\n",
        "empl = empl.rename(columns={0 : 'employment_full', 1: 'employment_part', \n",
        "                            2: 'employment_probation', 3: 'employment_project'})\n",
        "empl.shape"
      ],
      "execution_count": null,
      "outputs": [
        {
          "output_type": "execute_result",
          "data": {
            "text/plain": [
              "(75384, 4)"
            ]
          },
          "metadata": {
            "tags": []
          },
          "execution_count": 32
        }
      ]
    },
    {
      "cell_type": "code",
      "metadata": {
        "id": "4SjIlXuDiSuI"
      },
      "source": [
        "df['employment_full']      = empl.employment_full\n",
        "df['employment_part']      = empl.employment_part\n",
        "df['employment_probation'] = empl.employment_probation\n",
        "df['employment_project']   = empl.employment_project"
      ],
      "execution_count": null,
      "outputs": []
    },
    {
      "cell_type": "code",
      "metadata": {
        "id": "ghuljcSsia6W"
      },
      "source": [
        "df = df.drop(columns='employment')"
      ],
      "execution_count": null,
      "outputs": []
    },
    {
      "cell_type": "code",
      "metadata": {
        "id": "VsbMmn9htWR7",
        "colab": {
          "base_uri": "https://localhost:8080/"
        },
        "outputId": "749dabb4-6999-4f2d-caed-fca5267eae6b"
      },
      "source": [
        "df.head(1)"
      ],
      "execution_count": null,
      "outputs": [
        {
          "output_type": "execute_result",
          "data": {
            "text/html": [
              "<div>\n",
              "<style scoped>\n",
              "    .dataframe tbody tr th:only-of-type {\n",
              "        vertical-align: middle;\n",
              "    }\n",
              "\n",
              "    .dataframe tbody tr th {\n",
              "        vertical-align: top;\n",
              "    }\n",
              "\n",
              "    .dataframe thead th {\n",
              "        text-align: right;\n",
              "    }\n",
              "</style>\n",
              "<table border=\"1\" class=\"dataframe\">\n",
              "  <thead>\n",
              "    <tr style=\"text-align: right;\">\n",
              "      <th></th>\n",
              "      <th>id</th>\n",
              "      <th>key_skills</th>\n",
              "      <th>accept_handicapped</th>\n",
              "      <th>accept_kids</th>\n",
              "      <th>experience</th>\n",
              "      <th>allow_messages</th>\n",
              "      <th>accept_incomplete_resumes</th>\n",
              "      <th>employer_trusted</th>\n",
              "      <th>employer_industries</th>\n",
              "      <th>response_letter_required</th>\n",
              "      <th>has_test</th>\n",
              "      <th>test_required</th>\n",
              "      <th>salary_from</th>\n",
              "      <th>salary_to</th>\n",
              "      <th>salary_gross</th>\n",
              "      <th>salary_currency</th>\n",
              "      <th>name</th>\n",
              "      <th>area_id</th>\n",
              "      <th>area_name</th>\n",
              "      <th>date</th>\n",
              "      <th>prof_classes_found</th>\n",
              "      <th>terms_found</th>\n",
              "      <th>schedule_flexible</th>\n",
              "      <th>schedule_flyInFlyOut</th>\n",
              "      <th>schedule_fullDay</th>\n",
              "      <th>schedule_remote</th>\n",
              "      <th>schedule_shift</th>\n",
              "      <th>employment_full</th>\n",
              "      <th>employment_part</th>\n",
              "      <th>employment_probation</th>\n",
              "      <th>employment_project</th>\n",
              "    </tr>\n",
              "  </thead>\n",
              "  <tbody>\n",
              "    <tr>\n",
              "      <th>0</th>\n",
              "      <td>33721414</td>\n",
              "      <td>Активные продажи\\nХолодные продажи\\nПрямые про...</td>\n",
              "      <td>0</td>\n",
              "      <td>0</td>\n",
              "      <td>noExperience</td>\n",
              "      <td>1</td>\n",
              "      <td>0</td>\n",
              "      <td>1.0</td>\n",
              "      <td>Интернет-провайдер\\nОптоволоконная связь\\nФикс...</td>\n",
              "      <td>0</td>\n",
              "      <td>0</td>\n",
              "      <td>NaN</td>\n",
              "      <td>14000.0</td>\n",
              "      <td>50000.0</td>\n",
              "      <td>1.0</td>\n",
              "      <td>RUR</td>\n",
              "      <td>Агент по сбору заявок на подключение</td>\n",
              "      <td>52</td>\n",
              "      <td>Кострома</td>\n",
              "      <td>2020-02-03T09:05:56+0300</td>\n",
              "      <td>NaN</td>\n",
              "      <td>дружный_коллектив опыт_работы</td>\n",
              "      <td>0.0</td>\n",
              "      <td>0.0</td>\n",
              "      <td>1.0</td>\n",
              "      <td>0.0</td>\n",
              "      <td>0.0</td>\n",
              "      <td>1.0</td>\n",
              "      <td>0.0</td>\n",
              "      <td>0.0</td>\n",
              "      <td>0.0</td>\n",
              "    </tr>\n",
              "  </tbody>\n",
              "</table>\n",
              "</div>"
            ],
            "text/plain": [
              "         id  ... employment_project\n",
              "0  33721414  ...                0.0\n",
              "\n",
              "[1 rows x 31 columns]"
            ]
          },
          "metadata": {
            "tags": []
          },
          "execution_count": 35
        }
      ]
    },
    {
      "cell_type": "markdown",
      "metadata": {
        "id": "9RfXGz5Go4P0"
      },
      "source": [
        "---\n",
        "### OneHotEncoder for the \"area_name\" column \n",
        "---\n"
      ]
    },
    {
      "cell_type": "code",
      "metadata": {
        "id": "mJ7qt_aPpEUj",
        "colab": {
          "base_uri": "https://localhost:8080/"
        },
        "outputId": "98a63ced-c7fb-4990-dd9e-9112b6caf247"
      },
      "source": [
        "df.area_name.value_counts().head(26)"
      ],
      "execution_count": null,
      "outputs": [
        {
          "output_type": "execute_result",
          "data": {
            "text/plain": [
              "Москва             20075\n",
              "Санкт-Петербург     8202\n",
              "Новосибирск         2597\n",
              "Екатеринбург        2172\n",
              "Минск               1927\n",
              "Казань              1823\n",
              "Алматы              1675\n",
              "Краснодар           1662\n",
              "Нижний Новгород     1598\n",
              "Ростов-на-Дону      1373\n",
              "Киев                1079\n",
              "Воронеж             1069\n",
              "Самара              1010\n",
              "Пермь                990\n",
              "Челябинск            975\n",
              "Красноярск           952\n",
              "Нур-Султан           912\n",
              "Уфа                  831\n",
              "Томск                774\n",
              "Тюмень               687\n",
              "Омск                 670\n",
              "Владивосток          622\n",
              "Тула                 609\n",
              "Саратов              584\n",
              "Волгоград            584\n",
              "Ташкент              511\n",
              "Name: area_name, dtype: int64"
            ]
          },
          "metadata": {
            "tags": []
          },
          "execution_count": 36
        }
      ]
    },
    {
      "cell_type": "code",
      "metadata": {
        "id": "HjnKjGhKtkQ3",
        "colab": {
          "base_uri": "https://localhost:8080/"
        },
        "outputId": "990e9395-9082-4c06-a97e-c24978256c90"
      },
      "source": [
        "df.shape"
      ],
      "execution_count": null,
      "outputs": [
        {
          "output_type": "execute_result",
          "data": {
            "text/plain": [
              "(75384, 31)"
            ]
          },
          "metadata": {
            "tags": []
          },
          "execution_count": 37
        }
      ]
    },
    {
      "cell_type": "code",
      "metadata": {
        "id": "D4QOanA_pRxv",
        "colab": {
          "base_uri": "https://localhost:8080/"
        },
        "outputId": "a05186a4-4bb7-4ecf-8ad9-c4ed0c71deb7"
      },
      "source": [
        "df.id[df.area_name.isna() == True].count()"
      ],
      "execution_count": null,
      "outputs": [
        {
          "output_type": "execute_result",
          "data": {
            "text/plain": [
              "0"
            ]
          },
          "metadata": {
            "tags": []
          },
          "execution_count": 38
        }
      ]
    },
    {
      "cell_type": "code",
      "metadata": {
        "id": "Td3ZFxsSppCy"
      },
      "source": [
        "df_moskow = df[df.area_name == 'Москва']\n",
        "df_spb = df[df.area_name == 'Санкт-Петербург']\n",
        "df_novosib = df[df.area_name == 'Новосибирск']\n",
        "df_ekb = df[df.area_name == 'Екатеринбург']\n",
        "df_minsk = df[df.area_name == 'Минск']\n",
        "df_kazan = df[df.area_name == 'Казань']\n",
        "df_almaty = df[df.area_name == 'Алматы']\n",
        "df_krasnodar = df[df.area_name == 'Краснодар']\n",
        "df_nnovgorod = df[df.area_name == 'Нижний Новгород']\n",
        "df_rostov = df[df.area_name == 'Ростов-на-Дону']\n",
        "df_kiev = df[df.area_name == 'Киев']\n",
        "df_voronezh = df[df.area_name == 'Воронеж']\n",
        "df_samara = df[df.area_name == 'Самара']\n",
        "df_perm = df[df.area_name == 'Пермь']\n",
        "df_chelyabinsk = df[df.area_name == 'Челябинск']\n",
        "df_krasnoyarsk = df[df.area_name == 'Красноярск']\n",
        "df_nur_sultan = df[df.area_name == 'Нур-Султан']\n",
        "df_ufa = df[df.area_name == 'Уфа']\n",
        "df_tomsk = df[df.area_name == 'Томск']\n",
        "df_tyumen = df[df.area_name == 'Тюмень']\n",
        "df_omsk = df[df.area_name == 'Омск']\n",
        "df_vladivostok = df[df.area_name == 'Владивосток']\n",
        "df_tula = df[df.area_name == 'Тула']\n",
        "df_volgograd = df[df.area_name == 'Волгоград']\n",
        "df_saratov = df[df.area_name == 'Саратов']\n",
        "df_tashkent = df[df.area_name == 'Ташкент']"
      ],
      "execution_count": null,
      "outputs": []
    },
    {
      "cell_type": "code",
      "metadata": {
        "id": "LvKg7IF6pUaw"
      },
      "source": [
        "df_city = df_moskow.append(df_spb).append(df_novosib).append(df_ekb).append(df_minsk) \\\n",
        ".append(df_kazan).append(df_almaty).append(df_krasnodar).append(df_nnovgorod) \\\n",
        ".append(df_rostov).append(df_kiev).append(df_voronezh) \\\n",
        ".append(df_samara).append(df_perm).append(df_chelyabinsk).append(df_krasnoyarsk) \\\n",
        ".append(df_nur_sultan).append(df_ufa).append(df_tomsk).append(df_tyumen) \\\n",
        ".append(df_omsk).append(df_vladivostok).append(df_tula).append(df_volgograd) \\\n",
        ".append(df_saratov).append(df_tashkent)"
      ],
      "execution_count": null,
      "outputs": []
    },
    {
      "cell_type": "code",
      "metadata": {
        "id": "BrZhbKxFy2XJ",
        "colab": {
          "base_uri": "https://localhost:8080/"
        },
        "outputId": "dfb10561-df65-4c73-94a0-7b8d7ce5b2a1"
      },
      "source": [
        "df_city.shape"
      ],
      "execution_count": null,
      "outputs": [
        {
          "output_type": "execute_result",
          "data": {
            "text/plain": [
              "(55963, 31)"
            ]
          },
          "metadata": {
            "tags": []
          },
          "execution_count": 41
        }
      ]
    },
    {
      "cell_type": "code",
      "metadata": {
        "id": "RE2jNDR4zh_y"
      },
      "source": [
        "df_city = df_city.reset_index(drop=True)\n",
        "df = df_city"
      ],
      "execution_count": null,
      "outputs": []
    },
    {
      "cell_type": "code",
      "metadata": {
        "id": "efk6Mv6wzTyE"
      },
      "source": [
        "city = pd.DataFrame(onehot_encoder.fit_transform(df_city[['area_name']]))\n",
        "city = city.rename(columns={0: 'almaty', 1: 'vladivostok', 2: 'volgograd',  3: 'voronezh', 4: 'ekaterinburg', 5: 'kazan', \\\n",
        "                            6: 'kiev', 7: 'krasnodar', 8: 'krasnoyarsk', 9: 'minsk', 10: 'moskow', \\\n",
        "                            11: 'nizhny_novgorod', 12: 'novosibirsk', 13: 'nur_sultan', 15: 'perm', 14: 'omsk', 16: 'rostov_on_don', \\\n",
        "                            17: 'samara', 18: 'st_petersburg', 19: 'saratov', 20: 'tashkent', 21: 'tomsk', 22: 'tula', 23: 'tyumen', 24: 'ufa',  25: 'chelyabinsk'})"
      ],
      "execution_count": null,
      "outputs": []
    },
    {
      "cell_type": "code",
      "metadata": {
        "id": "esIRQo498CA1",
        "colab": {
          "base_uri": "https://localhost:8080/"
        },
        "outputId": "7c070eb6-0e82-4729-9e53-958d69cac149"
      },
      "source": [
        "city.columns"
      ],
      "execution_count": null,
      "outputs": [
        {
          "output_type": "execute_result",
          "data": {
            "text/plain": [
              "Index(['almaty', 'vladivostok', 'volgograd', 'voronezh', 'ekaterinburg',\n",
              "       'kazan', 'kiev', 'krasnodar', 'krasnoyarsk', 'minsk', 'moskow',\n",
              "       'nizhny_novgorod', 'novosibirsk', 'nur_sultan', 'omsk', 'perm',\n",
              "       'rostov_on_don', 'samara', 'st_petersburg', 'saratov', 'tashkent',\n",
              "       'tomsk', 'tula', 'tyumen', 'ufa', 'chelyabinsk'],\n",
              "      dtype='object')"
            ]
          },
          "metadata": {
            "tags": []
          },
          "execution_count": 44
        }
      ]
    },
    {
      "cell_type": "code",
      "metadata": {
        "id": "ZStvVJV78APW"
      },
      "source": [
        "df['almaty']          = city.almaty\n",
        "df['vladivostok']     = city.vladivostok\n",
        "df['volgograd']       = city.volgograd\n",
        "df['voronezh']        = city.voronezh\n",
        "df['ekaterinburg']    = city.ekaterinburg\n",
        "df['kazan']           = city.kazan\n",
        "df['kiev']            = city.kiev\n",
        "df['krasnodar']       = city.krasnodar\n",
        "df['krasnoyarsk']     = city.krasnoyarsk\n",
        "df['minsk']           = city.minsk\n",
        "df['moskow']          = city.moskow\n",
        "df['nizhny_novgorod'] = city.nizhny_novgorod\n",
        "df['novosibirsk']     = city.novosibirsk\n",
        "df['nur-sultan']      = city.nur_sultan\n",
        "df['omsk']            = city.omsk\n",
        "df['perm']            = city.perm\n",
        "df['rostov_on_don']   = city.rostov_on_don\n",
        "df['samara']          = city.samara\n",
        "df['st_petersburg']   = city.st_petersburg\n",
        "df['saratov']         = city.saratov\n",
        "df['tashkent']        = city.tashkent\n",
        "df['tomsk']           = city.tomsk\n",
        "df['tula']            = city.tula\n",
        "df['tyumen']          = city.tyumen\n",
        "df['ufa']             = city.ufa\n",
        "df['chelyabinsk']     = city.chelyabinsk"
      ],
      "execution_count": null,
      "outputs": []
    },
    {
      "cell_type": "code",
      "metadata": {
        "id": "SR45bJZ3CMRq"
      },
      "source": [
        "df = df.drop(columns='area_name')"
      ],
      "execution_count": null,
      "outputs": []
    },
    {
      "cell_type": "code",
      "metadata": {
        "id": "RiB3JIkk9rif",
        "colab": {
          "base_uri": "https://localhost:8080/"
        },
        "outputId": "b12dac13-3ea6-477b-b33a-e3d9598630d1"
      },
      "source": [
        "df.shape"
      ],
      "execution_count": null,
      "outputs": [
        {
          "output_type": "execute_result",
          "data": {
            "text/plain": [
              "(55963, 56)"
            ]
          },
          "metadata": {
            "tags": []
          },
          "execution_count": 47
        }
      ]
    },
    {
      "cell_type": "code",
      "metadata": {
        "id": "GxR6iiIe9x70",
        "colab": {
          "base_uri": "https://localhost:8080/"
        },
        "outputId": "2d2e4a45-b094-461e-ded4-5c073accc9b5"
      },
      "source": [
        "df.head()"
      ],
      "execution_count": null,
      "outputs": [
        {
          "output_type": "execute_result",
          "data": {
            "text/html": [
              "<div>\n",
              "<style scoped>\n",
              "    .dataframe tbody tr th:only-of-type {\n",
              "        vertical-align: middle;\n",
              "    }\n",
              "\n",
              "    .dataframe tbody tr th {\n",
              "        vertical-align: top;\n",
              "    }\n",
              "\n",
              "    .dataframe thead th {\n",
              "        text-align: right;\n",
              "    }\n",
              "</style>\n",
              "<table border=\"1\" class=\"dataframe\">\n",
              "  <thead>\n",
              "    <tr style=\"text-align: right;\">\n",
              "      <th></th>\n",
              "      <th>id</th>\n",
              "      <th>key_skills</th>\n",
              "      <th>accept_handicapped</th>\n",
              "      <th>accept_kids</th>\n",
              "      <th>experience</th>\n",
              "      <th>allow_messages</th>\n",
              "      <th>accept_incomplete_resumes</th>\n",
              "      <th>employer_trusted</th>\n",
              "      <th>employer_industries</th>\n",
              "      <th>response_letter_required</th>\n",
              "      <th>has_test</th>\n",
              "      <th>test_required</th>\n",
              "      <th>salary_from</th>\n",
              "      <th>salary_to</th>\n",
              "      <th>salary_gross</th>\n",
              "      <th>salary_currency</th>\n",
              "      <th>name</th>\n",
              "      <th>area_id</th>\n",
              "      <th>date</th>\n",
              "      <th>prof_classes_found</th>\n",
              "      <th>terms_found</th>\n",
              "      <th>schedule_flexible</th>\n",
              "      <th>schedule_flyInFlyOut</th>\n",
              "      <th>schedule_fullDay</th>\n",
              "      <th>schedule_remote</th>\n",
              "      <th>schedule_shift</th>\n",
              "      <th>employment_full</th>\n",
              "      <th>employment_part</th>\n",
              "      <th>employment_probation</th>\n",
              "      <th>employment_project</th>\n",
              "      <th>almaty</th>\n",
              "      <th>vladivostok</th>\n",
              "      <th>volgograd</th>\n",
              "      <th>voronezh</th>\n",
              "      <th>ekaterinburg</th>\n",
              "      <th>kazan</th>\n",
              "      <th>kiev</th>\n",
              "      <th>krasnodar</th>\n",
              "      <th>krasnoyarsk</th>\n",
              "      <th>minsk</th>\n",
              "      <th>moskow</th>\n",
              "      <th>nizhny_novgorod</th>\n",
              "      <th>novosibirsk</th>\n",
              "      <th>nur-sultan</th>\n",
              "      <th>omsk</th>\n",
              "      <th>perm</th>\n",
              "      <th>rostov_on_don</th>\n",
              "      <th>samara</th>\n",
              "      <th>st_petersburg</th>\n",
              "      <th>saratov</th>\n",
              "      <th>tashkent</th>\n",
              "      <th>tomsk</th>\n",
              "      <th>tula</th>\n",
              "      <th>tyumen</th>\n",
              "      <th>ufa</th>\n",
              "      <th>chelyabinsk</th>\n",
              "    </tr>\n",
              "  </thead>\n",
              "  <tbody>\n",
              "    <tr>\n",
              "      <th>0</th>\n",
              "      <td>36620106</td>\n",
              "      <td>JavaScript\\nReact\\nReactNative</td>\n",
              "      <td>0</td>\n",
              "      <td>0</td>\n",
              "      <td>between3And6</td>\n",
              "      <td>1</td>\n",
              "      <td>0</td>\n",
              "      <td>1.0</td>\n",
              "      <td>Научно-исследовательская, научная, академическ...</td>\n",
              "      <td>0</td>\n",
              "      <td>0</td>\n",
              "      <td>NaN</td>\n",
              "      <td>150000.0</td>\n",
              "      <td>200000.0</td>\n",
              "      <td>0.0</td>\n",
              "      <td>RUR</td>\n",
              "      <td>Frontend developer (React)</td>\n",
              "      <td>1</td>\n",
              "      <td>2020-04-10T12:47:20+0300</td>\n",
              "      <td>programmer</td>\n",
              "      <td>разработчик react медицинская_страховка опыт_р...</td>\n",
              "      <td>0.0</td>\n",
              "      <td>0.0</td>\n",
              "      <td>1.0</td>\n",
              "      <td>0.0</td>\n",
              "      <td>0.0</td>\n",
              "      <td>1.0</td>\n",
              "      <td>0.0</td>\n",
              "      <td>0.0</td>\n",
              "      <td>0.0</td>\n",
              "      <td>0.0</td>\n",
              "      <td>0.0</td>\n",
              "      <td>0.0</td>\n",
              "      <td>0.0</td>\n",
              "      <td>0.0</td>\n",
              "      <td>0.0</td>\n",
              "      <td>0.0</td>\n",
              "      <td>0.0</td>\n",
              "      <td>0.0</td>\n",
              "      <td>0.0</td>\n",
              "      <td>1.0</td>\n",
              "      <td>0.0</td>\n",
              "      <td>0.0</td>\n",
              "      <td>0.0</td>\n",
              "      <td>0.0</td>\n",
              "      <td>0.0</td>\n",
              "      <td>0.0</td>\n",
              "      <td>0.0</td>\n",
              "      <td>0.0</td>\n",
              "      <td>0.0</td>\n",
              "      <td>0.0</td>\n",
              "      <td>0.0</td>\n",
              "      <td>0.0</td>\n",
              "      <td>0.0</td>\n",
              "      <td>0.0</td>\n",
              "      <td>0.0</td>\n",
              "    </tr>\n",
              "    <tr>\n",
              "      <th>1</th>\n",
              "      <td>36620535</td>\n",
              "      <td>Информационная безопасность\\nMS Visio\\nРазрабо...</td>\n",
              "      <td>0</td>\n",
              "      <td>0</td>\n",
              "      <td>between1And3</td>\n",
              "      <td>1</td>\n",
              "      <td>0</td>\n",
              "      <td>1.0</td>\n",
              "      <td>Государственные организации\\nРазработка програ...</td>\n",
              "      <td>1</td>\n",
              "      <td>0</td>\n",
              "      <td>NaN</td>\n",
              "      <td>70000.0</td>\n",
              "      <td>100000.0</td>\n",
              "      <td>1.0</td>\n",
              "      <td>RUR</td>\n",
              "      <td>Советник отдела информационной безопасности</td>\n",
              "      <td>1</td>\n",
              "      <td>2020-04-10T13:17:56+0300</td>\n",
              "      <td>it_security</td>\n",
              "      <td>разработка информационная_безопасность опыт_ра...</td>\n",
              "      <td>0.0</td>\n",
              "      <td>0.0</td>\n",
              "      <td>1.0</td>\n",
              "      <td>0.0</td>\n",
              "      <td>0.0</td>\n",
              "      <td>1.0</td>\n",
              "      <td>0.0</td>\n",
              "      <td>0.0</td>\n",
              "      <td>0.0</td>\n",
              "      <td>0.0</td>\n",
              "      <td>0.0</td>\n",
              "      <td>0.0</td>\n",
              "      <td>0.0</td>\n",
              "      <td>0.0</td>\n",
              "      <td>0.0</td>\n",
              "      <td>0.0</td>\n",
              "      <td>0.0</td>\n",
              "      <td>0.0</td>\n",
              "      <td>0.0</td>\n",
              "      <td>1.0</td>\n",
              "      <td>0.0</td>\n",
              "      <td>0.0</td>\n",
              "      <td>0.0</td>\n",
              "      <td>0.0</td>\n",
              "      <td>0.0</td>\n",
              "      <td>0.0</td>\n",
              "      <td>0.0</td>\n",
              "      <td>0.0</td>\n",
              "      <td>0.0</td>\n",
              "      <td>0.0</td>\n",
              "      <td>0.0</td>\n",
              "      <td>0.0</td>\n",
              "      <td>0.0</td>\n",
              "      <td>0.0</td>\n",
              "      <td>0.0</td>\n",
              "    </tr>\n",
              "    <tr>\n",
              "      <th>2</th>\n",
              "      <td>36620748</td>\n",
              "      <td>C++\\nУмение принимать решения\\nQt\\nCистемы упр...</td>\n",
              "      <td>0</td>\n",
              "      <td>0</td>\n",
              "      <td>between3And6</td>\n",
              "      <td>1</td>\n",
              "      <td>0</td>\n",
              "      <td>1.0</td>\n",
              "      <td>NaN</td>\n",
              "      <td>0</td>\n",
              "      <td>0</td>\n",
              "      <td>NaN</td>\n",
              "      <td>100000.0</td>\n",
              "      <td>200000.0</td>\n",
              "      <td>0.0</td>\n",
              "      <td>RUR</td>\n",
              "      <td>Программист C/С++</td>\n",
              "      <td>1</td>\n",
              "      <td>2020-05-07T13:32:58+0300</td>\n",
              "      <td>programmer</td>\n",
              "      <td>комфортный_офис кофе team дружный_коллектив вк...</td>\n",
              "      <td>0.0</td>\n",
              "      <td>0.0</td>\n",
              "      <td>1.0</td>\n",
              "      <td>0.0</td>\n",
              "      <td>0.0</td>\n",
              "      <td>1.0</td>\n",
              "      <td>0.0</td>\n",
              "      <td>0.0</td>\n",
              "      <td>0.0</td>\n",
              "      <td>0.0</td>\n",
              "      <td>0.0</td>\n",
              "      <td>0.0</td>\n",
              "      <td>0.0</td>\n",
              "      <td>0.0</td>\n",
              "      <td>0.0</td>\n",
              "      <td>0.0</td>\n",
              "      <td>0.0</td>\n",
              "      <td>0.0</td>\n",
              "      <td>0.0</td>\n",
              "      <td>1.0</td>\n",
              "      <td>0.0</td>\n",
              "      <td>0.0</td>\n",
              "      <td>0.0</td>\n",
              "      <td>0.0</td>\n",
              "      <td>0.0</td>\n",
              "      <td>0.0</td>\n",
              "      <td>0.0</td>\n",
              "      <td>0.0</td>\n",
              "      <td>0.0</td>\n",
              "      <td>0.0</td>\n",
              "      <td>0.0</td>\n",
              "      <td>0.0</td>\n",
              "      <td>0.0</td>\n",
              "      <td>0.0</td>\n",
              "      <td>0.0</td>\n",
              "    </tr>\n",
              "    <tr>\n",
              "      <th>3</th>\n",
              "      <td>36620797</td>\n",
              "      <td>Linux\\nSQL\\nООП</td>\n",
              "      <td>0</td>\n",
              "      <td>0</td>\n",
              "      <td>between1And3</td>\n",
              "      <td>1</td>\n",
              "      <td>0</td>\n",
              "      <td>1.0</td>\n",
              "      <td>Банк</td>\n",
              "      <td>0</td>\n",
              "      <td>0</td>\n",
              "      <td>NaN</td>\n",
              "      <td>145000.0</td>\n",
              "      <td>180000.0</td>\n",
              "      <td>0.0</td>\n",
              "      <td>RUR</td>\n",
              "      <td>Golang developer</td>\n",
              "      <td>1</td>\n",
              "      <td>2020-07-15T11:12:40+0300</td>\n",
              "      <td>programmer</td>\n",
              "      <td>высшее_образование разработчик высоконагруженн...</td>\n",
              "      <td>0.0</td>\n",
              "      <td>0.0</td>\n",
              "      <td>1.0</td>\n",
              "      <td>0.0</td>\n",
              "      <td>0.0</td>\n",
              "      <td>1.0</td>\n",
              "      <td>0.0</td>\n",
              "      <td>0.0</td>\n",
              "      <td>0.0</td>\n",
              "      <td>0.0</td>\n",
              "      <td>0.0</td>\n",
              "      <td>0.0</td>\n",
              "      <td>0.0</td>\n",
              "      <td>0.0</td>\n",
              "      <td>0.0</td>\n",
              "      <td>0.0</td>\n",
              "      <td>0.0</td>\n",
              "      <td>0.0</td>\n",
              "      <td>0.0</td>\n",
              "      <td>1.0</td>\n",
              "      <td>0.0</td>\n",
              "      <td>0.0</td>\n",
              "      <td>0.0</td>\n",
              "      <td>0.0</td>\n",
              "      <td>0.0</td>\n",
              "      <td>0.0</td>\n",
              "      <td>0.0</td>\n",
              "      <td>0.0</td>\n",
              "      <td>0.0</td>\n",
              "      <td>0.0</td>\n",
              "      <td>0.0</td>\n",
              "      <td>0.0</td>\n",
              "      <td>0.0</td>\n",
              "      <td>0.0</td>\n",
              "      <td>0.0</td>\n",
              "    </tr>\n",
              "    <tr>\n",
              "      <th>4</th>\n",
              "      <td>36620865</td>\n",
              "      <td>ООП\\nSQL\\nPHP</td>\n",
              "      <td>0</td>\n",
              "      <td>0</td>\n",
              "      <td>between1And3</td>\n",
              "      <td>1</td>\n",
              "      <td>0</td>\n",
              "      <td>1.0</td>\n",
              "      <td>Банк</td>\n",
              "      <td>0</td>\n",
              "      <td>0</td>\n",
              "      <td>NaN</td>\n",
              "      <td>145000.0</td>\n",
              "      <td>180000.0</td>\n",
              "      <td>0.0</td>\n",
              "      <td>RUR</td>\n",
              "      <td>PHP-разработчик (backend)</td>\n",
              "      <td>1</td>\n",
              "      <td>2020-04-23T17:41:30+0300</td>\n",
              "      <td>programmer</td>\n",
              "      <td>высшее_образование кухня symfony rest php план...</td>\n",
              "      <td>0.0</td>\n",
              "      <td>0.0</td>\n",
              "      <td>1.0</td>\n",
              "      <td>0.0</td>\n",
              "      <td>0.0</td>\n",
              "      <td>1.0</td>\n",
              "      <td>0.0</td>\n",
              "      <td>0.0</td>\n",
              "      <td>0.0</td>\n",
              "      <td>0.0</td>\n",
              "      <td>0.0</td>\n",
              "      <td>0.0</td>\n",
              "      <td>0.0</td>\n",
              "      <td>0.0</td>\n",
              "      <td>0.0</td>\n",
              "      <td>0.0</td>\n",
              "      <td>0.0</td>\n",
              "      <td>0.0</td>\n",
              "      <td>0.0</td>\n",
              "      <td>1.0</td>\n",
              "      <td>0.0</td>\n",
              "      <td>0.0</td>\n",
              "      <td>0.0</td>\n",
              "      <td>0.0</td>\n",
              "      <td>0.0</td>\n",
              "      <td>0.0</td>\n",
              "      <td>0.0</td>\n",
              "      <td>0.0</td>\n",
              "      <td>0.0</td>\n",
              "      <td>0.0</td>\n",
              "      <td>0.0</td>\n",
              "      <td>0.0</td>\n",
              "      <td>0.0</td>\n",
              "      <td>0.0</td>\n",
              "      <td>0.0</td>\n",
              "    </tr>\n",
              "  </tbody>\n",
              "</table>\n",
              "</div>"
            ],
            "text/plain": [
              "         id  ... chelyabinsk\n",
              "0  36620106  ...         0.0\n",
              "1  36620535  ...         0.0\n",
              "2  36620748  ...         0.0\n",
              "3  36620797  ...         0.0\n",
              "4  36620865  ...         0.0\n",
              "\n",
              "[5 rows x 56 columns]"
            ]
          },
          "metadata": {
            "tags": []
          },
          "execution_count": 48
        }
      ]
    },
    {
      "cell_type": "markdown",
      "metadata": {
        "id": "oU3AD2Rln0-_"
      },
      "source": [
        "---\n",
        "### OrdinalEncoder for the \"experience\" column\n",
        "---"
      ]
    },
    {
      "cell_type": "code",
      "metadata": {
        "id": "L2gcee9qn6gh",
        "colab": {
          "base_uri": "https://localhost:8080/"
        },
        "outputId": "8e5aaba9-a419-47c9-a55f-31f94744771d"
      },
      "source": [
        "df.experience.value_counts()"
      ],
      "execution_count": null,
      "outputs": [
        {
          "output_type": "execute_result",
          "data": {
            "text/plain": [
              "between1And3    29294\n",
              "between3And6    14974\n",
              "noExperience    10230\n",
              "moreThan6        1465\n",
              "Name: experience, dtype: int64"
            ]
          },
          "metadata": {
            "tags": []
          },
          "execution_count": 49
        }
      ]
    },
    {
      "cell_type": "code",
      "metadata": {
        "id": "Mc0n8H9RouLN",
        "colab": {
          "base_uri": "https://localhost:8080/"
        },
        "outputId": "674404c2-c7d2-4e3e-888e-f2b9604aafcb"
      },
      "source": [
        "df.id[df.experience.isna() == True].count()"
      ],
      "execution_count": null,
      "outputs": [
        {
          "output_type": "execute_result",
          "data": {
            "text/plain": [
              "0"
            ]
          },
          "metadata": {
            "tags": []
          },
          "execution_count": 50
        }
      ]
    },
    {
      "cell_type": "code",
      "metadata": {
        "id": "fx4DD48jq3CB"
      },
      "source": [
        "ordinal_encoder = OrdinalEncoder(categories=[['noExperience', 'between1And3',\n",
        "                                             'between3And6', 'moreThan6']])"
      ],
      "execution_count": null,
      "outputs": []
    },
    {
      "cell_type": "code",
      "metadata": {
        "id": "mGrsIxwwrFUu"
      },
      "source": [
        "expr = pd.DataFrame(ordinal_encoder.fit_transform(df[['experience']]))"
      ],
      "execution_count": null,
      "outputs": []
    },
    {
      "cell_type": "code",
      "metadata": {
        "id": "9w6zkhO5rg-L"
      },
      "source": [
        "expr = expr.rename(columns={0: 'experience'})"
      ],
      "execution_count": null,
      "outputs": []
    },
    {
      "cell_type": "code",
      "metadata": {
        "id": "43XNq2y5rYrB",
        "colab": {
          "base_uri": "https://localhost:8080/"
        },
        "outputId": "c9d633a1-1383-4d9d-96c9-2ae0c2922f28"
      },
      "source": [
        "df.experience.head()"
      ],
      "execution_count": null,
      "outputs": [
        {
          "output_type": "execute_result",
          "data": {
            "text/plain": [
              "0    between3And6\n",
              "1    between1And3\n",
              "2    between3And6\n",
              "3    between1And3\n",
              "4    between1And3\n",
              "Name: experience, dtype: object"
            ]
          },
          "metadata": {
            "tags": []
          },
          "execution_count": 54
        }
      ]
    },
    {
      "cell_type": "code",
      "metadata": {
        "id": "9lYqzGxErVwo",
        "colab": {
          "base_uri": "https://localhost:8080/"
        },
        "outputId": "cc2466df-4a2d-4c2e-c91d-33db275ac73d"
      },
      "source": [
        "expr.head()"
      ],
      "execution_count": null,
      "outputs": [
        {
          "output_type": "execute_result",
          "data": {
            "text/html": [
              "<div>\n",
              "<style scoped>\n",
              "    .dataframe tbody tr th:only-of-type {\n",
              "        vertical-align: middle;\n",
              "    }\n",
              "\n",
              "    .dataframe tbody tr th {\n",
              "        vertical-align: top;\n",
              "    }\n",
              "\n",
              "    .dataframe thead th {\n",
              "        text-align: right;\n",
              "    }\n",
              "</style>\n",
              "<table border=\"1\" class=\"dataframe\">\n",
              "  <thead>\n",
              "    <tr style=\"text-align: right;\">\n",
              "      <th></th>\n",
              "      <th>experience</th>\n",
              "    </tr>\n",
              "  </thead>\n",
              "  <tbody>\n",
              "    <tr>\n",
              "      <th>0</th>\n",
              "      <td>2.0</td>\n",
              "    </tr>\n",
              "    <tr>\n",
              "      <th>1</th>\n",
              "      <td>1.0</td>\n",
              "    </tr>\n",
              "    <tr>\n",
              "      <th>2</th>\n",
              "      <td>2.0</td>\n",
              "    </tr>\n",
              "    <tr>\n",
              "      <th>3</th>\n",
              "      <td>1.0</td>\n",
              "    </tr>\n",
              "    <tr>\n",
              "      <th>4</th>\n",
              "      <td>1.0</td>\n",
              "    </tr>\n",
              "  </tbody>\n",
              "</table>\n",
              "</div>"
            ],
            "text/plain": [
              "   experience\n",
              "0         2.0\n",
              "1         1.0\n",
              "2         2.0\n",
              "3         1.0\n",
              "4         1.0"
            ]
          },
          "metadata": {
            "tags": []
          },
          "execution_count": 55
        }
      ]
    },
    {
      "cell_type": "code",
      "metadata": {
        "id": "6xJZZgaYruoY"
      },
      "source": [
        "df['experience'] = expr"
      ],
      "execution_count": null,
      "outputs": []
    },
    {
      "cell_type": "code",
      "metadata": {
        "id": "pq2auB3mrz0j",
        "colab": {
          "base_uri": "https://localhost:8080/"
        },
        "outputId": "e61ab52e-efeb-4f14-ccb5-a63c500408d4"
      },
      "source": [
        "df.head(1)"
      ],
      "execution_count": null,
      "outputs": [
        {
          "output_type": "execute_result",
          "data": {
            "text/html": [
              "<div>\n",
              "<style scoped>\n",
              "    .dataframe tbody tr th:only-of-type {\n",
              "        vertical-align: middle;\n",
              "    }\n",
              "\n",
              "    .dataframe tbody tr th {\n",
              "        vertical-align: top;\n",
              "    }\n",
              "\n",
              "    .dataframe thead th {\n",
              "        text-align: right;\n",
              "    }\n",
              "</style>\n",
              "<table border=\"1\" class=\"dataframe\">\n",
              "  <thead>\n",
              "    <tr style=\"text-align: right;\">\n",
              "      <th></th>\n",
              "      <th>id</th>\n",
              "      <th>key_skills</th>\n",
              "      <th>accept_handicapped</th>\n",
              "      <th>accept_kids</th>\n",
              "      <th>experience</th>\n",
              "      <th>allow_messages</th>\n",
              "      <th>accept_incomplete_resumes</th>\n",
              "      <th>employer_trusted</th>\n",
              "      <th>employer_industries</th>\n",
              "      <th>response_letter_required</th>\n",
              "      <th>has_test</th>\n",
              "      <th>test_required</th>\n",
              "      <th>salary_from</th>\n",
              "      <th>salary_to</th>\n",
              "      <th>salary_gross</th>\n",
              "      <th>salary_currency</th>\n",
              "      <th>name</th>\n",
              "      <th>area_id</th>\n",
              "      <th>date</th>\n",
              "      <th>prof_classes_found</th>\n",
              "      <th>terms_found</th>\n",
              "      <th>schedule_flexible</th>\n",
              "      <th>schedule_flyInFlyOut</th>\n",
              "      <th>schedule_fullDay</th>\n",
              "      <th>schedule_remote</th>\n",
              "      <th>schedule_shift</th>\n",
              "      <th>employment_full</th>\n",
              "      <th>employment_part</th>\n",
              "      <th>employment_probation</th>\n",
              "      <th>employment_project</th>\n",
              "      <th>almaty</th>\n",
              "      <th>vladivostok</th>\n",
              "      <th>volgograd</th>\n",
              "      <th>voronezh</th>\n",
              "      <th>ekaterinburg</th>\n",
              "      <th>kazan</th>\n",
              "      <th>kiev</th>\n",
              "      <th>krasnodar</th>\n",
              "      <th>krasnoyarsk</th>\n",
              "      <th>minsk</th>\n",
              "      <th>moskow</th>\n",
              "      <th>nizhny_novgorod</th>\n",
              "      <th>novosibirsk</th>\n",
              "      <th>nur-sultan</th>\n",
              "      <th>omsk</th>\n",
              "      <th>perm</th>\n",
              "      <th>rostov_on_don</th>\n",
              "      <th>samara</th>\n",
              "      <th>st_petersburg</th>\n",
              "      <th>saratov</th>\n",
              "      <th>tashkent</th>\n",
              "      <th>tomsk</th>\n",
              "      <th>tula</th>\n",
              "      <th>tyumen</th>\n",
              "      <th>ufa</th>\n",
              "      <th>chelyabinsk</th>\n",
              "    </tr>\n",
              "  </thead>\n",
              "  <tbody>\n",
              "    <tr>\n",
              "      <th>0</th>\n",
              "      <td>36620106</td>\n",
              "      <td>JavaScript\\nReact\\nReactNative</td>\n",
              "      <td>0</td>\n",
              "      <td>0</td>\n",
              "      <td>2.0</td>\n",
              "      <td>1</td>\n",
              "      <td>0</td>\n",
              "      <td>1.0</td>\n",
              "      <td>Научно-исследовательская, научная, академическ...</td>\n",
              "      <td>0</td>\n",
              "      <td>0</td>\n",
              "      <td>NaN</td>\n",
              "      <td>150000.0</td>\n",
              "      <td>200000.0</td>\n",
              "      <td>0.0</td>\n",
              "      <td>RUR</td>\n",
              "      <td>Frontend developer (React)</td>\n",
              "      <td>1</td>\n",
              "      <td>2020-04-10T12:47:20+0300</td>\n",
              "      <td>programmer</td>\n",
              "      <td>разработчик react медицинская_страховка опыт_р...</td>\n",
              "      <td>0.0</td>\n",
              "      <td>0.0</td>\n",
              "      <td>1.0</td>\n",
              "      <td>0.0</td>\n",
              "      <td>0.0</td>\n",
              "      <td>1.0</td>\n",
              "      <td>0.0</td>\n",
              "      <td>0.0</td>\n",
              "      <td>0.0</td>\n",
              "      <td>0.0</td>\n",
              "      <td>0.0</td>\n",
              "      <td>0.0</td>\n",
              "      <td>0.0</td>\n",
              "      <td>0.0</td>\n",
              "      <td>0.0</td>\n",
              "      <td>0.0</td>\n",
              "      <td>0.0</td>\n",
              "      <td>0.0</td>\n",
              "      <td>0.0</td>\n",
              "      <td>1.0</td>\n",
              "      <td>0.0</td>\n",
              "      <td>0.0</td>\n",
              "      <td>0.0</td>\n",
              "      <td>0.0</td>\n",
              "      <td>0.0</td>\n",
              "      <td>0.0</td>\n",
              "      <td>0.0</td>\n",
              "      <td>0.0</td>\n",
              "      <td>0.0</td>\n",
              "      <td>0.0</td>\n",
              "      <td>0.0</td>\n",
              "      <td>0.0</td>\n",
              "      <td>0.0</td>\n",
              "      <td>0.0</td>\n",
              "      <td>0.0</td>\n",
              "    </tr>\n",
              "  </tbody>\n",
              "</table>\n",
              "</div>"
            ],
            "text/plain": [
              "         id                      key_skills  ...  ufa  chelyabinsk\n",
              "0  36620106  JavaScript\\nReact\\nReactNative  ...  0.0          0.0\n",
              "\n",
              "[1 rows x 56 columns]"
            ]
          },
          "metadata": {
            "tags": []
          },
          "execution_count": 57
        }
      ]
    },
    {
      "cell_type": "markdown",
      "metadata": {
        "id": "Od2FqKOEvoEQ"
      },
      "source": [
        "---\n",
        "# Convert a currency\n",
        "---\n"
      ]
    },
    {
      "cell_type": "markdown",
      "metadata": {
        "id": "Cso7HUSij8p1"
      },
      "source": [
        "## Format a column \"published_at\" to format 'YYYY-MM-DD' in code below"
      ]
    },
    {
      "cell_type": "code",
      "metadata": {
        "id": "Is8SHKYBx77b"
      },
      "source": [
        "df[\"date\"] = pd.to_datetime(df[\"date\"])"
      ],
      "execution_count": null,
      "outputs": []
    },
    {
      "cell_type": "code",
      "metadata": {
        "colab": {
          "base_uri": "https://localhost:8080/"
        },
        "id": "1ZUKQfzyvnWh",
        "outputId": "f41efb6d-5a56-4098-f7e4-84222b82cfed"
      },
      "source": [
        "df.info()"
      ],
      "execution_count": null,
      "outputs": [
        {
          "output_type": "stream",
          "text": [
            "<class 'pandas.core.frame.DataFrame'>\n",
            "RangeIndex: 55963 entries, 0 to 55962\n",
            "Data columns (total 56 columns):\n",
            " #   Column                     Non-Null Count  Dtype                                \n",
            "---  ------                     --------------  -----                                \n",
            " 0   id                         55963 non-null  int64                                \n",
            " 1   key_skills                 55963 non-null  object                               \n",
            " 2   accept_handicapped         55963 non-null  int64                                \n",
            " 3   accept_kids                55963 non-null  int64                                \n",
            " 4   experience                 55963 non-null  float64                              \n",
            " 5   allow_messages             55963 non-null  int64                                \n",
            " 6   accept_incomplete_resumes  55963 non-null  int64                                \n",
            " 7   employer_trusted           55842 non-null  float64                              \n",
            " 8   employer_industries        39639 non-null  object                               \n",
            " 9   response_letter_required   55963 non-null  int64                                \n",
            " 10  has_test                   55963 non-null  int64                                \n",
            " 11  test_required              0 non-null      float64                              \n",
            " 12  salary_from                55963 non-null  float64                              \n",
            " 13  salary_to                  55963 non-null  float64                              \n",
            " 14  salary_gross               55940 non-null  float64                              \n",
            " 15  salary_currency            55963 non-null  object                               \n",
            " 16  name                       55963 non-null  object                               \n",
            " 17  area_id                    55963 non-null  int64                                \n",
            " 18  date                       55963 non-null  datetime64[ns, pytz.FixedOffset(180)]\n",
            " 19  prof_classes_found         54921 non-null  object                               \n",
            " 20  terms_found                55671 non-null  object                               \n",
            " 21  schedule_flexible          55963 non-null  float64                              \n",
            " 22  schedule_flyInFlyOut       55963 non-null  float64                              \n",
            " 23  schedule_fullDay           55963 non-null  float64                              \n",
            " 24  schedule_remote            55963 non-null  float64                              \n",
            " 25  schedule_shift             55963 non-null  float64                              \n",
            " 26  employment_full            55963 non-null  float64                              \n",
            " 27  employment_part            55963 non-null  float64                              \n",
            " 28  employment_probation       55963 non-null  float64                              \n",
            " 29  employment_project         55963 non-null  float64                              \n",
            " 30  almaty                     55963 non-null  float64                              \n",
            " 31  vladivostok                55963 non-null  float64                              \n",
            " 32  volgograd                  55963 non-null  float64                              \n",
            " 33  voronezh                   55963 non-null  float64                              \n",
            " 34  ekaterinburg               55963 non-null  float64                              \n",
            " 35  kazan                      55963 non-null  float64                              \n",
            " 36  kiev                       55963 non-null  float64                              \n",
            " 37  krasnodar                  55963 non-null  float64                              \n",
            " 38  krasnoyarsk                55963 non-null  float64                              \n",
            " 39  minsk                      55963 non-null  float64                              \n",
            " 40  moskow                     55963 non-null  float64                              \n",
            " 41  nizhny_novgorod            55963 non-null  float64                              \n",
            " 42  novosibirsk                55963 non-null  float64                              \n",
            " 43  nur-sultan                 55963 non-null  float64                              \n",
            " 44  omsk                       55963 non-null  float64                              \n",
            " 45  perm                       55963 non-null  float64                              \n",
            " 46  rostov_on_don              55963 non-null  float64                              \n",
            " 47  samara                     55963 non-null  float64                              \n",
            " 48  st_petersburg              55963 non-null  float64                              \n",
            " 49  saratov                    55963 non-null  float64                              \n",
            " 50  tashkent                   55963 non-null  float64                              \n",
            " 51  tomsk                      55963 non-null  float64                              \n",
            " 52  tula                       55963 non-null  float64                              \n",
            " 53  tyumen                     55963 non-null  float64                              \n",
            " 54  ufa                        55963 non-null  float64                              \n",
            " 55  chelyabinsk                55963 non-null  float64                              \n",
            "dtypes: datetime64[ns, pytz.FixedOffset(180)](1), float64(41), int64(8), object(6)\n",
            "memory usage: 23.9+ MB\n"
          ],
          "name": "stdout"
        }
      ]
    },
    {
      "cell_type": "code",
      "metadata": {
        "id": "WV72y8DXypi0"
      },
      "source": [
        "df[\"date\"] = df[\"date\"].dt.strftime(\"%Y-%m-%d\")"
      ],
      "execution_count": null,
      "outputs": []
    },
    {
      "cell_type": "code",
      "metadata": {
        "colab": {
          "base_uri": "https://localhost:8080/"
        },
        "id": "ENl2pUY7yUcP",
        "outputId": "c67e2de0-513f-4233-9e36-4beb98e11114"
      },
      "source": [
        "df.head(1)"
      ],
      "execution_count": null,
      "outputs": [
        {
          "output_type": "execute_result",
          "data": {
            "text/html": [
              "<div>\n",
              "<style scoped>\n",
              "    .dataframe tbody tr th:only-of-type {\n",
              "        vertical-align: middle;\n",
              "    }\n",
              "\n",
              "    .dataframe tbody tr th {\n",
              "        vertical-align: top;\n",
              "    }\n",
              "\n",
              "    .dataframe thead th {\n",
              "        text-align: right;\n",
              "    }\n",
              "</style>\n",
              "<table border=\"1\" class=\"dataframe\">\n",
              "  <thead>\n",
              "    <tr style=\"text-align: right;\">\n",
              "      <th></th>\n",
              "      <th>id</th>\n",
              "      <th>key_skills</th>\n",
              "      <th>accept_handicapped</th>\n",
              "      <th>accept_kids</th>\n",
              "      <th>experience</th>\n",
              "      <th>allow_messages</th>\n",
              "      <th>accept_incomplete_resumes</th>\n",
              "      <th>employer_trusted</th>\n",
              "      <th>employer_industries</th>\n",
              "      <th>response_letter_required</th>\n",
              "      <th>has_test</th>\n",
              "      <th>test_required</th>\n",
              "      <th>salary_from</th>\n",
              "      <th>salary_to</th>\n",
              "      <th>salary_gross</th>\n",
              "      <th>salary_currency</th>\n",
              "      <th>name</th>\n",
              "      <th>area_id</th>\n",
              "      <th>date</th>\n",
              "      <th>prof_classes_found</th>\n",
              "      <th>terms_found</th>\n",
              "      <th>schedule_flexible</th>\n",
              "      <th>schedule_flyInFlyOut</th>\n",
              "      <th>schedule_fullDay</th>\n",
              "      <th>schedule_remote</th>\n",
              "      <th>schedule_shift</th>\n",
              "      <th>employment_full</th>\n",
              "      <th>employment_part</th>\n",
              "      <th>employment_probation</th>\n",
              "      <th>employment_project</th>\n",
              "      <th>almaty</th>\n",
              "      <th>vladivostok</th>\n",
              "      <th>volgograd</th>\n",
              "      <th>voronezh</th>\n",
              "      <th>ekaterinburg</th>\n",
              "      <th>kazan</th>\n",
              "      <th>kiev</th>\n",
              "      <th>krasnodar</th>\n",
              "      <th>krasnoyarsk</th>\n",
              "      <th>minsk</th>\n",
              "      <th>moskow</th>\n",
              "      <th>nizhny_novgorod</th>\n",
              "      <th>novosibirsk</th>\n",
              "      <th>nur-sultan</th>\n",
              "      <th>omsk</th>\n",
              "      <th>perm</th>\n",
              "      <th>rostov_on_don</th>\n",
              "      <th>samara</th>\n",
              "      <th>st_petersburg</th>\n",
              "      <th>saratov</th>\n",
              "      <th>tashkent</th>\n",
              "      <th>tomsk</th>\n",
              "      <th>tula</th>\n",
              "      <th>tyumen</th>\n",
              "      <th>ufa</th>\n",
              "      <th>chelyabinsk</th>\n",
              "    </tr>\n",
              "  </thead>\n",
              "  <tbody>\n",
              "    <tr>\n",
              "      <th>0</th>\n",
              "      <td>36620106</td>\n",
              "      <td>JavaScript\\nReact\\nReactNative</td>\n",
              "      <td>0</td>\n",
              "      <td>0</td>\n",
              "      <td>2.0</td>\n",
              "      <td>1</td>\n",
              "      <td>0</td>\n",
              "      <td>1.0</td>\n",
              "      <td>Научно-исследовательская, научная, академическ...</td>\n",
              "      <td>0</td>\n",
              "      <td>0</td>\n",
              "      <td>NaN</td>\n",
              "      <td>150000.0</td>\n",
              "      <td>200000.0</td>\n",
              "      <td>0.0</td>\n",
              "      <td>RUR</td>\n",
              "      <td>Frontend developer (React)</td>\n",
              "      <td>1</td>\n",
              "      <td>2020-04-10</td>\n",
              "      <td>programmer</td>\n",
              "      <td>разработчик react медицинская_страховка опыт_р...</td>\n",
              "      <td>0.0</td>\n",
              "      <td>0.0</td>\n",
              "      <td>1.0</td>\n",
              "      <td>0.0</td>\n",
              "      <td>0.0</td>\n",
              "      <td>1.0</td>\n",
              "      <td>0.0</td>\n",
              "      <td>0.0</td>\n",
              "      <td>0.0</td>\n",
              "      <td>0.0</td>\n",
              "      <td>0.0</td>\n",
              "      <td>0.0</td>\n",
              "      <td>0.0</td>\n",
              "      <td>0.0</td>\n",
              "      <td>0.0</td>\n",
              "      <td>0.0</td>\n",
              "      <td>0.0</td>\n",
              "      <td>0.0</td>\n",
              "      <td>0.0</td>\n",
              "      <td>1.0</td>\n",
              "      <td>0.0</td>\n",
              "      <td>0.0</td>\n",
              "      <td>0.0</td>\n",
              "      <td>0.0</td>\n",
              "      <td>0.0</td>\n",
              "      <td>0.0</td>\n",
              "      <td>0.0</td>\n",
              "      <td>0.0</td>\n",
              "      <td>0.0</td>\n",
              "      <td>0.0</td>\n",
              "      <td>0.0</td>\n",
              "      <td>0.0</td>\n",
              "      <td>0.0</td>\n",
              "      <td>0.0</td>\n",
              "      <td>0.0</td>\n",
              "    </tr>\n",
              "  </tbody>\n",
              "</table>\n",
              "</div>"
            ],
            "text/plain": [
              "         id                      key_skills  ...  ufa  chelyabinsk\n",
              "0  36620106  JavaScript\\nReact\\nReactNative  ...  0.0          0.0\n",
              "\n",
              "[1 rows x 56 columns]"
            ]
          },
          "metadata": {
            "tags": []
          },
          "execution_count": 61
        }
      ]
    },
    {
      "cell_type": "markdown",
      "metadata": {
        "id": "7zbnxBcikGZD"
      },
      "source": [
        "## Work with currency"
      ]
    },
    {
      "cell_type": "code",
      "metadata": {
        "id": "dcDwXNz2kNYf",
        "colab": {
          "base_uri": "https://localhost:8080/"
        },
        "outputId": "3abe3aac-8dd8-43e9-a09b-ba57c53205ea"
      },
      "source": [
        "df.salary_currency.value_counts()"
      ],
      "execution_count": null,
      "outputs": [
        {
          "output_type": "execute_result",
          "data": {
            "text/plain": [
              "RUR    48357\n",
              "USD     2713\n",
              "KZT     2473\n",
              "BYR     1129\n",
              "UAH      485\n",
              "EUR      433\n",
              "UZS      371\n",
              "KGS        2\n",
              "Name: salary_currency, dtype: int64"
            ]
          },
          "metadata": {
            "tags": []
          },
          "execution_count": 62
        }
      ]
    },
    {
      "cell_type": "code",
      "metadata": {
        "id": "SZRp1b5S7T9i"
      },
      "source": [
        "kzt = pd.read_csv('/content/drive/MyDrive/DataSets/Currencies/KZT_RUB.csv')\n",
        "usd = pd.read_csv('/content/drive/MyDrive/DataSets/Currencies/USD_RUB.csv')\n",
        "byr = pd.read_csv('/content/drive/MyDrive/DataSets/Currencies/BYN_RUB.csv')\n",
        "uah = pd.read_csv('/content/drive/MyDrive/DataSets/Currencies/UAH_RUB.csv')\n",
        "eur = pd.read_csv('/content/drive/MyDrive/DataSets/Currencies/EUR_RUB.csv')\n",
        "uzs = pd.read_csv('/content/drive/MyDrive/DataSets/Currencies/UZS_RUB.csv')\n",
        "kgs = pd.read_csv('/content/drive/MyDrive/DataSets/Currencies/KGS_RUB.csv')\n",
        "azn = pd.read_csv('/content/drive/MyDrive/DataSets/Currencies/AZN_RUB.csv')\n",
        "gel = pd.read_csv('/content/drive/MyDrive/DataSets/Currencies/GEL_RUB.csv')"
      ],
      "execution_count": null,
      "outputs": []
    },
    {
      "cell_type": "code",
      "metadata": {
        "id": "q9mFqZYsYCeL"
      },
      "source": [
        "def remove_column_currency(df):\n",
        "  df = df.rename(columns={'Change %': 'Change_%', 'Date': 'date', 'Price': 'price'})\n",
        "  df = df.drop(columns=['Open', 'High', 'Low', 'Change_%'])\n",
        "  return df"
      ],
      "execution_count": null,
      "outputs": []
    },
    {
      "cell_type": "code",
      "metadata": {
        "id": "4MPtVXzkPYPQ"
      },
      "source": [
        "def convert_datetime(df):\n",
        "  df.date = pd.to_datetime(df.date).dt.strftime('%Y-%m-%d')\n",
        "  return df"
      ],
      "execution_count": null,
      "outputs": []
    },
    {
      "cell_type": "code",
      "metadata": {
        "id": "QjSuD7P_Ymbx"
      },
      "source": [
        "kzt = remove_column_currency(kzt)\n",
        "usd = remove_column_currency(usd)\n",
        "byr = remove_column_currency(byr)\n",
        "uah = remove_column_currency(uah)\n",
        "eur = remove_column_currency(eur)\n",
        "uzs = remove_column_currency(uzs)\n",
        "kgs = remove_column_currency(kgs)\n",
        "azn = remove_column_currency(azn)\n",
        "gel = remove_column_currency(gel)"
      ],
      "execution_count": null,
      "outputs": []
    },
    {
      "cell_type": "code",
      "metadata": {
        "id": "h-knoLTBhJAz"
      },
      "source": [
        "kzt = convert_datetime(kzt)\n",
        "usd = convert_datetime(usd)\n",
        "byr = convert_datetime(byr)\n",
        "uah = convert_datetime(uah)\n",
        "eur = convert_datetime(eur)\n",
        "uzs = convert_datetime(uzs)\n",
        "kgs = convert_datetime(kgs)\n",
        "azn = convert_datetime(azn)\n",
        "gel = convert_datetime(gel)"
      ],
      "execution_count": null,
      "outputs": []
    },
    {
      "cell_type": "code",
      "metadata": {
        "id": "hkDh2zOwkCku",
        "colab": {
          "base_uri": "https://localhost:8080/"
        },
        "outputId": "1e59ded9-38bb-4047-ba18-f5aa7368fb52"
      },
      "source": [
        "kzt.head(3)"
      ],
      "execution_count": null,
      "outputs": [
        {
          "output_type": "execute_result",
          "data": {
            "text/html": [
              "<div>\n",
              "<style scoped>\n",
              "    .dataframe tbody tr th:only-of-type {\n",
              "        vertical-align: middle;\n",
              "    }\n",
              "\n",
              "    .dataframe tbody tr th {\n",
              "        vertical-align: top;\n",
              "    }\n",
              "\n",
              "    .dataframe thead th {\n",
              "        text-align: right;\n",
              "    }\n",
              "</style>\n",
              "<table border=\"1\" class=\"dataframe\">\n",
              "  <thead>\n",
              "    <tr style=\"text-align: right;\">\n",
              "      <th></th>\n",
              "      <th>date</th>\n",
              "      <th>price</th>\n",
              "    </tr>\n",
              "  </thead>\n",
              "  <tbody>\n",
              "    <tr>\n",
              "      <th>0</th>\n",
              "      <td>2021-01-01</td>\n",
              "      <td>0.1757</td>\n",
              "    </tr>\n",
              "    <tr>\n",
              "      <th>1</th>\n",
              "      <td>2020-12-31</td>\n",
              "      <td>0.1766</td>\n",
              "    </tr>\n",
              "    <tr>\n",
              "      <th>2</th>\n",
              "      <td>2020-12-30</td>\n",
              "      <td>0.1765</td>\n",
              "    </tr>\n",
              "  </tbody>\n",
              "</table>\n",
              "</div>"
            ],
            "text/plain": [
              "         date   price\n",
              "0  2021-01-01  0.1757\n",
              "1  2020-12-31  0.1766\n",
              "2  2020-12-30  0.1765"
            ]
          },
          "metadata": {
            "tags": []
          },
          "execution_count": 68
        }
      ]
    },
    {
      "cell_type": "code",
      "metadata": {
        "id": "P4a5dqhKjEYt",
        "colab": {
          "base_uri": "https://localhost:8080/"
        },
        "outputId": "72179cd6-bf40-490a-e072-e461aec94967"
      },
      "source": [
        "df_kzt = df[df.salary_currency == 'KZT'].merge(kzt, how='left', on='date')\n",
        "df_usd = df[df.salary_currency == 'USD'].merge(usd, how='left', on='date')\n",
        "df_byr = df[df.salary_currency == 'BYR'].merge(byr, how='left', on='date')\n",
        "df_uah = df[df.salary_currency == 'UAH'].merge(uah, how='left', on='date')\n",
        "df_eur = df[df.salary_currency == 'EUR'].merge(eur, how='left', on='date')\n",
        "df_uzs = df[df.salary_currency == 'UZS'].merge(uzs, how='left', on='date')\n",
        "df_kgs = df[df.salary_currency == 'KGS'].merge(kgs, how='left', on='date')\n",
        "df_azn = df[df.salary_currency == 'AZN'].merge(azn, how='left', on='date')\n",
        "df_gel = df[df.salary_currency == 'GEL'].merge(gel, how='left', on='date')\n",
        "\n",
        "df_rouble = df[df.salary_currency == 'RUR']\n",
        "df_rouble['price'] = [1 for i in range(len(df_rouble))]"
      ],
      "execution_count": null,
      "outputs": [
        {
          "output_type": "stream",
          "text": [
            "/usr/local/lib/python3.7/dist-packages/ipykernel_launcher.py:12: SettingWithCopyWarning: \n",
            "A value is trying to be set on a copy of a slice from a DataFrame.\n",
            "Try using .loc[row_indexer,col_indexer] = value instead\n",
            "\n",
            "See the caveats in the documentation: https://pandas.pydata.org/pandas-docs/stable/user_guide/indexing.html#returning-a-view-versus-a-copy\n",
            "  if sys.path[0] == '':\n"
          ],
          "name": "stderr"
        }
      ]
    },
    {
      "cell_type": "code",
      "metadata": {
        "id": "LjuqnAgc6z_I",
        "colab": {
          "base_uri": "https://localhost:8080/"
        },
        "outputId": "615520e0-fce9-4a9f-cda9-670876b02146"
      },
      "source": [
        "display(df_kzt.id[df_kzt.salary_currency.isna() == True].count())\n",
        "display(df_usd.id[df_usd.salary_currency.isna() == True].count())\n",
        "display(df_byr.id[df_byr.salary_currency.isna() == True].count())\n",
        "display(df_uah.id[df_uah.salary_currency.isna() == True].count())\n",
        "display(df_eur.id[df_eur.salary_currency.isna() == True].count())\n",
        "display(df_uzs.id[df_uzs.salary_currency.isna() == True].count())\n",
        "display(df_kgs.id[df_kgs.salary_currency.isna() == True].count())\n",
        "display(df_azn.id[df_azn.salary_currency.isna() == True].count())\n",
        "display(df_gel.id[df_gel.salary_currency.isna() == True].count())"
      ],
      "execution_count": null,
      "outputs": [
        {
          "output_type": "display_data",
          "data": {
            "text/plain": [
              "0"
            ]
          },
          "metadata": {
            "tags": []
          }
        },
        {
          "output_type": "display_data",
          "data": {
            "text/plain": [
              "0"
            ]
          },
          "metadata": {
            "tags": []
          }
        },
        {
          "output_type": "display_data",
          "data": {
            "text/plain": [
              "0"
            ]
          },
          "metadata": {
            "tags": []
          }
        },
        {
          "output_type": "display_data",
          "data": {
            "text/plain": [
              "0"
            ]
          },
          "metadata": {
            "tags": []
          }
        },
        {
          "output_type": "display_data",
          "data": {
            "text/plain": [
              "0"
            ]
          },
          "metadata": {
            "tags": []
          }
        },
        {
          "output_type": "display_data",
          "data": {
            "text/plain": [
              "0"
            ]
          },
          "metadata": {
            "tags": []
          }
        },
        {
          "output_type": "display_data",
          "data": {
            "text/plain": [
              "0"
            ]
          },
          "metadata": {
            "tags": []
          }
        },
        {
          "output_type": "display_data",
          "data": {
            "text/plain": [
              "0"
            ]
          },
          "metadata": {
            "tags": []
          }
        },
        {
          "output_type": "display_data",
          "data": {
            "text/plain": [
              "0"
            ]
          },
          "metadata": {
            "tags": []
          }
        }
      ]
    },
    {
      "cell_type": "code",
      "metadata": {
        "id": "zEgGwkJ38Er1"
      },
      "source": [
        "df1 = df_kzt.append(df_usd).append(df_byr).append(df_uah).append(df_eur).append(df_uzs).append(df_kgs).append(df_azn).append(df_gel).append(df_rouble)"
      ],
      "execution_count": null,
      "outputs": []
    },
    {
      "cell_type": "code",
      "metadata": {
        "id": "ACqCHQMyGZNR"
      },
      "source": [
        "df1['salary_from'] = df1['salary_from'] * df1['price']\n",
        "df1['salary_to'] = df1['salary_to'] * df1['price']"
      ],
      "execution_count": null,
      "outputs": []
    },
    {
      "cell_type": "code",
      "metadata": {
        "id": "brmOZNJjH-Qb"
      },
      "source": [
        "df = df1.drop(columns=['price', 'salary_currency'])"
      ],
      "execution_count": null,
      "outputs": []
    },
    {
      "cell_type": "code",
      "metadata": {
        "id": "gWzHdFd8tIAS",
        "colab": {
          "base_uri": "https://localhost:8080/"
        },
        "outputId": "eea2cdaf-ce7d-48ad-e1b0-5da74f443002"
      },
      "source": [
        "df.head(1)"
      ],
      "execution_count": null,
      "outputs": [
        {
          "output_type": "execute_result",
          "data": {
            "text/html": [
              "<div>\n",
              "<style scoped>\n",
              "    .dataframe tbody tr th:only-of-type {\n",
              "        vertical-align: middle;\n",
              "    }\n",
              "\n",
              "    .dataframe tbody tr th {\n",
              "        vertical-align: top;\n",
              "    }\n",
              "\n",
              "    .dataframe thead th {\n",
              "        text-align: right;\n",
              "    }\n",
              "</style>\n",
              "<table border=\"1\" class=\"dataframe\">\n",
              "  <thead>\n",
              "    <tr style=\"text-align: right;\">\n",
              "      <th></th>\n",
              "      <th>id</th>\n",
              "      <th>key_skills</th>\n",
              "      <th>accept_handicapped</th>\n",
              "      <th>accept_kids</th>\n",
              "      <th>experience</th>\n",
              "      <th>allow_messages</th>\n",
              "      <th>accept_incomplete_resumes</th>\n",
              "      <th>employer_trusted</th>\n",
              "      <th>employer_industries</th>\n",
              "      <th>response_letter_required</th>\n",
              "      <th>has_test</th>\n",
              "      <th>test_required</th>\n",
              "      <th>salary_from</th>\n",
              "      <th>salary_to</th>\n",
              "      <th>salary_gross</th>\n",
              "      <th>name</th>\n",
              "      <th>area_id</th>\n",
              "      <th>date</th>\n",
              "      <th>prof_classes_found</th>\n",
              "      <th>terms_found</th>\n",
              "      <th>schedule_flexible</th>\n",
              "      <th>schedule_flyInFlyOut</th>\n",
              "      <th>schedule_fullDay</th>\n",
              "      <th>schedule_remote</th>\n",
              "      <th>schedule_shift</th>\n",
              "      <th>employment_full</th>\n",
              "      <th>employment_part</th>\n",
              "      <th>employment_probation</th>\n",
              "      <th>employment_project</th>\n",
              "      <th>almaty</th>\n",
              "      <th>vladivostok</th>\n",
              "      <th>volgograd</th>\n",
              "      <th>voronezh</th>\n",
              "      <th>ekaterinburg</th>\n",
              "      <th>kazan</th>\n",
              "      <th>kiev</th>\n",
              "      <th>krasnodar</th>\n",
              "      <th>krasnoyarsk</th>\n",
              "      <th>minsk</th>\n",
              "      <th>moskow</th>\n",
              "      <th>nizhny_novgorod</th>\n",
              "      <th>novosibirsk</th>\n",
              "      <th>nur-sultan</th>\n",
              "      <th>omsk</th>\n",
              "      <th>perm</th>\n",
              "      <th>rostov_on_don</th>\n",
              "      <th>samara</th>\n",
              "      <th>st_petersburg</th>\n",
              "      <th>saratov</th>\n",
              "      <th>tashkent</th>\n",
              "      <th>tomsk</th>\n",
              "      <th>tula</th>\n",
              "      <th>tyumen</th>\n",
              "      <th>ufa</th>\n",
              "      <th>chelyabinsk</th>\n",
              "    </tr>\n",
              "  </thead>\n",
              "  <tbody>\n",
              "    <tr>\n",
              "      <th>0</th>\n",
              "      <td>36625264</td>\n",
              "      <td>1С-Битрикс\\nPHP\\nREST\\nООП\\nHTML5\\nCSS3\\nТехни...</td>\n",
              "      <td>1</td>\n",
              "      <td>0</td>\n",
              "      <td>2.0</td>\n",
              "      <td>1</td>\n",
              "      <td>0</td>\n",
              "      <td>1.0</td>\n",
              "      <td>Земледелие, растениеводство, животноводство</td>\n",
              "      <td>1</td>\n",
              "      <td>0</td>\n",
              "      <td>NaN</td>\n",
              "      <td>70240.0</td>\n",
              "      <td>136968.0</td>\n",
              "      <td>0.0</td>\n",
              "      <td>Битрикс-разработчик</td>\n",
              "      <td>1</td>\n",
              "      <td>2020-05-07</td>\n",
              "      <td>programmer</td>\n",
              "      <td>1c site разработчик rpc rest php архитектура а...</td>\n",
              "      <td>0.0</td>\n",
              "      <td>0.0</td>\n",
              "      <td>0.0</td>\n",
              "      <td>1.0</td>\n",
              "      <td>0.0</td>\n",
              "      <td>1.0</td>\n",
              "      <td>0.0</td>\n",
              "      <td>0.0</td>\n",
              "      <td>0.0</td>\n",
              "      <td>0.0</td>\n",
              "      <td>0.0</td>\n",
              "      <td>0.0</td>\n",
              "      <td>0.0</td>\n",
              "      <td>0.0</td>\n",
              "      <td>0.0</td>\n",
              "      <td>0.0</td>\n",
              "      <td>0.0</td>\n",
              "      <td>0.0</td>\n",
              "      <td>0.0</td>\n",
              "      <td>1.0</td>\n",
              "      <td>0.0</td>\n",
              "      <td>0.0</td>\n",
              "      <td>0.0</td>\n",
              "      <td>0.0</td>\n",
              "      <td>0.0</td>\n",
              "      <td>0.0</td>\n",
              "      <td>0.0</td>\n",
              "      <td>0.0</td>\n",
              "      <td>0.0</td>\n",
              "      <td>0.0</td>\n",
              "      <td>0.0</td>\n",
              "      <td>0.0</td>\n",
              "      <td>0.0</td>\n",
              "      <td>0.0</td>\n",
              "      <td>0.0</td>\n",
              "    </tr>\n",
              "  </tbody>\n",
              "</table>\n",
              "</div>"
            ],
            "text/plain": [
              "         id  ... chelyabinsk\n",
              "0  36625264  ...         0.0\n",
              "\n",
              "[1 rows x 55 columns]"
            ]
          },
          "metadata": {
            "tags": []
          },
          "execution_count": 74
        }
      ]
    },
    {
      "cell_type": "code",
      "metadata": {
        "colab": {
          "base_uri": "https://localhost:8080/"
        },
        "id": "ShYKPJIgBCuz",
        "outputId": "6d183ea1-e19c-4324-979c-fb2fc4c87539"
      },
      "source": [
        "df.shape"
      ],
      "execution_count": null,
      "outputs": [
        {
          "output_type": "execute_result",
          "data": {
            "text/plain": [
              "(55963, 55)"
            ]
          },
          "metadata": {
            "tags": []
          },
          "execution_count": 75
        }
      ]
    },
    {
      "cell_type": "markdown",
      "metadata": {
        "id": "anMBOlqlU4cK"
      },
      "source": [
        "## Outliers"
      ]
    },
    {
      "cell_type": "markdown",
      "metadata": {
        "id": "piYQa8T5ER0i"
      },
      "source": [
        "Conclusions regarding the correctness of the values were based on the knowledge of the domain."
      ]
    },
    {
      "cell_type": "code",
      "metadata": {
        "id": "ogGxgdalU7K3",
        "colab": {
          "base_uri": "https://localhost:8080/"
        },
        "outputId": "d45bb183-9423-4cd3-da7e-905cf2757668"
      },
      "source": [
        "min_salary_from, max_salary_from = df['salary_from'].quantile([0.008, 0.994])\n",
        "min_salary_from, max_salary_from"
      ],
      "execution_count": null,
      "outputs": [
        {
          "output_type": "execute_result",
          "data": {
            "text/plain": [
              "(10000.0, 861597.030000023)"
            ]
          },
          "metadata": {
            "tags": []
          },
          "execution_count": 76
        }
      ]
    },
    {
      "cell_type": "code",
      "metadata": {
        "id": "LVw85qj8-DAA",
        "colab": {
          "base_uri": "https://localhost:8080/"
        },
        "outputId": "3d6c81ba-576f-4817-8829-de0679736b54"
      },
      "source": [
        "min_salary_to, max_salary_to = df['salary_to'].quantile([0.001, 0.999])\n",
        "min_salary_to, max_salary_to"
      ],
      "execution_count": null,
      "outputs": [
        {
          "output_type": "execute_result",
          "data": {
            "text/plain": [
              "(6043.726980000001, 735298270.6400115)"
            ]
          },
          "metadata": {
            "tags": []
          },
          "execution_count": 77
        }
      ]
    },
    {
      "cell_type": "code",
      "metadata": {
        "id": "sK52lKj33XjB",
        "colab": {
          "base_uri": "https://localhost:8080/",
          "height": 279
        },
        "outputId": "a9707c19-28d6-48a1-9573-9accac951029"
      },
      "source": [
        "plt.hist(df.salary_from[df['salary_from'] < df['salary_from'].quantile(1)])\n",
        "plt.xlabel('Salary')\n",
        "plt.ylabel('Count')\n",
        "plt.show()"
      ],
      "execution_count": null,
      "outputs": [
        {
          "output_type": "display_data",
          "data": {
            "image/png": "[encoded data removed]",
            "text/plain": [
              "<Figure size 432x288 with 1 Axes>"
            ]
          },
          "metadata": {
            "tags": [],
            "needs_background": "light"
          }
        }
      ]
    },
    {
      "cell_type": "code",
      "metadata": {
        "id": "yC4o5-g-8DjJ"
      },
      "source": [
        "df = df[df['salary_from'] < max_salary_from]"
      ],
      "execution_count": null,
      "outputs": []
    },
    {
      "cell_type": "code",
      "metadata": {
        "id": "9uBfFIPbF6DV"
      },
      "source": [
        "df = df[df['salary_from'] > min_salary_from]"
      ],
      "execution_count": null,
      "outputs": []
    },
    {
      "cell_type": "code",
      "metadata": {
        "id": "LE6scOnlF6Ld"
      },
      "source": [
        "df = df[df['salary_to'] < max_salary_to]"
      ],
      "execution_count": null,
      "outputs": []
    },
    {
      "cell_type": "code",
      "metadata": {
        "id": "6yD420qH82cj"
      },
      "source": [
        "df = df[df['salary_to'] > min_salary_to]"
      ],
      "execution_count": null,
      "outputs": []
    },
    {
      "cell_type": "code",
      "metadata": {
        "id": "TjRK9cX-_V2F",
        "colab": {
          "base_uri": "https://localhost:8080/",
          "height": 279
        },
        "outputId": "57c8482a-ad60-4fc1-fb20-fd68b6017e91"
      },
      "source": [
        "plt.hist(df.salary_from[df['salary_from'] < df['salary_from'].quantile(1)])\n",
        "plt.xlabel('Salary')\n",
        "plt.ylabel('Count')\n",
        "plt.show()"
      ],
      "execution_count": null,
      "outputs": [
        {
          "output_type": "display_data",
          "data": {
            "image/png": "[encoded data removed]",
            "text/plain": [
              "<Figure size 432x288 with 1 Axes>"
            ]
          },
          "metadata": {
            "tags": [],
            "needs_background": "light"
          }
        }
      ]
    }
  ]
}