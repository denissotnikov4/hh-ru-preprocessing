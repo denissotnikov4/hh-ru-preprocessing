{
  "nbformat": 4,
  "nbformat_minor": 0,
  "metadata": {
    "colab": {
      "name": "HHRU.ipynb",
      "provenance": []
    },
    "kernelspec": {
      "name": "python3",
      "display_name": "Python 3"
    },
    "language_info": {
      "name": "python"
    }
  },
  "cells": [
    {
      "cell_type": "code",
      "metadata": {
        "id": "to3gs_wVcmic"
      },
      "source": [
        "import pandas as pd\n",
        "import numpy as np\n",
        "import seaborn as sns\n",
        "import os"
      ],
      "execution_count": 1,
      "outputs": []
    },
    {
      "cell_type": "code",
      "metadata": {
        "colab": {
          "base_uri": "https://localhost:8080/"
        },
        "id": "3CXDL7z1dGKC",
        "outputId": "fd881892-36b7-4d6a-d525-d0c921faea89"
      },
      "source": [
        "from google.colab import drive\n",
        "drive.mount('/content/drive')"
      ],
      "execution_count": 2,
      "outputs": [
        {
          "output_type": "stream",
          "text": [
            "Drive already mounted at /content/drive; to attempt to forcibly remount, call drive.mount(\"/content/drive\", force_remount=True).\n"
          ],
          "name": "stdout"
        }
      ]
    },
    {
      "cell_type": "code",
      "metadata": {
        "id": "YgmILgIOdDcQ"
      },
      "source": [
        "# Your path to data set below\n",
        "fn = '/content/drive/MyDrive/DataSets/vacancies_2020.csv.gz'\n",
        "df = pd.read_csv(fn, compression='gzip')\n",
        "df.head()"
      ],
      "execution_count": null,
      "outputs": []
    },
    {
      "cell_type": "code",
      "metadata": {
        "colab": {
          "base_uri": "https://localhost:8080/"
        },
        "id": "lNy36bLhhOsR",
        "outputId": "d87ca31c-b227-4acd-ff38-4df44dd37d98"
      },
      "source": [
        "df.shape"
      ],
      "execution_count": null,
      "outputs": [
        {
          "output_type": "execute_result",
          "data": {
            "text/plain": [
              "(587637, 56)"
            ]
          },
          "metadata": {
            "tags": []
          },
          "execution_count": 139
        }
      ]
    },
    {
      "cell_type": "code",
      "metadata": {
        "colab": {
          "base_uri": "https://localhost:8080/"
        },
        "id": "IZymAXBLekvH",
        "outputId": "b55e83e5-9a22-4788-f967-895eb4ceea6d"
      },
      "source": [
        "df.info()"
      ],
      "execution_count": null,
      "outputs": [
        {
          "output_type": "stream",
          "text": [
            "<class 'pandas.core.frame.DataFrame'>\n",
            "RangeIndex: 587637 entries, 0 to 587636\n",
            "Data columns (total 56 columns):\n",
            " #   Column                     Non-Null Count   Dtype  \n",
            "---  ------                     --------------   -----  \n",
            " 0   id                         587637 non-null  int64  \n",
            " 1   description                587637 non-null  object \n",
            " 2   key_skills                 431738 non-null  object \n",
            " 3   schedule_id                587637 non-null  object \n",
            " 4   schedule_name              587637 non-null  object \n",
            " 5   accept_handicapped         587637 non-null  bool   \n",
            " 6   accept_kids                587637 non-null  bool   \n",
            " 7   experience_id              587637 non-null  object \n",
            " 8   experience_name            587637 non-null  object \n",
            " 9   specializations            587637 non-null  object \n",
            " 10  contacts                   12130 non-null   object \n",
            " 11  billing_type_id            587637 non-null  object \n",
            " 12  billing_type_name          587637 non-null  object \n",
            " 13  allow_messages             587637 non-null  bool   \n",
            " 14  premium                    587637 non-null  bool   \n",
            " 15  driver_license_types       1749 non-null    object \n",
            " 16  accept_incomplete_resumes  587637 non-null  bool   \n",
            " 17  employer_id                586477 non-null  float64\n",
            " 18  employer_name              587637 non-null  object \n",
            " 19  employer_vacancies_url     586477 non-null  object \n",
            " 20  employer_trusted           586477 non-null  object \n",
            " 21  employer_alternate_url     586477 non-null  object \n",
            " 22  employer_industries        473202 non-null  object \n",
            " 23  response_letter_required   587637 non-null  bool   \n",
            " 24  type_id                    587637 non-null  object \n",
            " 25  type_name                  587637 non-null  object \n",
            " 26  has_test                   587637 non-null  bool   \n",
            " 27  response_url               757 non-null     object \n",
            " 28  test_required              2948 non-null    object \n",
            " 29  salary_from                258741 non-null  float64\n",
            " 30  salary_to                  164509 non-null  float64\n",
            " 31  salary_gross               284072 non-null  object \n",
            " 32  salary_currency            285014 non-null  object \n",
            " 33  archived                   587637 non-null  bool   \n",
            " 34  name                       587637 non-null  object \n",
            " 35  insider_interview          6570 non-null    object \n",
            " 36  area_id                    587637 non-null  int64  \n",
            " 37  area_name                  587637 non-null  object \n",
            " 38  area_url                   587637 non-null  object \n",
            " 39  created_at                 587637 non-null  object \n",
            " 40  published_at               587637 non-null  object \n",
            " 41  address_city               276688 non-null  object \n",
            " 42  address_street             271467 non-null  object \n",
            " 43  address_building           262952 non-null  object \n",
            " 44  address_description        0 non-null       float64\n",
            " 45  address_lat                278728 non-null  float64\n",
            " 46  address_lng                278728 non-null  float64\n",
            " 47  alternate_url              587637 non-null  object \n",
            " 48  apply_alternate_url        587637 non-null  object \n",
            " 49  code                       6673 non-null    object \n",
            " 50  department_id              39413 non-null   object \n",
            " 51  department_name            39413 non-null   object \n",
            " 52  employment_id              587637 non-null  object \n",
            " 53  employment_name            587637 non-null  object \n",
            " 54  prof_classes_found         576794 non-null  object \n",
            " 55  terms_found                583826 non-null  object \n",
            "dtypes: bool(8), float64(6), int64(2), object(40)\n",
            "memory usage: 219.7+ MB\n"
          ],
          "name": "stdout"
        }
      ]
    },
    {
      "cell_type": "markdown",
      "metadata": {
        "id": "I8xEIquTrC9w"
      },
      "source": [
        "---\n",
        "# Rename and drop columns\n",
        "---\n"
      ]
    },
    {
      "cell_type": "code",
      "metadata": {
        "id": "wkWx_Q9LU22h"
      },
      "source": [
        "df = df.rename(columns={'schedule_id': 'schedule', \n",
        "                        'experience_id': 'experience',\n",
        "                        'billing_type_id':'billing_type',\n",
        "                        'type_id': 'type',\n",
        "                        'department_id': 'department',\n",
        "                        'employment_id': 'employment',\n",
        "                        'published_at': 'date'})"
      ],
      "execution_count": null,
      "outputs": []
    },
    {
      "cell_type": "code",
      "metadata": {
        "id": "0AGi93xl0Q6c"
      },
      "source": [
        "df = df.drop(columns=['billing_type_name', 'schedule_name', 'experience_name', \n",
        "                      'type_name', 'address_street', 'address_building', \n",
        "                      'address_description', 'address_lat', 'address_lng', \n",
        "                      'address_lng', 'contacts', 'driver_license_types', \n",
        "                      'response_url', 'insider_interview', 'code', 'department', \n",
        "                      'department_name', 'employment_name', 'area_url',\n",
        "                      'created_at', 'employer_alternate_url', \n",
        "                      'apply_alternate_url', 'type', 'billing_type', \n",
        "                      'address_city', 'description', 'specializations', \n",
        "                      'employer_name', 'employer_vacancies_url', 'alternate_url',\n",
        "                      'premium', 'employer_id'])"
      ],
      "execution_count": null,
      "outputs": []
    },
    {
      "cell_type": "code",
      "metadata": {
        "colab": {
          "base_uri": "https://localhost:8080/"
        },
        "id": "W7wFDKzy_9BD",
        "outputId": "1bb46d8c-b8ee-4e4f-a580-4e43d67af0ae"
      },
      "source": [
        "df.shape"
      ],
      "execution_count": null,
      "outputs": [
        {
          "output_type": "execute_result",
          "data": {
            "text/plain": [
              "(587637, 25)"
            ]
          },
          "metadata": {
            "tags": []
          },
          "execution_count": 143
        }
      ]
    },
    {
      "cell_type": "markdown",
      "metadata": {
        "id": "DWQkQHHSrMO1"
      },
      "source": [
        "---\n",
        "# Data filtering\n",
        "---\n"
      ]
    },
    {
      "cell_type": "code",
      "metadata": {
        "id": "JmwkIFgL4FsZ"
      },
      "source": [
        "df = df[df.archived == 1]"
      ],
      "execution_count": null,
      "outputs": []
    },
    {
      "cell_type": "code",
      "metadata": {
        "id": "0GbUXuorrbqD"
      },
      "source": [
        "df = df[(df.salary_from.isna() == False) & (df.salary_to.isna() == False) & (df.key_skills.isna() == False)]"
      ],
      "execution_count": null,
      "outputs": []
    },
    {
      "cell_type": "code",
      "metadata": {
        "colab": {
          "base_uri": "https://localhost:8080/"
        },
        "id": "ZC_K3wb-0o0p",
        "outputId": "22f3dab3-aafb-407f-92fa-6b2b8d24578b"
      },
      "source": [
        "df.prof_classes_found.value_counts().head()"
      ],
      "execution_count": null,
      "outputs": [
        {
          "output_type": "execute_result",
          "data": {
            "text/plain": [
              "programmer    23834\n",
              "prodajnik      8757\n",
              "support        5886\n",
              "sysadmin       4885\n",
              "specialist     3921\n",
              "Name: prof_classes_found, dtype: int64"
            ]
          },
          "metadata": {
            "tags": []
          },
          "execution_count": 146
        }
      ]
    },
    {
      "cell_type": "code",
      "metadata": {
        "id": "lR4bUEJB0tnC"
      },
      "source": [
        "df = df[df.prof_classes_found != 'prodajnik']\n",
        "df = df[df.prof_classes_found != 'montajnik']\n",
        "df = df[df.prof_classes_found != 'teacher']\n",
        "df = df[df.prof_classes_found != 'just_work']\n",
        "df = df[df.prof_classes_found != 'montajnik electric']\n",
        "df = df[df.prof_classes_found != 'rukovoditel_zam']\n",
        "df = df[df.prof_classes_found != 'prodajnik electric']\n",
        "df = df[df.prof_classes_found != 'electric']\n",
        "df = df[(df.prof_classes_found != 'prodajnik technic')]\n",
        "df = df[df.employment != 'volunteer']"
      ],
      "execution_count": null,
      "outputs": []
    },
    {
      "cell_type": "code",
      "metadata": {
        "id": "Jj-MSnH7fzDu"
      },
      "source": [
        "df = df.reset_index(drop=True)"
      ],
      "execution_count": null,
      "outputs": []
    },
    {
      "cell_type": "code",
      "metadata": {
        "id": "VKHSNCmi4aOb",
        "colab": {
          "base_uri": "https://localhost:8080/"
        },
        "outputId": "c963f007-69b5-4a02-c929-bcf11f8bd63a"
      },
      "source": [
        "df.shape"
      ],
      "execution_count": null,
      "outputs": [
        {
          "output_type": "execute_result",
          "data": {
            "text/plain": [
              "(75384, 25)"
            ]
          },
          "metadata": {
            "tags": []
          },
          "execution_count": 149
        }
      ]
    },
    {
      "cell_type": "code",
      "metadata": {
        "id": "bq6iY3Q9utnG"
      },
      "source": [
        "df = df.drop(columns='archived')"
      ],
      "execution_count": null,
      "outputs": []
    },
    {
      "cell_type": "code",
      "metadata": {
        "colab": {
          "base_uri": "https://localhost:8080/"
        },
        "id": "A8SlQgzLf1xi",
        "outputId": "0037734e-0240-4640-e6dd-37b5f1115307"
      },
      "source": [
        "df.head()"
      ],
      "execution_count": null,
      "outputs": [
        {
          "output_type": "execute_result",
          "data": {
            "text/html": [
              "<div>\n",
              "<style scoped>\n",
              "    .dataframe tbody tr th:only-of-type {\n",
              "        vertical-align: middle;\n",
              "    }\n",
              "\n",
              "    .dataframe tbody tr th {\n",
              "        vertical-align: top;\n",
              "    }\n",
              "\n",
              "    .dataframe thead th {\n",
              "        text-align: right;\n",
              "    }\n",
              "</style>\n",
              "<table border=\"1\" class=\"dataframe\">\n",
              "  <thead>\n",
              "    <tr style=\"text-align: right;\">\n",
              "      <th></th>\n",
              "      <th>id</th>\n",
              "      <th>key_skills</th>\n",
              "      <th>schedule</th>\n",
              "      <th>accept_handicapped</th>\n",
              "      <th>accept_kids</th>\n",
              "      <th>experience</th>\n",
              "      <th>allow_messages</th>\n",
              "      <th>accept_incomplete_resumes</th>\n",
              "      <th>employer_trusted</th>\n",
              "      <th>employer_industries</th>\n",
              "      <th>response_letter_required</th>\n",
              "      <th>has_test</th>\n",
              "      <th>test_required</th>\n",
              "      <th>salary_from</th>\n",
              "      <th>salary_to</th>\n",
              "      <th>salary_gross</th>\n",
              "      <th>salary_currency</th>\n",
              "      <th>name</th>\n",
              "      <th>area_id</th>\n",
              "      <th>area_name</th>\n",
              "      <th>date</th>\n",
              "      <th>employment</th>\n",
              "      <th>prof_classes_found</th>\n",
              "      <th>terms_found</th>\n",
              "    </tr>\n",
              "  </thead>\n",
              "  <tbody>\n",
              "    <tr>\n",
              "      <th>0</th>\n",
              "      <td>33721414</td>\n",
              "      <td>Активные продажи\\nХолодные продажи\\nПрямые про...</td>\n",
              "      <td>fullDay</td>\n",
              "      <td>False</td>\n",
              "      <td>False</td>\n",
              "      <td>noExperience</td>\n",
              "      <td>True</td>\n",
              "      <td>False</td>\n",
              "      <td>True</td>\n",
              "      <td>Интернет-провайдер\\nОптоволоконная связь\\nФикс...</td>\n",
              "      <td>False</td>\n",
              "      <td>False</td>\n",
              "      <td>NaN</td>\n",
              "      <td>14000.0</td>\n",
              "      <td>50000.0</td>\n",
              "      <td>True</td>\n",
              "      <td>RUR</td>\n",
              "      <td>Агент по сбору заявок на подключение</td>\n",
              "      <td>52</td>\n",
              "      <td>Кострома</td>\n",
              "      <td>2020-02-03T09:05:56+0300</td>\n",
              "      <td>full</td>\n",
              "      <td>NaN</td>\n",
              "      <td>дружный_коллектив опыт_работы</td>\n",
              "    </tr>\n",
              "    <tr>\n",
              "      <th>1</th>\n",
              "      <td>33723735</td>\n",
              "      <td>B2B Продажи\\nВедение переговоров</td>\n",
              "      <td>fullDay</td>\n",
              "      <td>False</td>\n",
              "      <td>False</td>\n",
              "      <td>noExperience</td>\n",
              "      <td>True</td>\n",
              "      <td>True</td>\n",
              "      <td>True</td>\n",
              "      <td>Оптоволоконная связь\\nФиксированная связь</td>\n",
              "      <td>False</td>\n",
              "      <td>False</td>\n",
              "      <td>NaN</td>\n",
              "      <td>35000.0</td>\n",
              "      <td>60000.0</td>\n",
              "      <td>False</td>\n",
              "      <td>RUR</td>\n",
              "      <td>Менеджер по работе с корпоративными клиентами</td>\n",
              "      <td>1753</td>\n",
              "      <td>Череповец</td>\n",
              "      <td>2020-01-15T10:44:35+0300</td>\n",
              "      <td>full</td>\n",
              "      <td>support</td>\n",
              "      <td>комфортный_офис power_point менеджер_по_продаж...</td>\n",
              "    </tr>\n",
              "    <tr>\n",
              "      <th>2</th>\n",
              "      <td>36620015</td>\n",
              "      <td>Windows 7\\nВысокая скорость печати\\nWindows Os...</td>\n",
              "      <td>fullDay</td>\n",
              "      <td>False</td>\n",
              "      <td>False</td>\n",
              "      <td>between3And6</td>\n",
              "      <td>True</td>\n",
              "      <td>False</td>\n",
              "      <td>True</td>\n",
              "      <td>NaN</td>\n",
              "      <td>False</td>\n",
              "      <td>False</td>\n",
              "      <td>NaN</td>\n",
              "      <td>30000.0</td>\n",
              "      <td>35000.0</td>\n",
              "      <td>False</td>\n",
              "      <td>RUR</td>\n",
              "      <td>Инженер-программист</td>\n",
              "      <td>90</td>\n",
              "      <td>Томск</td>\n",
              "      <td>2020-04-10T12:40:35+0300</td>\n",
              "      <td>full</td>\n",
              "      <td>programmer</td>\n",
              "      <td>высшее_образование windows_7 windows_2003 тест...</td>\n",
              "    </tr>\n",
              "    <tr>\n",
              "      <th>3</th>\n",
              "      <td>36620022</td>\n",
              "      <td>Atlassian Jira\\nSQL\\nБазы данных\\nРазработка т...</td>\n",
              "      <td>fullDay</td>\n",
              "      <td>False</td>\n",
              "      <td>False</td>\n",
              "      <td>between1And3</td>\n",
              "      <td>True</td>\n",
              "      <td>False</td>\n",
              "      <td>True</td>\n",
              "      <td>Системная интеграция,  автоматизации технологи...</td>\n",
              "      <td>False</td>\n",
              "      <td>False</td>\n",
              "      <td>NaN</td>\n",
              "      <td>45000.0</td>\n",
              "      <td>73000.0</td>\n",
              "      <td>True</td>\n",
              "      <td>RUR</td>\n",
              "      <td>Системный аналитик</td>\n",
              "      <td>90</td>\n",
              "      <td>Томск</td>\n",
              "      <td>2020-04-10T12:40:57+0300</td>\n",
              "      <td>full</td>\n",
              "      <td>analyst</td>\n",
              "      <td>высшее_образование site разработчик google_ana...</td>\n",
              "    </tr>\n",
              "    <tr>\n",
              "      <th>4</th>\n",
              "      <td>36620106</td>\n",
              "      <td>JavaScript\\nReact\\nReactNative</td>\n",
              "      <td>fullDay</td>\n",
              "      <td>False</td>\n",
              "      <td>False</td>\n",
              "      <td>between3And6</td>\n",
              "      <td>True</td>\n",
              "      <td>False</td>\n",
              "      <td>True</td>\n",
              "      <td>Научно-исследовательская, научная, академическ...</td>\n",
              "      <td>False</td>\n",
              "      <td>False</td>\n",
              "      <td>NaN</td>\n",
              "      <td>150000.0</td>\n",
              "      <td>200000.0</td>\n",
              "      <td>False</td>\n",
              "      <td>RUR</td>\n",
              "      <td>Frontend developer (React)</td>\n",
              "      <td>1</td>\n",
              "      <td>Москва</td>\n",
              "      <td>2020-04-10T12:47:20+0300</td>\n",
              "      <td>full</td>\n",
              "      <td>programmer</td>\n",
              "      <td>разработчик react медицинская_страховка опыт_р...</td>\n",
              "    </tr>\n",
              "  </tbody>\n",
              "</table>\n",
              "</div>"
            ],
            "text/plain": [
              "         id  ...                                        terms_found\n",
              "0  33721414  ...                      дружный_коллектив опыт_работы\n",
              "1  33723735  ...  комфортный_офис power_point менеджер_по_продаж...\n",
              "2  36620015  ...  высшее_образование windows_7 windows_2003 тест...\n",
              "3  36620022  ...  высшее_образование site разработчик google_ana...\n",
              "4  36620106  ...  разработчик react медицинская_страховка опыт_р...\n",
              "\n",
              "[5 rows x 24 columns]"
            ]
          },
          "metadata": {
            "tags": []
          },
          "execution_count": 151
        }
      ]
    },
    {
      "cell_type": "markdown",
      "metadata": {
        "id": "wHHrPCrRbMmz"
      },
      "source": [
        "---\n",
        "# Change a Categorical data\n",
        "---\n"
      ]
    },
    {
      "cell_type": "code",
      "metadata": {
        "id": "aR6X1p48ZoCX"
      },
      "source": [
        "from sklearn.preprocessing import OneHotEncoder, OrdinalEncoder"
      ],
      "execution_count": null,
      "outputs": []
    },
    {
      "cell_type": "code",
      "metadata": {
        "id": "uthNgIY_bpDq"
      },
      "source": [
        "onehot_encoder = OneHotEncoder(sparse=False)"
      ],
      "execution_count": null,
      "outputs": []
    },
    {
      "cell_type": "code",
      "metadata": {
        "id": "cYpsU6YNeZIe"
      },
      "source": [
        "# Change a boolean value\n",
        "df[\"accept_handicapped\"]        = df[\"accept_handicapped\"].replace([False, True], [0, 1])\n",
        "df[\"accept_kids\"]               = df[\"accept_kids\"].replace([False, True], [0, 1])\n",
        "df[\"allow_messages\"]            = df[\"allow_messages\"].replace([False, True], [0, 1])\n",
        "df[\"accept_incomplete_resumes\"] = df[\"accept_incomplete_resumes\"].replace([False, True], [0, 1])\n",
        "df[\"response_letter_required\"]  = df[\"response_letter_required\"].replace([False, True], [0, 1])\n",
        "df[\"has_test\"]                  = df[\"has_test\"].replace([False, True], [0, 1])"
      ],
      "execution_count": null,
      "outputs": []
    },
    {
      "cell_type": "code",
      "metadata": {
        "id": "sMvlhu5yhKC1"
      },
      "source": [
        "# Change a object value\n",
        "df[\"employer_trusted\"] = df[\"employer_trusted\"].replace([False, True], [0, 1])\n",
        "df[\"test_required\"]    = df[\"test_required\"].replace([False, True], [0, 1])\n",
        "df[\"salary_gross\"]     = df[\"salary_gross\"].replace([False, True], [0, 1])"
      ],
      "execution_count": null,
      "outputs": []
    },
    {
      "cell_type": "code",
      "metadata": {
        "colab": {
          "base_uri": "https://localhost:8080/"
        },
        "id": "xEwa32vKUVGv",
        "outputId": "86d8b45c-589b-48ff-f0e5-1294337c41c4"
      },
      "source": [
        "df.head(1)"
      ],
      "execution_count": null,
      "outputs": [
        {
          "output_type": "execute_result",
          "data": {
            "text/html": [
              "<div>\n",
              "<style scoped>\n",
              "    .dataframe tbody tr th:only-of-type {\n",
              "        vertical-align: middle;\n",
              "    }\n",
              "\n",
              "    .dataframe tbody tr th {\n",
              "        vertical-align: top;\n",
              "    }\n",
              "\n",
              "    .dataframe thead th {\n",
              "        text-align: right;\n",
              "    }\n",
              "</style>\n",
              "<table border=\"1\" class=\"dataframe\">\n",
              "  <thead>\n",
              "    <tr style=\"text-align: right;\">\n",
              "      <th></th>\n",
              "      <th>id</th>\n",
              "      <th>key_skills</th>\n",
              "      <th>schedule</th>\n",
              "      <th>accept_handicapped</th>\n",
              "      <th>accept_kids</th>\n",
              "      <th>experience</th>\n",
              "      <th>allow_messages</th>\n",
              "      <th>accept_incomplete_resumes</th>\n",
              "      <th>employer_trusted</th>\n",
              "      <th>employer_industries</th>\n",
              "      <th>response_letter_required</th>\n",
              "      <th>has_test</th>\n",
              "      <th>test_required</th>\n",
              "      <th>salary_from</th>\n",
              "      <th>salary_to</th>\n",
              "      <th>salary_gross</th>\n",
              "      <th>salary_currency</th>\n",
              "      <th>name</th>\n",
              "      <th>area_id</th>\n",
              "      <th>area_name</th>\n",
              "      <th>date</th>\n",
              "      <th>employment</th>\n",
              "      <th>prof_classes_found</th>\n",
              "      <th>terms_found</th>\n",
              "    </tr>\n",
              "  </thead>\n",
              "  <tbody>\n",
              "    <tr>\n",
              "      <th>0</th>\n",
              "      <td>33721414</td>\n",
              "      <td>Активные продажи\\nХолодные продажи\\nПрямые про...</td>\n",
              "      <td>fullDay</td>\n",
              "      <td>0</td>\n",
              "      <td>0</td>\n",
              "      <td>noExperience</td>\n",
              "      <td>1</td>\n",
              "      <td>0</td>\n",
              "      <td>1.0</td>\n",
              "      <td>Интернет-провайдер\\nОптоволоконная связь\\nФикс...</td>\n",
              "      <td>0</td>\n",
              "      <td>0</td>\n",
              "      <td>NaN</td>\n",
              "      <td>14000.0</td>\n",
              "      <td>50000.0</td>\n",
              "      <td>1.0</td>\n",
              "      <td>RUR</td>\n",
              "      <td>Агент по сбору заявок на подключение</td>\n",
              "      <td>52</td>\n",
              "      <td>Кострома</td>\n",
              "      <td>2020-02-03T09:05:56+0300</td>\n",
              "      <td>full</td>\n",
              "      <td>NaN</td>\n",
              "      <td>дружный_коллектив опыт_работы</td>\n",
              "    </tr>\n",
              "  </tbody>\n",
              "</table>\n",
              "</div>"
            ],
            "text/plain": [
              "         id  ...                    terms_found\n",
              "0  33721414  ...  дружный_коллектив опыт_работы\n",
              "\n",
              "[1 rows x 24 columns]"
            ]
          },
          "metadata": {
            "tags": []
          },
          "execution_count": 156
        }
      ]
    },
    {
      "cell_type": "markdown",
      "metadata": {
        "id": "0xsNJNeAP9yz"
      },
      "source": [
        "---\n",
        "### OneHotEncoder for the \"schedule\" column\n",
        "---\n"
      ]
    },
    {
      "cell_type": "code",
      "metadata": {
        "id": "pg0ho0KFOaaf",
        "colab": {
          "base_uri": "https://localhost:8080/"
        },
        "outputId": "a844dbbe-616a-4622-ae97-243f29ba1a2f"
      },
      "source": [
        "df.schedule.value_counts()"
      ],
      "execution_count": null,
      "outputs": [
        {
          "output_type": "execute_result",
          "data": {
            "text/plain": [
              "fullDay        53464\n",
              "remote         13539\n",
              "flexible        4924\n",
              "shift           2258\n",
              "flyInFlyOut     1199\n",
              "Name: schedule, dtype: int64"
            ]
          },
          "metadata": {
            "tags": []
          },
          "execution_count": 157
        }
      ]
    },
    {
      "cell_type": "code",
      "metadata": {
        "id": "_1odl3OkmooK",
        "colab": {
          "base_uri": "https://localhost:8080/"
        },
        "outputId": "c2fcce20-7aee-4d6f-dc9c-667179fbf2aa"
      },
      "source": [
        "df.id[df.schedule.isna() == True].count()"
      ],
      "execution_count": null,
      "outputs": [
        {
          "output_type": "execute_result",
          "data": {
            "text/plain": [
              "0"
            ]
          },
          "metadata": {
            "tags": []
          },
          "execution_count": 158
        }
      ]
    },
    {
      "cell_type": "code",
      "metadata": {
        "id": "mZ2QU6TEkYcp"
      },
      "source": [
        "schd = pd.DataFrame(onehot_encoder.fit_transform(df[['schedule']]))\n",
        "schd = schd.rename(columns={0: 'schedule_flexible', 1: 'schedule_flyInFlyOut', \n",
        "                            2: 'schedule_fullDay', 3: 'schedule_remote', \n",
        "                            4: 'schedule_shift'})"
      ],
      "execution_count": null,
      "outputs": []
    },
    {
      "cell_type": "code",
      "metadata": {
        "id": "ZzPW28ihkl-X",
        "colab": {
          "base_uri": "https://localhost:8080/"
        },
        "outputId": "30c5eb84-75a0-4bc1-a5a2-a4d5f3a25e1e"
      },
      "source": [
        "schd.shape"
      ],
      "execution_count": null,
      "outputs": [
        {
          "output_type": "execute_result",
          "data": {
            "text/plain": [
              "(75384, 5)"
            ]
          },
          "metadata": {
            "tags": []
          },
          "execution_count": 160
        }
      ]
    },
    {
      "cell_type": "code",
      "metadata": {
        "id": "tm0RSk9blmMW"
      },
      "source": [
        "df['schedule_flexible']    = schd.schedule_flexible\n",
        "df['schedule_flyInFlyOut'] = schd.schedule_flyInFlyOut\n",
        "df['schedule_fullDay']     = schd.schedule_fullDay\n",
        "df['schedule_remote']   = schd.schedule_remote\n",
        "df['schedule_shift']   = schd.schedule_shift"
      ],
      "execution_count": null,
      "outputs": []
    },
    {
      "cell_type": "code",
      "metadata": {
        "id": "Wx1UDLnOl_Q9",
        "colab": {
          "base_uri": "https://localhost:8080/"
        },
        "outputId": "ca368f1e-d6b8-4202-939a-a31d2ba1b5b7"
      },
      "source": [
        "df.head(1)"
      ],
      "execution_count": null,
      "outputs": [
        {
          "output_type": "execute_result",
          "data": {
            "text/html": [
              "<div>\n",
              "<style scoped>\n",
              "    .dataframe tbody tr th:only-of-type {\n",
              "        vertical-align: middle;\n",
              "    }\n",
              "\n",
              "    .dataframe tbody tr th {\n",
              "        vertical-align: top;\n",
              "    }\n",
              "\n",
              "    .dataframe thead th {\n",
              "        text-align: right;\n",
              "    }\n",
              "</style>\n",
              "<table border=\"1\" class=\"dataframe\">\n",
              "  <thead>\n",
              "    <tr style=\"text-align: right;\">\n",
              "      <th></th>\n",
              "      <th>id</th>\n",
              "      <th>key_skills</th>\n",
              "      <th>schedule</th>\n",
              "      <th>accept_handicapped</th>\n",
              "      <th>accept_kids</th>\n",
              "      <th>experience</th>\n",
              "      <th>allow_messages</th>\n",
              "      <th>accept_incomplete_resumes</th>\n",
              "      <th>employer_trusted</th>\n",
              "      <th>employer_industries</th>\n",
              "      <th>response_letter_required</th>\n",
              "      <th>has_test</th>\n",
              "      <th>test_required</th>\n",
              "      <th>salary_from</th>\n",
              "      <th>salary_to</th>\n",
              "      <th>salary_gross</th>\n",
              "      <th>salary_currency</th>\n",
              "      <th>name</th>\n",
              "      <th>area_id</th>\n",
              "      <th>area_name</th>\n",
              "      <th>date</th>\n",
              "      <th>employment</th>\n",
              "      <th>prof_classes_found</th>\n",
              "      <th>terms_found</th>\n",
              "      <th>schedule_flexible</th>\n",
              "      <th>schedule_flyInFlyOut</th>\n",
              "      <th>schedule_fullDay</th>\n",
              "      <th>schedule_remote</th>\n",
              "      <th>schedule_shift</th>\n",
              "    </tr>\n",
              "  </thead>\n",
              "  <tbody>\n",
              "    <tr>\n",
              "      <th>0</th>\n",
              "      <td>33721414</td>\n",
              "      <td>Активные продажи\\nХолодные продажи\\nПрямые про...</td>\n",
              "      <td>fullDay</td>\n",
              "      <td>0</td>\n",
              "      <td>0</td>\n",
              "      <td>noExperience</td>\n",
              "      <td>1</td>\n",
              "      <td>0</td>\n",
              "      <td>1.0</td>\n",
              "      <td>Интернет-провайдер\\nОптоволоконная связь\\nФикс...</td>\n",
              "      <td>0</td>\n",
              "      <td>0</td>\n",
              "      <td>NaN</td>\n",
              "      <td>14000.0</td>\n",
              "      <td>50000.0</td>\n",
              "      <td>1.0</td>\n",
              "      <td>RUR</td>\n",
              "      <td>Агент по сбору заявок на подключение</td>\n",
              "      <td>52</td>\n",
              "      <td>Кострома</td>\n",
              "      <td>2020-02-03T09:05:56+0300</td>\n",
              "      <td>full</td>\n",
              "      <td>NaN</td>\n",
              "      <td>дружный_коллектив опыт_работы</td>\n",
              "      <td>0.0</td>\n",
              "      <td>0.0</td>\n",
              "      <td>1.0</td>\n",
              "      <td>0.0</td>\n",
              "      <td>0.0</td>\n",
              "    </tr>\n",
              "  </tbody>\n",
              "</table>\n",
              "</div>"
            ],
            "text/plain": [
              "         id  ... schedule_shift\n",
              "0  33721414  ...            0.0\n",
              "\n",
              "[1 rows x 29 columns]"
            ]
          },
          "metadata": {
            "tags": []
          },
          "execution_count": 162
        }
      ]
    },
    {
      "cell_type": "code",
      "metadata": {
        "id": "oeb64xWxmDla"
      },
      "source": [
        "df = df.drop(columns='schedule')"
      ],
      "execution_count": null,
      "outputs": []
    },
    {
      "cell_type": "code",
      "metadata": {
        "id": "vMwTa--RmgaN",
        "colab": {
          "base_uri": "https://localhost:8080/"
        },
        "outputId": "eb2a0cbf-2ca1-4a80-9a88-fe6a345d678a"
      },
      "source": [
        "df.shape"
      ],
      "execution_count": null,
      "outputs": [
        {
          "output_type": "execute_result",
          "data": {
            "text/plain": [
              "(75384, 28)"
            ]
          },
          "metadata": {
            "tags": []
          },
          "execution_count": 164
        }
      ]
    },
    {
      "cell_type": "markdown",
      "metadata": {
        "id": "2IhH-xsLd_Hy"
      },
      "source": [
        "---\n",
        "### OneHotEncoder for the \"employment\" column\n",
        "---"
      ]
    },
    {
      "cell_type": "code",
      "metadata": {
        "id": "5F3625lrnLHv",
        "colab": {
          "base_uri": "https://localhost:8080/"
        },
        "outputId": "a3b935bd-17a5-44d4-defc-aaef3aad270e"
      },
      "source": [
        "df.id[df.employment.isna() == True].count()"
      ],
      "execution_count": null,
      "outputs": [
        {
          "output_type": "execute_result",
          "data": {
            "text/plain": [
              "0"
            ]
          },
          "metadata": {
            "tags": []
          },
          "execution_count": 165
        }
      ]
    },
    {
      "cell_type": "code",
      "metadata": {
        "id": "cxEz2J4CblBB",
        "colab": {
          "base_uri": "https://localhost:8080/"
        },
        "outputId": "45589553-2b0d-4b49-8c47-2137e834ccfe"
      },
      "source": [
        "empl = pd.DataFrame(onehot_encoder.fit_transform(df[['employment']]))\n",
        "empl = empl.rename(columns={0 : 'employment_full', 1: 'employment_part', \n",
        "                            2: 'employment_probation', 3: 'employment_project'})\n",
        "empl.shape"
      ],
      "execution_count": null,
      "outputs": [
        {
          "output_type": "execute_result",
          "data": {
            "text/plain": [
              "(75384, 4)"
            ]
          },
          "metadata": {
            "tags": []
          },
          "execution_count": 166
        }
      ]
    },
    {
      "cell_type": "code",
      "metadata": {
        "id": "4SjIlXuDiSuI"
      },
      "source": [
        "df['employment_full']      = empl.employment_full\n",
        "df['employment_part']      = empl.employment_part\n",
        "df['employment_probation'] = empl.employment_probation\n",
        "df['employment_project']   = empl.employment_project"
      ],
      "execution_count": null,
      "outputs": []
    },
    {
      "cell_type": "code",
      "metadata": {
        "id": "ghuljcSsia6W"
      },
      "source": [
        "df = df.drop(columns='employment')"
      ],
      "execution_count": null,
      "outputs": []
    },
    {
      "cell_type": "code",
      "metadata": {
        "id": "VsbMmn9htWR7",
        "colab": {
          "base_uri": "https://localhost:8080/"
        },
        "outputId": "45bf0788-0eaa-455a-cca8-94971ae79d67"
      },
      "source": [
        "df.head(1)"
      ],
      "execution_count": null,
      "outputs": [
        {
          "output_type": "execute_result",
          "data": {
            "text/html": [
              "<div>\n",
              "<style scoped>\n",
              "    .dataframe tbody tr th:only-of-type {\n",
              "        vertical-align: middle;\n",
              "    }\n",
              "\n",
              "    .dataframe tbody tr th {\n",
              "        vertical-align: top;\n",
              "    }\n",
              "\n",
              "    .dataframe thead th {\n",
              "        text-align: right;\n",
              "    }\n",
              "</style>\n",
              "<table border=\"1\" class=\"dataframe\">\n",
              "  <thead>\n",
              "    <tr style=\"text-align: right;\">\n",
              "      <th></th>\n",
              "      <th>id</th>\n",
              "      <th>key_skills</th>\n",
              "      <th>accept_handicapped</th>\n",
              "      <th>accept_kids</th>\n",
              "      <th>experience</th>\n",
              "      <th>allow_messages</th>\n",
              "      <th>accept_incomplete_resumes</th>\n",
              "      <th>employer_trusted</th>\n",
              "      <th>employer_industries</th>\n",
              "      <th>response_letter_required</th>\n",
              "      <th>has_test</th>\n",
              "      <th>test_required</th>\n",
              "      <th>salary_from</th>\n",
              "      <th>salary_to</th>\n",
              "      <th>salary_gross</th>\n",
              "      <th>salary_currency</th>\n",
              "      <th>name</th>\n",
              "      <th>area_id</th>\n",
              "      <th>area_name</th>\n",
              "      <th>date</th>\n",
              "      <th>prof_classes_found</th>\n",
              "      <th>terms_found</th>\n",
              "      <th>schedule_flexible</th>\n",
              "      <th>schedule_flyInFlyOut</th>\n",
              "      <th>schedule_fullDay</th>\n",
              "      <th>schedule_remote</th>\n",
              "      <th>schedule_shift</th>\n",
              "      <th>employment_full</th>\n",
              "      <th>employment_part</th>\n",
              "      <th>employment_probation</th>\n",
              "      <th>employment_project</th>\n",
              "    </tr>\n",
              "  </thead>\n",
              "  <tbody>\n",
              "    <tr>\n",
              "      <th>0</th>\n",
              "      <td>33721414</td>\n",
              "      <td>Активные продажи\\nХолодные продажи\\nПрямые про...</td>\n",
              "      <td>0</td>\n",
              "      <td>0</td>\n",
              "      <td>noExperience</td>\n",
              "      <td>1</td>\n",
              "      <td>0</td>\n",
              "      <td>1.0</td>\n",
              "      <td>Интернет-провайдер\\nОптоволоконная связь\\nФикс...</td>\n",
              "      <td>0</td>\n",
              "      <td>0</td>\n",
              "      <td>NaN</td>\n",
              "      <td>14000.0</td>\n",
              "      <td>50000.0</td>\n",
              "      <td>1.0</td>\n",
              "      <td>RUR</td>\n",
              "      <td>Агент по сбору заявок на подключение</td>\n",
              "      <td>52</td>\n",
              "      <td>Кострома</td>\n",
              "      <td>2020-02-03T09:05:56+0300</td>\n",
              "      <td>NaN</td>\n",
              "      <td>дружный_коллектив опыт_работы</td>\n",
              "      <td>0.0</td>\n",
              "      <td>0.0</td>\n",
              "      <td>1.0</td>\n",
              "      <td>0.0</td>\n",
              "      <td>0.0</td>\n",
              "      <td>1.0</td>\n",
              "      <td>0.0</td>\n",
              "      <td>0.0</td>\n",
              "      <td>0.0</td>\n",
              "    </tr>\n",
              "  </tbody>\n",
              "</table>\n",
              "</div>"
            ],
            "text/plain": [
              "         id  ... employment_project\n",
              "0  33721414  ...                0.0\n",
              "\n",
              "[1 rows x 31 columns]"
            ]
          },
          "metadata": {
            "tags": []
          },
          "execution_count": 169
        }
      ]
    },
    {
      "cell_type": "markdown",
      "metadata": {
        "id": "9RfXGz5Go4P0"
      },
      "source": [
        "---\n",
        "### OneHotEncoder for the \"area_name\" column \n",
        "---\n"
      ]
    },
    {
      "cell_type": "code",
      "metadata": {
        "id": "mJ7qt_aPpEUj",
        "colab": {
          "base_uri": "https://localhost:8080/"
        },
        "outputId": "16fd9346-d6b9-41b2-a85b-b87b87b4b598"
      },
      "source": [
        "df.area_name.value_counts().head(26)"
      ],
      "execution_count": null,
      "outputs": [
        {
          "output_type": "execute_result",
          "data": {
            "text/plain": [
              "Москва             20075\n",
              "Санкт-Петербург     8202\n",
              "Новосибирск         2597\n",
              "Екатеринбург        2172\n",
              "Минск               1927\n",
              "Казань              1823\n",
              "Алматы              1675\n",
              "Краснодар           1662\n",
              "Нижний Новгород     1598\n",
              "Ростов-на-Дону      1373\n",
              "Киев                1079\n",
              "Воронеж             1069\n",
              "Самара              1010\n",
              "Пермь                990\n",
              "Челябинск            975\n",
              "Красноярск           952\n",
              "Нур-Султан           912\n",
              "Уфа                  831\n",
              "Томск                774\n",
              "Тюмень               687\n",
              "Омск                 670\n",
              "Владивосток          622\n",
              "Тула                 609\n",
              "Волгоград            584\n",
              "Саратов              584\n",
              "Ташкент              511\n",
              "Name: area_name, dtype: int64"
            ]
          },
          "metadata": {
            "tags": []
          },
          "execution_count": 170
        }
      ]
    },
    {
      "cell_type": "code",
      "metadata": {
        "id": "HjnKjGhKtkQ3",
        "colab": {
          "base_uri": "https://localhost:8080/"
        },
        "outputId": "f3bc7e6f-75fc-4670-b34b-0ecaf30bb3cc"
      },
      "source": [
        "df.shape"
      ],
      "execution_count": null,
      "outputs": [
        {
          "output_type": "execute_result",
          "data": {
            "text/plain": [
              "(75384, 31)"
            ]
          },
          "metadata": {
            "tags": []
          },
          "execution_count": 171
        }
      ]
    },
    {
      "cell_type": "code",
      "metadata": {
        "id": "D4QOanA_pRxv",
        "colab": {
          "base_uri": "https://localhost:8080/"
        },
        "outputId": "aa30fce0-bdc7-4167-a994-6279b7637d7d"
      },
      "source": [
        "df.id[df.area_name.isna() == True].count()"
      ],
      "execution_count": null,
      "outputs": [
        {
          "output_type": "execute_result",
          "data": {
            "text/plain": [
              "0"
            ]
          },
          "metadata": {
            "tags": []
          },
          "execution_count": 172
        }
      ]
    },
    {
      "cell_type": "code",
      "metadata": {
        "id": "Td3ZFxsSppCy"
      },
      "source": [
        "df_moskow = df[df.area_name == 'Москва']\n",
        "df_spb = df[df.area_name == 'Санкт-Петербург']\n",
        "df_novosib = df[df.area_name == 'Новосибирск']\n",
        "df_ekb = df[df.area_name == 'Екатеринбург']\n",
        "df_minsk = df[df.area_name == 'Минск']\n",
        "df_kazan = df[df.area_name == 'Казань']\n",
        "df_almaty = df[df.area_name == 'Алматы']\n",
        "df_krasnodar = df[df.area_name == 'Краснодар']\n",
        "df_nnovgorod = df[df.area_name == 'Нижний Новгород']\n",
        "df_rostov = df[df.area_name == 'Ростов-на-Дону']\n",
        "df_kiev = df[df.area_name == 'Киев']\n",
        "df_voronezh = df[df.area_name == 'Воронеж']\n",
        "df_samara = df[df.area_name == 'Самара']\n",
        "df_perm = df[df.area_name == 'Пермь']\n",
        "df_chelyabinsk = df[df.area_name == 'Челябинск']\n",
        "df_krasnoyarsk = df[df.area_name == 'Красноярск']\n",
        "df_nur_sultan = df[df.area_name == 'Нур-Султан']\n",
        "df_ufa = df[df.area_name == 'Уфа']\n",
        "df_tomsk = df[df.area_name == 'Томск']\n",
        "df_tyumen = df[df.area_name == 'Тюмень']\n",
        "df_omsk = df[df.area_name == 'Омск']\n",
        "df_vladivostok = df[df.area_name == 'Владивосток']\n",
        "df_tula = df[df.area_name == 'Тула']\n",
        "df_volgograd = df[df.area_name == 'Волгоград']\n",
        "df_saratov = df[df.area_name == 'Саратов']\n",
        "df_tashkent = df[df.area_name == 'Ташкент']"
      ],
      "execution_count": null,
      "outputs": []
    },
    {
      "cell_type": "code",
      "metadata": {
        "id": "LvKg7IF6pUaw"
      },
      "source": [
        "df_city = df_moskow.append(df_spb).append(df_novosib).append(df_ekb).append(df_minsk) \\\n",
        ".append(df_kazan).append(df_almaty).append(df_krasnodar).append(df_nnovgorod) \\\n",
        ".append(df_rostov).append(df_kiev).append(df_voronezh) \\\n",
        ".append(df_samara).append(df_perm).append(df_chelyabinsk).append(df_krasnoyarsk) \\\n",
        ".append(df_nur_sultan).append(df_ufa).append(df_tomsk).append(df_tyumen) \\\n",
        ".append(df_omsk).append(df_vladivostok).append(df_tula).append(df_volgograd) \\\n",
        ".append(df_saratov).append(df_tashkent)"
      ],
      "execution_count": null,
      "outputs": []
    },
    {
      "cell_type": "code",
      "metadata": {
        "id": "BrZhbKxFy2XJ",
        "colab": {
          "base_uri": "https://localhost:8080/"
        },
        "outputId": "a9d25c40-a7ad-4cd0-a6b1-17b355252e00"
      },
      "source": [
        "df_city.shape"
      ],
      "execution_count": null,
      "outputs": [
        {
          "output_type": "execute_result",
          "data": {
            "text/plain": [
              "(55963, 31)"
            ]
          },
          "metadata": {
            "tags": []
          },
          "execution_count": 175
        }
      ]
    },
    {
      "cell_type": "code",
      "metadata": {
        "id": "RE2jNDR4zh_y"
      },
      "source": [
        "df_city = df_city.reset_index(drop=True)\n",
        "df = df_city"
      ],
      "execution_count": null,
      "outputs": []
    },
    {
      "cell_type": "code",
      "metadata": {
        "id": "efk6Mv6wzTyE"
      },
      "source": [
        "city = pd.DataFrame(onehot_encoder.fit_transform(df_city[['area_name']]))\n",
        "city = city.rename(columns={0: 'almaty', 1: 'vladivostok', 2: 'volgograd',  3: 'voronezh', 4: 'ekaterinburg', 5: 'kazan', \\\n",
        "                            6: 'kiev', 7: 'krasnodar', 8: 'krasnoyarsk', 9: 'minsk', 10: 'moskow', \\\n",
        "                            11: 'nizhny_novgorod', 12: 'novosibirsk', 13: 'nur_sultan', 15: 'perm', 14: 'omsk', 16: 'rostov_on_don', \\\n",
        "                            17: 'samara', 18: 'st_petersburg', 19: 'saratov', 20: 'tashkent', 21: 'tomsk', 22: 'tula', 23: 'tyumen', 24: 'ufa',  25: 'chelyabinsk'})"
      ],
      "execution_count": null,
      "outputs": []
    },
    {
      "cell_type": "code",
      "metadata": {
        "id": "esIRQo498CA1",
        "colab": {
          "base_uri": "https://localhost:8080/"
        },
        "outputId": "824e9f0e-5cc4-447f-80cf-d3b09bbed28f"
      },
      "source": [
        "city.columns"
      ],
      "execution_count": null,
      "outputs": [
        {
          "output_type": "execute_result",
          "data": {
            "text/plain": [
              "Index(['almaty', 'vladivostok', 'volgograd', 'voronezh', 'ekaterinburg',\n",
              "       'kazan', 'kiev', 'krasnodar', 'krasnoyarsk', 'minsk', 'moskow',\n",
              "       'nizhny_novgorod', 'novosibirsk', 'nur_sultan', 'omsk', 'perm',\n",
              "       'rostov_on_don', 'samara', 'st_petersburg', 'saratov', 'tashkent',\n",
              "       'tomsk', 'tula', 'tyumen', 'ufa', 'chelyabinsk'],\n",
              "      dtype='object')"
            ]
          },
          "metadata": {
            "tags": []
          },
          "execution_count": 178
        }
      ]
    },
    {
      "cell_type": "code",
      "metadata": {
        "id": "ZStvVJV78APW"
      },
      "source": [
        "df['almaty']          = city.almaty\n",
        "df['vladivostok']     = city.vladivostok\n",
        "df['volgograd']       = city.volgograd\n",
        "df['voronezh']        = city.voronezh\n",
        "df['ekaterinburg']    = city.ekaterinburg\n",
        "df['kazan']           = city.kazan\n",
        "df['kiev']            = city.kiev\n",
        "df['krasnodar']       = city.krasnodar\n",
        "df['krasnoyarsk']     = city.krasnoyarsk\n",
        "df['minsk']           = city.minsk\n",
        "df['moskow']          = city.moskow\n",
        "df['nizhny_novgorod'] = city.nizhny_novgorod\n",
        "df['novosibirsk']     = city.novosibirsk\n",
        "df['nur-sultan']      = city.nur_sultan\n",
        "df['omsk']            = city.omsk\n",
        "df['perm']            = city.perm\n",
        "df['rostov_on_don']   = city.rostov_on_don\n",
        "df['samara']          = city.samara\n",
        "df['st_petersburg']   = city.st_petersburg\n",
        "df['saratov']         = city.saratov\n",
        "df['tashkent']        = city.tashkent\n",
        "df['tomsk']           = city.tomsk\n",
        "df['tula']            = city.tula\n",
        "df['tyumen']          = city.tyumen\n",
        "df['ufa']             = city.ufa\n",
        "df['chelyabinsk']     = city.chelyabinsk"
      ],
      "execution_count": null,
      "outputs": []
    },
    {
      "cell_type": "code",
      "metadata": {
        "id": "SR45bJZ3CMRq"
      },
      "source": [
        "df = df.drop(columns='area_name')"
      ],
      "execution_count": null,
      "outputs": []
    },
    {
      "cell_type": "code",
      "metadata": {
        "id": "RiB3JIkk9rif",
        "colab": {
          "base_uri": "https://localhost:8080/"
        },
        "outputId": "aaae26c6-d1a1-4866-f491-869408f47434"
      },
      "source": [
        "df.shape"
      ],
      "execution_count": null,
      "outputs": [
        {
          "output_type": "execute_result",
          "data": {
            "text/plain": [
              "(55963, 56)"
            ]
          },
          "metadata": {
            "tags": []
          },
          "execution_count": 181
        }
      ]
    },
    {
      "cell_type": "code",
      "metadata": {
        "id": "GxR6iiIe9x70",
        "colab": {
          "base_uri": "https://localhost:8080/"
        },
        "outputId": "b589f954-1705-482d-df6f-ff09487a4436"
      },
      "source": [
        "df.head()"
      ],
      "execution_count": null,
      "outputs": [
        {
          "output_type": "execute_result",
          "data": {
            "text/html": [
              "<div>\n",
              "<style scoped>\n",
              "    .dataframe tbody tr th:only-of-type {\n",
              "        vertical-align: middle;\n",
              "    }\n",
              "\n",
              "    .dataframe tbody tr th {\n",
              "        vertical-align: top;\n",
              "    }\n",
              "\n",
              "    .dataframe thead th {\n",
              "        text-align: right;\n",
              "    }\n",
              "</style>\n",
              "<table border=\"1\" class=\"dataframe\">\n",
              "  <thead>\n",
              "    <tr style=\"text-align: right;\">\n",
              "      <th></th>\n",
              "      <th>id</th>\n",
              "      <th>key_skills</th>\n",
              "      <th>accept_handicapped</th>\n",
              "      <th>accept_kids</th>\n",
              "      <th>experience</th>\n",
              "      <th>allow_messages</th>\n",
              "      <th>accept_incomplete_resumes</th>\n",
              "      <th>employer_trusted</th>\n",
              "      <th>employer_industries</th>\n",
              "      <th>response_letter_required</th>\n",
              "      <th>has_test</th>\n",
              "      <th>test_required</th>\n",
              "      <th>salary_from</th>\n",
              "      <th>salary_to</th>\n",
              "      <th>salary_gross</th>\n",
              "      <th>salary_currency</th>\n",
              "      <th>name</th>\n",
              "      <th>area_id</th>\n",
              "      <th>date</th>\n",
              "      <th>prof_classes_found</th>\n",
              "      <th>terms_found</th>\n",
              "      <th>schedule_flexible</th>\n",
              "      <th>schedule_flyInFlyOut</th>\n",
              "      <th>schedule_fullDay</th>\n",
              "      <th>schedule_remote</th>\n",
              "      <th>schedule_shift</th>\n",
              "      <th>employment_full</th>\n",
              "      <th>employment_part</th>\n",
              "      <th>employment_probation</th>\n",
              "      <th>employment_project</th>\n",
              "      <th>almaty</th>\n",
              "      <th>vladivostok</th>\n",
              "      <th>volgograd</th>\n",
              "      <th>voronezh</th>\n",
              "      <th>ekaterinburg</th>\n",
              "      <th>kazan</th>\n",
              "      <th>kiev</th>\n",
              "      <th>krasnodar</th>\n",
              "      <th>krasnoyarsk</th>\n",
              "      <th>minsk</th>\n",
              "      <th>moskow</th>\n",
              "      <th>nizhny_novgorod</th>\n",
              "      <th>novosibirsk</th>\n",
              "      <th>nur-sultan</th>\n",
              "      <th>omsk</th>\n",
              "      <th>perm</th>\n",
              "      <th>rostov_on_don</th>\n",
              "      <th>samara</th>\n",
              "      <th>st_petersburg</th>\n",
              "      <th>saratov</th>\n",
              "      <th>tashkent</th>\n",
              "      <th>tomsk</th>\n",
              "      <th>tula</th>\n",
              "      <th>tyumen</th>\n",
              "      <th>ufa</th>\n",
              "      <th>chelyabinsk</th>\n",
              "    </tr>\n",
              "  </thead>\n",
              "  <tbody>\n",
              "    <tr>\n",
              "      <th>0</th>\n",
              "      <td>36620106</td>\n",
              "      <td>JavaScript\\nReact\\nReactNative</td>\n",
              "      <td>0</td>\n",
              "      <td>0</td>\n",
              "      <td>between3And6</td>\n",
              "      <td>1</td>\n",
              "      <td>0</td>\n",
              "      <td>1.0</td>\n",
              "      <td>Научно-исследовательская, научная, академическ...</td>\n",
              "      <td>0</td>\n",
              "      <td>0</td>\n",
              "      <td>NaN</td>\n",
              "      <td>150000.0</td>\n",
              "      <td>200000.0</td>\n",
              "      <td>0.0</td>\n",
              "      <td>RUR</td>\n",
              "      <td>Frontend developer (React)</td>\n",
              "      <td>1</td>\n",
              "      <td>2020-04-10T12:47:20+0300</td>\n",
              "      <td>programmer</td>\n",
              "      <td>разработчик react медицинская_страховка опыт_р...</td>\n",
              "      <td>0.0</td>\n",
              "      <td>0.0</td>\n",
              "      <td>1.0</td>\n",
              "      <td>0.0</td>\n",
              "      <td>0.0</td>\n",
              "      <td>1.0</td>\n",
              "      <td>0.0</td>\n",
              "      <td>0.0</td>\n",
              "      <td>0.0</td>\n",
              "      <td>0.0</td>\n",
              "      <td>0.0</td>\n",
              "      <td>0.0</td>\n",
              "      <td>0.0</td>\n",
              "      <td>0.0</td>\n",
              "      <td>0.0</td>\n",
              "      <td>0.0</td>\n",
              "      <td>0.0</td>\n",
              "      <td>0.0</td>\n",
              "      <td>0.0</td>\n",
              "      <td>1.0</td>\n",
              "      <td>0.0</td>\n",
              "      <td>0.0</td>\n",
              "      <td>0.0</td>\n",
              "      <td>0.0</td>\n",
              "      <td>0.0</td>\n",
              "      <td>0.0</td>\n",
              "      <td>0.0</td>\n",
              "      <td>0.0</td>\n",
              "      <td>0.0</td>\n",
              "      <td>0.0</td>\n",
              "      <td>0.0</td>\n",
              "      <td>0.0</td>\n",
              "      <td>0.0</td>\n",
              "      <td>0.0</td>\n",
              "      <td>0.0</td>\n",
              "    </tr>\n",
              "    <tr>\n",
              "      <th>1</th>\n",
              "      <td>36620535</td>\n",
              "      <td>Информационная безопасность\\nMS Visio\\nРазрабо...</td>\n",
              "      <td>0</td>\n",
              "      <td>0</td>\n",
              "      <td>between1And3</td>\n",
              "      <td>1</td>\n",
              "      <td>0</td>\n",
              "      <td>1.0</td>\n",
              "      <td>Государственные организации\\nРазработка програ...</td>\n",
              "      <td>1</td>\n",
              "      <td>0</td>\n",
              "      <td>NaN</td>\n",
              "      <td>70000.0</td>\n",
              "      <td>100000.0</td>\n",
              "      <td>1.0</td>\n",
              "      <td>RUR</td>\n",
              "      <td>Советник отдела информационной безопасности</td>\n",
              "      <td>1</td>\n",
              "      <td>2020-04-10T13:17:56+0300</td>\n",
              "      <td>it_security</td>\n",
              "      <td>разработка информационная_безопасность опыт_ра...</td>\n",
              "      <td>0.0</td>\n",
              "      <td>0.0</td>\n",
              "      <td>1.0</td>\n",
              "      <td>0.0</td>\n",
              "      <td>0.0</td>\n",
              "      <td>1.0</td>\n",
              "      <td>0.0</td>\n",
              "      <td>0.0</td>\n",
              "      <td>0.0</td>\n",
              "      <td>0.0</td>\n",
              "      <td>0.0</td>\n",
              "      <td>0.0</td>\n",
              "      <td>0.0</td>\n",
              "      <td>0.0</td>\n",
              "      <td>0.0</td>\n",
              "      <td>0.0</td>\n",
              "      <td>0.0</td>\n",
              "      <td>0.0</td>\n",
              "      <td>0.0</td>\n",
              "      <td>1.0</td>\n",
              "      <td>0.0</td>\n",
              "      <td>0.0</td>\n",
              "      <td>0.0</td>\n",
              "      <td>0.0</td>\n",
              "      <td>0.0</td>\n",
              "      <td>0.0</td>\n",
              "      <td>0.0</td>\n",
              "      <td>0.0</td>\n",
              "      <td>0.0</td>\n",
              "      <td>0.0</td>\n",
              "      <td>0.0</td>\n",
              "      <td>0.0</td>\n",
              "      <td>0.0</td>\n",
              "      <td>0.0</td>\n",
              "      <td>0.0</td>\n",
              "    </tr>\n",
              "    <tr>\n",
              "      <th>2</th>\n",
              "      <td>36620748</td>\n",
              "      <td>C++\\nУмение принимать решения\\nQt\\nCистемы упр...</td>\n",
              "      <td>0</td>\n",
              "      <td>0</td>\n",
              "      <td>between3And6</td>\n",
              "      <td>1</td>\n",
              "      <td>0</td>\n",
              "      <td>1.0</td>\n",
              "      <td>NaN</td>\n",
              "      <td>0</td>\n",
              "      <td>0</td>\n",
              "      <td>NaN</td>\n",
              "      <td>100000.0</td>\n",
              "      <td>200000.0</td>\n",
              "      <td>0.0</td>\n",
              "      <td>RUR</td>\n",
              "      <td>Программист C/С++</td>\n",
              "      <td>1</td>\n",
              "      <td>2020-05-07T13:32:58+0300</td>\n",
              "      <td>programmer</td>\n",
              "      <td>комфортный_офис кофе team дружный_коллектив вк...</td>\n",
              "      <td>0.0</td>\n",
              "      <td>0.0</td>\n",
              "      <td>1.0</td>\n",
              "      <td>0.0</td>\n",
              "      <td>0.0</td>\n",
              "      <td>1.0</td>\n",
              "      <td>0.0</td>\n",
              "      <td>0.0</td>\n",
              "      <td>0.0</td>\n",
              "      <td>0.0</td>\n",
              "      <td>0.0</td>\n",
              "      <td>0.0</td>\n",
              "      <td>0.0</td>\n",
              "      <td>0.0</td>\n",
              "      <td>0.0</td>\n",
              "      <td>0.0</td>\n",
              "      <td>0.0</td>\n",
              "      <td>0.0</td>\n",
              "      <td>0.0</td>\n",
              "      <td>1.0</td>\n",
              "      <td>0.0</td>\n",
              "      <td>0.0</td>\n",
              "      <td>0.0</td>\n",
              "      <td>0.0</td>\n",
              "      <td>0.0</td>\n",
              "      <td>0.0</td>\n",
              "      <td>0.0</td>\n",
              "      <td>0.0</td>\n",
              "      <td>0.0</td>\n",
              "      <td>0.0</td>\n",
              "      <td>0.0</td>\n",
              "      <td>0.0</td>\n",
              "      <td>0.0</td>\n",
              "      <td>0.0</td>\n",
              "      <td>0.0</td>\n",
              "    </tr>\n",
              "    <tr>\n",
              "      <th>3</th>\n",
              "      <td>36620797</td>\n",
              "      <td>Linux\\nSQL\\nООП</td>\n",
              "      <td>0</td>\n",
              "      <td>0</td>\n",
              "      <td>between1And3</td>\n",
              "      <td>1</td>\n",
              "      <td>0</td>\n",
              "      <td>1.0</td>\n",
              "      <td>Банк</td>\n",
              "      <td>0</td>\n",
              "      <td>0</td>\n",
              "      <td>NaN</td>\n",
              "      <td>145000.0</td>\n",
              "      <td>180000.0</td>\n",
              "      <td>0.0</td>\n",
              "      <td>RUR</td>\n",
              "      <td>Golang developer</td>\n",
              "      <td>1</td>\n",
              "      <td>2020-07-15T11:12:40+0300</td>\n",
              "      <td>programmer</td>\n",
              "      <td>высшее_образование разработчик высоконагруженн...</td>\n",
              "      <td>0.0</td>\n",
              "      <td>0.0</td>\n",
              "      <td>1.0</td>\n",
              "      <td>0.0</td>\n",
              "      <td>0.0</td>\n",
              "      <td>1.0</td>\n",
              "      <td>0.0</td>\n",
              "      <td>0.0</td>\n",
              "      <td>0.0</td>\n",
              "      <td>0.0</td>\n",
              "      <td>0.0</td>\n",
              "      <td>0.0</td>\n",
              "      <td>0.0</td>\n",
              "      <td>0.0</td>\n",
              "      <td>0.0</td>\n",
              "      <td>0.0</td>\n",
              "      <td>0.0</td>\n",
              "      <td>0.0</td>\n",
              "      <td>0.0</td>\n",
              "      <td>1.0</td>\n",
              "      <td>0.0</td>\n",
              "      <td>0.0</td>\n",
              "      <td>0.0</td>\n",
              "      <td>0.0</td>\n",
              "      <td>0.0</td>\n",
              "      <td>0.0</td>\n",
              "      <td>0.0</td>\n",
              "      <td>0.0</td>\n",
              "      <td>0.0</td>\n",
              "      <td>0.0</td>\n",
              "      <td>0.0</td>\n",
              "      <td>0.0</td>\n",
              "      <td>0.0</td>\n",
              "      <td>0.0</td>\n",
              "      <td>0.0</td>\n",
              "    </tr>\n",
              "    <tr>\n",
              "      <th>4</th>\n",
              "      <td>36620865</td>\n",
              "      <td>ООП\\nSQL\\nPHP</td>\n",
              "      <td>0</td>\n",
              "      <td>0</td>\n",
              "      <td>between1And3</td>\n",
              "      <td>1</td>\n",
              "      <td>0</td>\n",
              "      <td>1.0</td>\n",
              "      <td>Банк</td>\n",
              "      <td>0</td>\n",
              "      <td>0</td>\n",
              "      <td>NaN</td>\n",
              "      <td>145000.0</td>\n",
              "      <td>180000.0</td>\n",
              "      <td>0.0</td>\n",
              "      <td>RUR</td>\n",
              "      <td>PHP-разработчик (backend)</td>\n",
              "      <td>1</td>\n",
              "      <td>2020-04-23T17:41:30+0300</td>\n",
              "      <td>programmer</td>\n",
              "      <td>высшее_образование кухня symfony rest php план...</td>\n",
              "      <td>0.0</td>\n",
              "      <td>0.0</td>\n",
              "      <td>1.0</td>\n",
              "      <td>0.0</td>\n",
              "      <td>0.0</td>\n",
              "      <td>1.0</td>\n",
              "      <td>0.0</td>\n",
              "      <td>0.0</td>\n",
              "      <td>0.0</td>\n",
              "      <td>0.0</td>\n",
              "      <td>0.0</td>\n",
              "      <td>0.0</td>\n",
              "      <td>0.0</td>\n",
              "      <td>0.0</td>\n",
              "      <td>0.0</td>\n",
              "      <td>0.0</td>\n",
              "      <td>0.0</td>\n",
              "      <td>0.0</td>\n",
              "      <td>0.0</td>\n",
              "      <td>1.0</td>\n",
              "      <td>0.0</td>\n",
              "      <td>0.0</td>\n",
              "      <td>0.0</td>\n",
              "      <td>0.0</td>\n",
              "      <td>0.0</td>\n",
              "      <td>0.0</td>\n",
              "      <td>0.0</td>\n",
              "      <td>0.0</td>\n",
              "      <td>0.0</td>\n",
              "      <td>0.0</td>\n",
              "      <td>0.0</td>\n",
              "      <td>0.0</td>\n",
              "      <td>0.0</td>\n",
              "      <td>0.0</td>\n",
              "      <td>0.0</td>\n",
              "    </tr>\n",
              "  </tbody>\n",
              "</table>\n",
              "</div>"
            ],
            "text/plain": [
              "         id  ... chelyabinsk\n",
              "0  36620106  ...         0.0\n",
              "1  36620535  ...         0.0\n",
              "2  36620748  ...         0.0\n",
              "3  36620797  ...         0.0\n",
              "4  36620865  ...         0.0\n",
              "\n",
              "[5 rows x 56 columns]"
            ]
          },
          "metadata": {
            "tags": []
          },
          "execution_count": 182
        }
      ]
    },
    {
      "cell_type": "markdown",
      "metadata": {
        "id": "oU3AD2Rln0-_"
      },
      "source": [
        "---\n",
        "### OrdinalEncoder for the \"experience\" column\n",
        "---"
      ]
    },
    {
      "cell_type": "code",
      "metadata": {
        "id": "L2gcee9qn6gh",
        "colab": {
          "base_uri": "https://localhost:8080/"
        },
        "outputId": "ef0a4b55-763d-4c17-cdfe-e51e80e1d19e"
      },
      "source": [
        "df.experience.value_counts()"
      ],
      "execution_count": null,
      "outputs": [
        {
          "output_type": "execute_result",
          "data": {
            "text/plain": [
              "between1And3    29294\n",
              "between3And6    14974\n",
              "noExperience    10230\n",
              "moreThan6        1465\n",
              "Name: experience, dtype: int64"
            ]
          },
          "metadata": {
            "tags": []
          },
          "execution_count": 183
        }
      ]
    },
    {
      "cell_type": "code",
      "metadata": {
        "id": "Mc0n8H9RouLN",
        "colab": {
          "base_uri": "https://localhost:8080/"
        },
        "outputId": "28d48840-4fe0-4a15-ef05-f2c15be1dec1"
      },
      "source": [
        "df.id[df.experience.isna() == True].count()"
      ],
      "execution_count": null,
      "outputs": [
        {
          "output_type": "execute_result",
          "data": {
            "text/plain": [
              "0"
            ]
          },
          "metadata": {
            "tags": []
          },
          "execution_count": 184
        }
      ]
    },
    {
      "cell_type": "code",
      "metadata": {
        "id": "fx4DD48jq3CB"
      },
      "source": [
        "ordinal_encoder = OrdinalEncoder(categories=[['noExperience', 'between1And3',\n",
        "                                             'between3And6', 'moreThan6']])"
      ],
      "execution_count": null,
      "outputs": []
    },
    {
      "cell_type": "code",
      "metadata": {
        "id": "mGrsIxwwrFUu"
      },
      "source": [
        "expr = pd.DataFrame(ordinal_encoder.fit_transform(df[['experience']]))"
      ],
      "execution_count": null,
      "outputs": []
    },
    {
      "cell_type": "code",
      "metadata": {
        "id": "9w6zkhO5rg-L"
      },
      "source": [
        "expr = expr.rename(columns={0: 'experience'})"
      ],
      "execution_count": null,
      "outputs": []
    },
    {
      "cell_type": "code",
      "metadata": {
        "id": "43XNq2y5rYrB",
        "colab": {
          "base_uri": "https://localhost:8080/"
        },
        "outputId": "36f09edd-0524-4044-94d5-b1e7fceeed9d"
      },
      "source": [
        "df.experience.head()"
      ],
      "execution_count": null,
      "outputs": [
        {
          "output_type": "execute_result",
          "data": {
            "text/plain": [
              "0    between3And6\n",
              "1    between1And3\n",
              "2    between3And6\n",
              "3    between1And3\n",
              "4    between1And3\n",
              "Name: experience, dtype: object"
            ]
          },
          "metadata": {
            "tags": []
          },
          "execution_count": 188
        }
      ]
    },
    {
      "cell_type": "code",
      "metadata": {
        "id": "9lYqzGxErVwo",
        "colab": {
          "base_uri": "https://localhost:8080/"
        },
        "outputId": "73f4b2e0-32d4-4fe3-ba02-bd0ded04ec23"
      },
      "source": [
        "expr.head()"
      ],
      "execution_count": null,
      "outputs": [
        {
          "output_type": "execute_result",
          "data": {
            "text/html": [
              "<div>\n",
              "<style scoped>\n",
              "    .dataframe tbody tr th:only-of-type {\n",
              "        vertical-align: middle;\n",
              "    }\n",
              "\n",
              "    .dataframe tbody tr th {\n",
              "        vertical-align: top;\n",
              "    }\n",
              "\n",
              "    .dataframe thead th {\n",
              "        text-align: right;\n",
              "    }\n",
              "</style>\n",
              "<table border=\"1\" class=\"dataframe\">\n",
              "  <thead>\n",
              "    <tr style=\"text-align: right;\">\n",
              "      <th></th>\n",
              "      <th>experience</th>\n",
              "    </tr>\n",
              "  </thead>\n",
              "  <tbody>\n",
              "    <tr>\n",
              "      <th>0</th>\n",
              "      <td>2.0</td>\n",
              "    </tr>\n",
              "    <tr>\n",
              "      <th>1</th>\n",
              "      <td>1.0</td>\n",
              "    </tr>\n",
              "    <tr>\n",
              "      <th>2</th>\n",
              "      <td>2.0</td>\n",
              "    </tr>\n",
              "    <tr>\n",
              "      <th>3</th>\n",
              "      <td>1.0</td>\n",
              "    </tr>\n",
              "    <tr>\n",
              "      <th>4</th>\n",
              "      <td>1.0</td>\n",
              "    </tr>\n",
              "  </tbody>\n",
              "</table>\n",
              "</div>"
            ],
            "text/plain": [
              "   experience\n",
              "0         2.0\n",
              "1         1.0\n",
              "2         2.0\n",
              "3         1.0\n",
              "4         1.0"
            ]
          },
          "metadata": {
            "tags": []
          },
          "execution_count": 189
        }
      ]
    },
    {
      "cell_type": "code",
      "metadata": {
        "id": "6xJZZgaYruoY"
      },
      "source": [
        "df['experience'] = expr"
      ],
      "execution_count": null,
      "outputs": []
    },
    {
      "cell_type": "code",
      "metadata": {
        "id": "pq2auB3mrz0j",
        "colab": {
          "base_uri": "https://localhost:8080/"
        },
        "outputId": "3f2e3700-a49e-4e9c-c9c0-4beb23f0bf65"
      },
      "source": [
        "df.head(1)"
      ],
      "execution_count": null,
      "outputs": [
        {
          "output_type": "execute_result",
          "data": {
            "text/html": [
              "<div>\n",
              "<style scoped>\n",
              "    .dataframe tbody tr th:only-of-type {\n",
              "        vertical-align: middle;\n",
              "    }\n",
              "\n",
              "    .dataframe tbody tr th {\n",
              "        vertical-align: top;\n",
              "    }\n",
              "\n",
              "    .dataframe thead th {\n",
              "        text-align: right;\n",
              "    }\n",
              "</style>\n",
              "<table border=\"1\" class=\"dataframe\">\n",
              "  <thead>\n",
              "    <tr style=\"text-align: right;\">\n",
              "      <th></th>\n",
              "      <th>id</th>\n",
              "      <th>key_skills</th>\n",
              "      <th>accept_handicapped</th>\n",
              "      <th>accept_kids</th>\n",
              "      <th>experience</th>\n",
              "      <th>allow_messages</th>\n",
              "      <th>accept_incomplete_resumes</th>\n",
              "      <th>employer_trusted</th>\n",
              "      <th>employer_industries</th>\n",
              "      <th>response_letter_required</th>\n",
              "      <th>has_test</th>\n",
              "      <th>test_required</th>\n",
              "      <th>salary_from</th>\n",
              "      <th>salary_to</th>\n",
              "      <th>salary_gross</th>\n",
              "      <th>salary_currency</th>\n",
              "      <th>name</th>\n",
              "      <th>area_id</th>\n",
              "      <th>date</th>\n",
              "      <th>prof_classes_found</th>\n",
              "      <th>terms_found</th>\n",
              "      <th>schedule_flexible</th>\n",
              "      <th>schedule_flyInFlyOut</th>\n",
              "      <th>schedule_fullDay</th>\n",
              "      <th>schedule_remote</th>\n",
              "      <th>schedule_shift</th>\n",
              "      <th>employment_full</th>\n",
              "      <th>employment_part</th>\n",
              "      <th>employment_probation</th>\n",
              "      <th>employment_project</th>\n",
              "      <th>almaty</th>\n",
              "      <th>vladivostok</th>\n",
              "      <th>volgograd</th>\n",
              "      <th>voronezh</th>\n",
              "      <th>ekaterinburg</th>\n",
              "      <th>kazan</th>\n",
              "      <th>kiev</th>\n",
              "      <th>krasnodar</th>\n",
              "      <th>krasnoyarsk</th>\n",
              "      <th>minsk</th>\n",
              "      <th>moskow</th>\n",
              "      <th>nizhny_novgorod</th>\n",
              "      <th>novosibirsk</th>\n",
              "      <th>nur-sultan</th>\n",
              "      <th>omsk</th>\n",
              "      <th>perm</th>\n",
              "      <th>rostov_on_don</th>\n",
              "      <th>samara</th>\n",
              "      <th>st_petersburg</th>\n",
              "      <th>saratov</th>\n",
              "      <th>tashkent</th>\n",
              "      <th>tomsk</th>\n",
              "      <th>tula</th>\n",
              "      <th>tyumen</th>\n",
              "      <th>ufa</th>\n",
              "      <th>chelyabinsk</th>\n",
              "    </tr>\n",
              "  </thead>\n",
              "  <tbody>\n",
              "    <tr>\n",
              "      <th>0</th>\n",
              "      <td>36620106</td>\n",
              "      <td>JavaScript\\nReact\\nReactNative</td>\n",
              "      <td>0</td>\n",
              "      <td>0</td>\n",
              "      <td>2.0</td>\n",
              "      <td>1</td>\n",
              "      <td>0</td>\n",
              "      <td>1.0</td>\n",
              "      <td>Научно-исследовательская, научная, академическ...</td>\n",
              "      <td>0</td>\n",
              "      <td>0</td>\n",
              "      <td>NaN</td>\n",
              "      <td>150000.0</td>\n",
              "      <td>200000.0</td>\n",
              "      <td>0.0</td>\n",
              "      <td>RUR</td>\n",
              "      <td>Frontend developer (React)</td>\n",
              "      <td>1</td>\n",
              "      <td>2020-04-10T12:47:20+0300</td>\n",
              "      <td>programmer</td>\n",
              "      <td>разработчик react медицинская_страховка опыт_р...</td>\n",
              "      <td>0.0</td>\n",
              "      <td>0.0</td>\n",
              "      <td>1.0</td>\n",
              "      <td>0.0</td>\n",
              "      <td>0.0</td>\n",
              "      <td>1.0</td>\n",
              "      <td>0.0</td>\n",
              "      <td>0.0</td>\n",
              "      <td>0.0</td>\n",
              "      <td>0.0</td>\n",
              "      <td>0.0</td>\n",
              "      <td>0.0</td>\n",
              "      <td>0.0</td>\n",
              "      <td>0.0</td>\n",
              "      <td>0.0</td>\n",
              "      <td>0.0</td>\n",
              "      <td>0.0</td>\n",
              "      <td>0.0</td>\n",
              "      <td>0.0</td>\n",
              "      <td>1.0</td>\n",
              "      <td>0.0</td>\n",
              "      <td>0.0</td>\n",
              "      <td>0.0</td>\n",
              "      <td>0.0</td>\n",
              "      <td>0.0</td>\n",
              "      <td>0.0</td>\n",
              "      <td>0.0</td>\n",
              "      <td>0.0</td>\n",
              "      <td>0.0</td>\n",
              "      <td>0.0</td>\n",
              "      <td>0.0</td>\n",
              "      <td>0.0</td>\n",
              "      <td>0.0</td>\n",
              "      <td>0.0</td>\n",
              "      <td>0.0</td>\n",
              "    </tr>\n",
              "  </tbody>\n",
              "</table>\n",
              "</div>"
            ],
            "text/plain": [
              "         id                      key_skills  ...  ufa  chelyabinsk\n",
              "0  36620106  JavaScript\\nReact\\nReactNative  ...  0.0          0.0\n",
              "\n",
              "[1 rows x 56 columns]"
            ]
          },
          "metadata": {
            "tags": []
          },
          "execution_count": 191
        }
      ]
    },
    {
      "cell_type": "markdown",
      "metadata": {
        "id": "Od2FqKOEvoEQ"
      },
      "source": [
        "---\n",
        "# Convert a currency\n",
        "---\n"
      ]
    },
    {
      "cell_type": "markdown",
      "metadata": {
        "id": "Cso7HUSij8p1"
      },
      "source": [
        "## Format a column \"published_at\" to format 'YYYY-MM-DD' in code below"
      ]
    },
    {
      "cell_type": "code",
      "metadata": {
        "id": "Is8SHKYBx77b"
      },
      "source": [
        "df[\"date\"] = pd.to_datetime(df[\"date\"])"
      ],
      "execution_count": null,
      "outputs": []
    },
    {
      "cell_type": "code",
      "metadata": {
        "colab": {
          "base_uri": "https://localhost:8080/"
        },
        "id": "1ZUKQfzyvnWh",
        "outputId": "36610365-05b1-478b-f8af-cfa850237049"
      },
      "source": [
        "df.info()"
      ],
      "execution_count": null,
      "outputs": [
        {
          "output_type": "stream",
          "text": [
            "<class 'pandas.core.frame.DataFrame'>\n",
            "RangeIndex: 55963 entries, 0 to 55962\n",
            "Data columns (total 56 columns):\n",
            " #   Column                     Non-Null Count  Dtype                                \n",
            "---  ------                     --------------  -----                                \n",
            " 0   id                         55963 non-null  int64                                \n",
            " 1   key_skills                 55963 non-null  object                               \n",
            " 2   accept_handicapped         55963 non-null  int64                                \n",
            " 3   accept_kids                55963 non-null  int64                                \n",
            " 4   experience                 55963 non-null  float64                              \n",
            " 5   allow_messages             55963 non-null  int64                                \n",
            " 6   accept_incomplete_resumes  55963 non-null  int64                                \n",
            " 7   employer_trusted           55842 non-null  float64                              \n",
            " 8   employer_industries        39639 non-null  object                               \n",
            " 9   response_letter_required   55963 non-null  int64                                \n",
            " 10  has_test                   55963 non-null  int64                                \n",
            " 11  test_required              0 non-null      float64                              \n",
            " 12  salary_from                55963 non-null  float64                              \n",
            " 13  salary_to                  55963 non-null  float64                              \n",
            " 14  salary_gross               55940 non-null  float64                              \n",
            " 15  salary_currency            55963 non-null  object                               \n",
            " 16  name                       55963 non-null  object                               \n",
            " 17  area_id                    55963 non-null  int64                                \n",
            " 18  date                       55963 non-null  datetime64[ns, pytz.FixedOffset(180)]\n",
            " 19  prof_classes_found         54921 non-null  object                               \n",
            " 20  terms_found                55671 non-null  object                               \n",
            " 21  schedule_flexible          55963 non-null  float64                              \n",
            " 22  schedule_flyInFlyOut       55963 non-null  float64                              \n",
            " 23  schedule_fullDay           55963 non-null  float64                              \n",
            " 24  schedule_remote            55963 non-null  float64                              \n",
            " 25  schedule_shift             55963 non-null  float64                              \n",
            " 26  employment_full            55963 non-null  float64                              \n",
            " 27  employment_part            55963 non-null  float64                              \n",
            " 28  employment_probation       55963 non-null  float64                              \n",
            " 29  employment_project         55963 non-null  float64                              \n",
            " 30  almaty                     55963 non-null  float64                              \n",
            " 31  vladivostok                55963 non-null  float64                              \n",
            " 32  volgograd                  55963 non-null  float64                              \n",
            " 33  voronezh                   55963 non-null  float64                              \n",
            " 34  ekaterinburg               55963 non-null  float64                              \n",
            " 35  kazan                      55963 non-null  float64                              \n",
            " 36  kiev                       55963 non-null  float64                              \n",
            " 37  krasnodar                  55963 non-null  float64                              \n",
            " 38  krasnoyarsk                55963 non-null  float64                              \n",
            " 39  minsk                      55963 non-null  float64                              \n",
            " 40  moskow                     55963 non-null  float64                              \n",
            " 41  nizhny_novgorod            55963 non-null  float64                              \n",
            " 42  novosibirsk                55963 non-null  float64                              \n",
            " 43  nur-sultan                 55963 non-null  float64                              \n",
            " 44  omsk                       55963 non-null  float64                              \n",
            " 45  perm                       55963 non-null  float64                              \n",
            " 46  rostov_on_don              55963 non-null  float64                              \n",
            " 47  samara                     55963 non-null  float64                              \n",
            " 48  st_petersburg              55963 non-null  float64                              \n",
            " 49  saratov                    55963 non-null  float64                              \n",
            " 50  tashkent                   55963 non-null  float64                              \n",
            " 51  tomsk                      55963 non-null  float64                              \n",
            " 52  tula                       55963 non-null  float64                              \n",
            " 53  tyumen                     55963 non-null  float64                              \n",
            " 54  ufa                        55963 non-null  float64                              \n",
            " 55  chelyabinsk                55963 non-null  float64                              \n",
            "dtypes: datetime64[ns, pytz.FixedOffset(180)](1), float64(41), int64(8), object(6)\n",
            "memory usage: 23.9+ MB\n"
          ],
          "name": "stdout"
        }
      ]
    },
    {
      "cell_type": "code",
      "metadata": {
        "id": "WV72y8DXypi0"
      },
      "source": [
        "df[\"date\"] = df[\"date\"].dt.strftime(\"%Y-%m-%d\")"
      ],
      "execution_count": null,
      "outputs": []
    },
    {
      "cell_type": "code",
      "metadata": {
        "colab": {
          "base_uri": "https://localhost:8080/"
        },
        "id": "ENl2pUY7yUcP",
        "outputId": "a444518d-e80e-4e05-d2b3-7f203fb8c477"
      },
      "source": [
        "df.head(1)"
      ],
      "execution_count": null,
      "outputs": [
        {
          "output_type": "execute_result",
          "data": {
            "text/html": [
              "<div>\n",
              "<style scoped>\n",
              "    .dataframe tbody tr th:only-of-type {\n",
              "        vertical-align: middle;\n",
              "    }\n",
              "\n",
              "    .dataframe tbody tr th {\n",
              "        vertical-align: top;\n",
              "    }\n",
              "\n",
              "    .dataframe thead th {\n",
              "        text-align: right;\n",
              "    }\n",
              "</style>\n",
              "<table border=\"1\" class=\"dataframe\">\n",
              "  <thead>\n",
              "    <tr style=\"text-align: right;\">\n",
              "      <th></th>\n",
              "      <th>id</th>\n",
              "      <th>key_skills</th>\n",
              "      <th>accept_handicapped</th>\n",
              "      <th>accept_kids</th>\n",
              "      <th>experience</th>\n",
              "      <th>allow_messages</th>\n",
              "      <th>accept_incomplete_resumes</th>\n",
              "      <th>employer_trusted</th>\n",
              "      <th>employer_industries</th>\n",
              "      <th>response_letter_required</th>\n",
              "      <th>has_test</th>\n",
              "      <th>test_required</th>\n",
              "      <th>salary_from</th>\n",
              "      <th>salary_to</th>\n",
              "      <th>salary_gross</th>\n",
              "      <th>salary_currency</th>\n",
              "      <th>name</th>\n",
              "      <th>area_id</th>\n",
              "      <th>date</th>\n",
              "      <th>prof_classes_found</th>\n",
              "      <th>terms_found</th>\n",
              "      <th>schedule_flexible</th>\n",
              "      <th>schedule_flyInFlyOut</th>\n",
              "      <th>schedule_fullDay</th>\n",
              "      <th>schedule_remote</th>\n",
              "      <th>schedule_shift</th>\n",
              "      <th>employment_full</th>\n",
              "      <th>employment_part</th>\n",
              "      <th>employment_probation</th>\n",
              "      <th>employment_project</th>\n",
              "      <th>almaty</th>\n",
              "      <th>vladivostok</th>\n",
              "      <th>volgograd</th>\n",
              "      <th>voronezh</th>\n",
              "      <th>ekaterinburg</th>\n",
              "      <th>kazan</th>\n",
              "      <th>kiev</th>\n",
              "      <th>krasnodar</th>\n",
              "      <th>krasnoyarsk</th>\n",
              "      <th>minsk</th>\n",
              "      <th>moskow</th>\n",
              "      <th>nizhny_novgorod</th>\n",
              "      <th>novosibirsk</th>\n",
              "      <th>nur-sultan</th>\n",
              "      <th>omsk</th>\n",
              "      <th>perm</th>\n",
              "      <th>rostov_on_don</th>\n",
              "      <th>samara</th>\n",
              "      <th>st_petersburg</th>\n",
              "      <th>saratov</th>\n",
              "      <th>tashkent</th>\n",
              "      <th>tomsk</th>\n",
              "      <th>tula</th>\n",
              "      <th>tyumen</th>\n",
              "      <th>ufa</th>\n",
              "      <th>chelyabinsk</th>\n",
              "    </tr>\n",
              "  </thead>\n",
              "  <tbody>\n",
              "    <tr>\n",
              "      <th>0</th>\n",
              "      <td>36620106</td>\n",
              "      <td>JavaScript\\nReact\\nReactNative</td>\n",
              "      <td>0</td>\n",
              "      <td>0</td>\n",
              "      <td>2.0</td>\n",
              "      <td>1</td>\n",
              "      <td>0</td>\n",
              "      <td>1.0</td>\n",
              "      <td>Научно-исследовательская, научная, академическ...</td>\n",
              "      <td>0</td>\n",
              "      <td>0</td>\n",
              "      <td>NaN</td>\n",
              "      <td>150000.0</td>\n",
              "      <td>200000.0</td>\n",
              "      <td>0.0</td>\n",
              "      <td>RUR</td>\n",
              "      <td>Frontend developer (React)</td>\n",
              "      <td>1</td>\n",
              "      <td>2020-04-10</td>\n",
              "      <td>programmer</td>\n",
              "      <td>разработчик react медицинская_страховка опыт_р...</td>\n",
              "      <td>0.0</td>\n",
              "      <td>0.0</td>\n",
              "      <td>1.0</td>\n",
              "      <td>0.0</td>\n",
              "      <td>0.0</td>\n",
              "      <td>1.0</td>\n",
              "      <td>0.0</td>\n",
              "      <td>0.0</td>\n",
              "      <td>0.0</td>\n",
              "      <td>0.0</td>\n",
              "      <td>0.0</td>\n",
              "      <td>0.0</td>\n",
              "      <td>0.0</td>\n",
              "      <td>0.0</td>\n",
              "      <td>0.0</td>\n",
              "      <td>0.0</td>\n",
              "      <td>0.0</td>\n",
              "      <td>0.0</td>\n",
              "      <td>0.0</td>\n",
              "      <td>1.0</td>\n",
              "      <td>0.0</td>\n",
              "      <td>0.0</td>\n",
              "      <td>0.0</td>\n",
              "      <td>0.0</td>\n",
              "      <td>0.0</td>\n",
              "      <td>0.0</td>\n",
              "      <td>0.0</td>\n",
              "      <td>0.0</td>\n",
              "      <td>0.0</td>\n",
              "      <td>0.0</td>\n",
              "      <td>0.0</td>\n",
              "      <td>0.0</td>\n",
              "      <td>0.0</td>\n",
              "      <td>0.0</td>\n",
              "      <td>0.0</td>\n",
              "    </tr>\n",
              "  </tbody>\n",
              "</table>\n",
              "</div>"
            ],
            "text/plain": [
              "         id                      key_skills  ...  ufa  chelyabinsk\n",
              "0  36620106  JavaScript\\nReact\\nReactNative  ...  0.0          0.0\n",
              "\n",
              "[1 rows x 56 columns]"
            ]
          },
          "metadata": {
            "tags": []
          },
          "execution_count": 195
        }
      ]
    },
    {
      "cell_type": "markdown",
      "metadata": {
        "id": "7zbnxBcikGZD"
      },
      "source": [
        "## Work with currency"
      ]
    },
    {
      "cell_type": "code",
      "metadata": {
        "id": "dcDwXNz2kNYf",
        "colab": {
          "base_uri": "https://localhost:8080/"
        },
        "outputId": "33b820dc-6bc3-4404-e224-3985cafd96dd"
      },
      "source": [
        "df.salary_currency.value_counts()"
      ],
      "execution_count": null,
      "outputs": [
        {
          "output_type": "execute_result",
          "data": {
            "text/plain": [
              "RUR    48357\n",
              "USD     2713\n",
              "KZT     2473\n",
              "BYR     1129\n",
              "UAH      485\n",
              "EUR      433\n",
              "UZS      371\n",
              "KGS        2\n",
              "Name: salary_currency, dtype: int64"
            ]
          },
          "metadata": {
            "tags": []
          },
          "execution_count": 196
        }
      ]
    },
    {
      "cell_type": "code",
      "metadata": {
        "id": "SZRp1b5S7T9i"
      },
      "source": [
        "kzt = pd.read_csv('/content/drive/MyDrive/DataSets/Currencies/KZT_RUB.csv')\n",
        "usd = pd.read_csv('/content/drive/MyDrive/DataSets/Currencies/USD_RUB.csv')\n",
        "byr = pd.read_csv('/content/drive/MyDrive/DataSets/Currencies/BYN_RUB.csv')\n",
        "uah = pd.read_csv('/content/drive/MyDrive/DataSets/Currencies/UAH_RUB.csv')\n",
        "eur = pd.read_csv('/content/drive/MyDrive/DataSets/Currencies/EUR_RUB.csv')\n",
        "uzs = pd.read_csv('/content/drive/MyDrive/DataSets/Currencies/UZS_RUB.csv')\n",
        "kgs = pd.read_csv('/content/drive/MyDrive/DataSets/Currencies/KGS_RUB.csv')\n",
        "azn = pd.read_csv('/content/drive/MyDrive/DataSets/Currencies/AZN_RUB.csv')\n",
        "gel = pd.read_csv('/content/drive/MyDrive/DataSets/Currencies/GEL_RUB.csv')"
      ],
      "execution_count": null,
      "outputs": []
    },
    {
      "cell_type": "code",
      "metadata": {
        "id": "q9mFqZYsYCeL"
      },
      "source": [
        "def remove_column_currency(df):\n",
        "  df = df.rename(columns={'Change %': 'Change_%', 'Date': 'date', 'Price': 'price'})\n",
        "  df = df.drop(columns=['Open', 'High', 'Low', 'Change_%'])\n",
        "  return df"
      ],
      "execution_count": null,
      "outputs": []
    },
    {
      "cell_type": "code",
      "metadata": {
        "id": "4MPtVXzkPYPQ"
      },
      "source": [
        "def convert_datetime(df):\n",
        "  df.date = pd.to_datetime(df.date).dt.strftime('%Y-%m-%d')\n",
        "  return df"
      ],
      "execution_count": null,
      "outputs": []
    },
    {
      "cell_type": "code",
      "metadata": {
        "id": "QjSuD7P_Ymbx"
      },
      "source": [
        "kzt = remove_column_currency(kzt)\n",
        "usd = remove_column_currency(usd)\n",
        "byr = remove_column_currency(byr)\n",
        "uah = remove_column_currency(uah)\n",
        "eur = remove_column_currency(eur)\n",
        "uzs = remove_column_currency(uzs)\n",
        "kgs = remove_column_currency(kgs)\n",
        "azn = remove_column_currency(azn)\n",
        "gel = remove_column_currency(gel)"
      ],
      "execution_count": null,
      "outputs": []
    },
    {
      "cell_type": "code",
      "metadata": {
        "id": "h-knoLTBhJAz"
      },
      "source": [
        "kzt = convert_datetime(kzt)\n",
        "usd = convert_datetime(usd)\n",
        "byr = convert_datetime(byr)\n",
        "uah = convert_datetime(uah)\n",
        "eur = convert_datetime(eur)\n",
        "uzs = convert_datetime(uzs)\n",
        "kgs = convert_datetime(kgs)\n",
        "azn = convert_datetime(azn)\n",
        "gel = convert_datetime(gel)"
      ],
      "execution_count": null,
      "outputs": []
    },
    {
      "cell_type": "code",
      "metadata": {
        "id": "hkDh2zOwkCku",
        "colab": {
          "base_uri": "https://localhost:8080/",
          "height": 142
        },
        "outputId": "6c174120-70ae-4bb3-9812-d833fa7aadfd"
      },
      "source": [
        "kzt.head(3)"
      ],
      "execution_count": null,
      "outputs": [
        {
          "output_type": "execute_result",
          "data": {
            "text/html": [
              "<div>\n",
              "<style scoped>\n",
              "    .dataframe tbody tr th:only-of-type {\n",
              "        vertical-align: middle;\n",
              "    }\n",
              "\n",
              "    .dataframe tbody tr th {\n",
              "        vertical-align: top;\n",
              "    }\n",
              "\n",
              "    .dataframe thead th {\n",
              "        text-align: right;\n",
              "    }\n",
              "</style>\n",
              "<table border=\"1\" class=\"dataframe\">\n",
              "  <thead>\n",
              "    <tr style=\"text-align: right;\">\n",
              "      <th></th>\n",
              "      <th>date</th>\n",
              "      <th>price</th>\n",
              "    </tr>\n",
              "  </thead>\n",
              "  <tbody>\n",
              "    <tr>\n",
              "      <th>0</th>\n",
              "      <td>2021-01-01</td>\n",
              "      <td>0.1757</td>\n",
              "    </tr>\n",
              "    <tr>\n",
              "      <th>1</th>\n",
              "      <td>2020-12-31</td>\n",
              "      <td>0.1766</td>\n",
              "    </tr>\n",
              "    <tr>\n",
              "      <th>2</th>\n",
              "      <td>2020-12-30</td>\n",
              "      <td>0.1765</td>\n",
              "    </tr>\n",
              "  </tbody>\n",
              "</table>\n",
              "</div>"
            ],
            "text/plain": [
              "         date   price\n",
              "0  2021-01-01  0.1757\n",
              "1  2020-12-31  0.1766\n",
              "2  2020-12-30  0.1765"
            ]
          },
          "metadata": {
            "tags": []
          },
          "execution_count": 202
        }
      ]
    },
    {
      "cell_type": "code",
      "metadata": {
        "id": "P4a5dqhKjEYt",
        "colab": {
          "base_uri": "https://localhost:8080/"
        },
        "outputId": "c798ceae-b1ca-4238-b2c1-40f487ac7e98"
      },
      "source": [
        "df_kzt = df[df.salary_currency == 'KZT'].merge(kzt, how='left', on='date')\n",
        "df_usd = df[df.salary_currency == 'USD'].merge(usd, how='left', on='date')\n",
        "df_byr = df[df.salary_currency == 'BYR'].merge(byr, how='left', on='date')\n",
        "df_uah = df[df.salary_currency == 'UAH'].merge(uah, how='left', on='date')\n",
        "df_eur = df[df.salary_currency == 'EUR'].merge(eur, how='left', on='date')\n",
        "df_uzs = df[df.salary_currency == 'UZS'].merge(uzs, how='left', on='date')\n",
        "df_kgs = df[df.salary_currency == 'KGS'].merge(kgs, how='left', on='date')\n",
        "df_azn = df[df.salary_currency == 'AZN'].merge(azn, how='left', on='date')\n",
        "df_gel = df[df.salary_currency == 'GEL'].merge(gel, how='left', on='date')\n",
        "\n",
        "df_rouble = df[df.salary_currency == 'RUR']\n",
        "df_rouble['price'] = [1 for i in range(len(df_rouble))]"
      ],
      "execution_count": null,
      "outputs": [
        {
          "output_type": "stream",
          "text": [
            "/usr/local/lib/python3.7/dist-packages/ipykernel_launcher.py:12: SettingWithCopyWarning: \n",
            "A value is trying to be set on a copy of a slice from a DataFrame.\n",
            "Try using .loc[row_indexer,col_indexer] = value instead\n",
            "\n",
            "See the caveats in the documentation: https://pandas.pydata.org/pandas-docs/stable/user_guide/indexing.html#returning-a-view-versus-a-copy\n",
            "  if sys.path[0] == '':\n"
          ],
          "name": "stderr"
        }
      ]
    },
    {
      "cell_type": "code",
      "metadata": {
        "id": "LjuqnAgc6z_I",
        "colab": {
          "base_uri": "https://localhost:8080/",
          "height": 168
        },
        "outputId": "b60cf74d-aa15-424a-f425-402a1c060ea9"
      },
      "source": [
        "display(df_kzt.id[df_kzt.salary_currency.isna() == True].count())\n",
        "display(df_usd.id[df_usd.salary_currency.isna() == True].count())\n",
        "display(df_byr.id[df_byr.salary_currency.isna() == True].count())\n",
        "display(df_uah.id[df_uah.salary_currency.isna() == True].count())\n",
        "display(df_eur.id[df_eur.salary_currency.isna() == True].count())\n",
        "display(df_uzs.id[df_uzs.salary_currency.isna() == True].count())\n",
        "display(df_kgs.id[df_kgs.salary_currency.isna() == True].count())\n",
        "display(df_azn.id[df_azn.salary_currency.isna() == True].count())\n",
        "display(df_gel.id[df_gel.salary_currency.isna() == True].count())"
      ],
      "execution_count": null,
      "outputs": [
        {
          "output_type": "display_data",
          "data": {
            "text/plain": [
              "0"
            ]
          },
          "metadata": {
            "tags": []
          }
        },
        {
          "output_type": "display_data",
          "data": {
            "text/plain": [
              "0"
            ]
          },
          "metadata": {
            "tags": []
          }
        },
        {
          "output_type": "display_data",
          "data": {
            "text/plain": [
              "0"
            ]
          },
          "metadata": {
            "tags": []
          }
        },
        {
          "output_type": "display_data",
          "data": {
            "text/plain": [
              "0"
            ]
          },
          "metadata": {
            "tags": []
          }
        },
        {
          "output_type": "display_data",
          "data": {
            "text/plain": [
              "0"
            ]
          },
          "metadata": {
            "tags": []
          }
        },
        {
          "output_type": "display_data",
          "data": {
            "text/plain": [
              "0"
            ]
          },
          "metadata": {
            "tags": []
          }
        },
        {
          "output_type": "display_data",
          "data": {
            "text/plain": [
              "0"
            ]
          },
          "metadata": {
            "tags": []
          }
        },
        {
          "output_type": "display_data",
          "data": {
            "text/plain": [
              "0"
            ]
          },
          "metadata": {
            "tags": []
          }
        },
        {
          "output_type": "display_data",
          "data": {
            "text/plain": [
              "0"
            ]
          },
          "metadata": {
            "tags": []
          }
        }
      ]
    },
    {
      "cell_type": "code",
      "metadata": {
        "id": "zEgGwkJ38Er1"
      },
      "source": [
        "df1 = df_kzt.append(df_usd).append(df_byr).append(df_uah).append(df_eur).append(df_uzs).append(df_kgs).append(df_azn).append(df_gel).append(df_rouble)"
      ],
      "execution_count": null,
      "outputs": []
    },
    {
      "cell_type": "code",
      "metadata": {
        "id": "ACqCHQMyGZNR"
      },
      "source": [
        "df1['salary_from'] = df1['salary_from'] * df1['price']\n",
        "df1['salary_to'] = df1['salary_to'] * df1['price']"
      ],
      "execution_count": null,
      "outputs": []
    },
    {
      "cell_type": "code",
      "metadata": {
        "id": "brmOZNJjH-Qb"
      },
      "source": [
        "df = df1.drop(columns=['price', 'salary_currency'])"
      ],
      "execution_count": null,
      "outputs": []
    },
    {
      "cell_type": "code",
      "metadata": {
        "id": "gWzHdFd8tIAS",
        "colab": {
          "base_uri": "https://localhost:8080/",
          "height": 184
        },
        "outputId": "0200cdbf-b64c-407f-e7c5-01381d7079f7"
      },
      "source": [
        "df.head(1)"
      ],
      "execution_count": null,
      "outputs": [
        {
          "output_type": "execute_result",
          "data": {
            "text/html": [
              "<div>\n",
              "<style scoped>\n",
              "    .dataframe tbody tr th:only-of-type {\n",
              "        vertical-align: middle;\n",
              "    }\n",
              "\n",
              "    .dataframe tbody tr th {\n",
              "        vertical-align: top;\n",
              "    }\n",
              "\n",
              "    .dataframe thead th {\n",
              "        text-align: right;\n",
              "    }\n",
              "</style>\n",
              "<table border=\"1\" class=\"dataframe\">\n",
              "  <thead>\n",
              "    <tr style=\"text-align: right;\">\n",
              "      <th></th>\n",
              "      <th>id</th>\n",
              "      <th>key_skills</th>\n",
              "      <th>accept_handicapped</th>\n",
              "      <th>accept_kids</th>\n",
              "      <th>experience</th>\n",
              "      <th>allow_messages</th>\n",
              "      <th>accept_incomplete_resumes</th>\n",
              "      <th>employer_trusted</th>\n",
              "      <th>employer_industries</th>\n",
              "      <th>response_letter_required</th>\n",
              "      <th>has_test</th>\n",
              "      <th>test_required</th>\n",
              "      <th>salary_from</th>\n",
              "      <th>salary_to</th>\n",
              "      <th>salary_gross</th>\n",
              "      <th>name</th>\n",
              "      <th>area_id</th>\n",
              "      <th>date</th>\n",
              "      <th>prof_classes_found</th>\n",
              "      <th>terms_found</th>\n",
              "      <th>schedule_flexible</th>\n",
              "      <th>schedule_flyInFlyOut</th>\n",
              "      <th>schedule_fullDay</th>\n",
              "      <th>schedule_remote</th>\n",
              "      <th>schedule_shift</th>\n",
              "      <th>employment_full</th>\n",
              "      <th>employment_part</th>\n",
              "      <th>employment_probation</th>\n",
              "      <th>employment_project</th>\n",
              "      <th>almaty</th>\n",
              "      <th>vladivostok</th>\n",
              "      <th>volgograd</th>\n",
              "      <th>voronezh</th>\n",
              "      <th>ekaterinburg</th>\n",
              "      <th>kazan</th>\n",
              "      <th>kiev</th>\n",
              "      <th>krasnodar</th>\n",
              "      <th>krasnoyarsk</th>\n",
              "      <th>minsk</th>\n",
              "      <th>moskow</th>\n",
              "      <th>nizhny_novgorod</th>\n",
              "      <th>novosibirsk</th>\n",
              "      <th>nur-sultan</th>\n",
              "      <th>omsk</th>\n",
              "      <th>perm</th>\n",
              "      <th>rostov_on_don</th>\n",
              "      <th>samara</th>\n",
              "      <th>st_petersburg</th>\n",
              "      <th>saratov</th>\n",
              "      <th>tashkent</th>\n",
              "      <th>tomsk</th>\n",
              "      <th>tula</th>\n",
              "      <th>tyumen</th>\n",
              "      <th>ufa</th>\n",
              "      <th>chelyabinsk</th>\n",
              "    </tr>\n",
              "  </thead>\n",
              "  <tbody>\n",
              "    <tr>\n",
              "      <th>0</th>\n",
              "      <td>36625264</td>\n",
              "      <td>1С-Битрикс\\nPHP\\nREST\\nООП\\nHTML5\\nCSS3\\nТехни...</td>\n",
              "      <td>1</td>\n",
              "      <td>0</td>\n",
              "      <td>2.0</td>\n",
              "      <td>1</td>\n",
              "      <td>0</td>\n",
              "      <td>1.0</td>\n",
              "      <td>Земледелие, растениеводство, животноводство</td>\n",
              "      <td>1</td>\n",
              "      <td>0</td>\n",
              "      <td>NaN</td>\n",
              "      <td>70240.0</td>\n",
              "      <td>136968.0</td>\n",
              "      <td>0.0</td>\n",
              "      <td>Битрикс-разработчик</td>\n",
              "      <td>1</td>\n",
              "      <td>2020-05-07</td>\n",
              "      <td>programmer</td>\n",
              "      <td>1c site разработчик rpc rest php архитектура а...</td>\n",
              "      <td>0.0</td>\n",
              "      <td>0.0</td>\n",
              "      <td>0.0</td>\n",
              "      <td>1.0</td>\n",
              "      <td>0.0</td>\n",
              "      <td>1.0</td>\n",
              "      <td>0.0</td>\n",
              "      <td>0.0</td>\n",
              "      <td>0.0</td>\n",
              "      <td>0.0</td>\n",
              "      <td>0.0</td>\n",
              "      <td>0.0</td>\n",
              "      <td>0.0</td>\n",
              "      <td>0.0</td>\n",
              "      <td>0.0</td>\n",
              "      <td>0.0</td>\n",
              "      <td>0.0</td>\n",
              "      <td>0.0</td>\n",
              "      <td>0.0</td>\n",
              "      <td>1.0</td>\n",
              "      <td>0.0</td>\n",
              "      <td>0.0</td>\n",
              "      <td>0.0</td>\n",
              "      <td>0.0</td>\n",
              "      <td>0.0</td>\n",
              "      <td>0.0</td>\n",
              "      <td>0.0</td>\n",
              "      <td>0.0</td>\n",
              "      <td>0.0</td>\n",
              "      <td>0.0</td>\n",
              "      <td>0.0</td>\n",
              "      <td>0.0</td>\n",
              "      <td>0.0</td>\n",
              "      <td>0.0</td>\n",
              "      <td>0.0</td>\n",
              "    </tr>\n",
              "  </tbody>\n",
              "</table>\n",
              "</div>"
            ],
            "text/plain": [
              "         id  ... chelyabinsk\n",
              "0  36625264  ...         0.0\n",
              "\n",
              "[1 rows x 55 columns]"
            ]
          },
          "metadata": {
            "tags": []
          },
          "execution_count": 208
        }
      ]
    },
    {
      "cell_type": "code",
      "metadata": {
        "colab": {
          "base_uri": "https://localhost:8080/"
        },
        "id": "ShYKPJIgBCuz",
        "outputId": "28fda33d-b0d8-499e-ed7b-07e47e622621"
      },
      "source": [
        "df.shape"
      ],
      "execution_count": null,
      "outputs": [
        {
          "output_type": "execute_result",
          "data": {
            "text/plain": [
              "(55963, 55)"
            ]
          },
          "metadata": {
            "tags": []
          },
          "execution_count": 209
        }
      ]
    },
    {
      "cell_type": "markdown",
      "metadata": {
        "id": "Yt-u9a1cEObi"
      },
      "source": [
        "\n",
        "\n",
        "---\n",
        "\n",
        "# Preprocessing of skills columns\n",
        "\n",
        "---\n",
        "\n"
      ]
    },
    {
      "cell_type": "code",
      "metadata": {
        "id": "jtfi1tMYGb9z"
      },
      "source": [
        "from sklearn.feature_extraction.text import CountVectorizer"
      ],
      "execution_count": 355,
      "outputs": []
    },
    {
      "cell_type": "code",
      "metadata": {
        "id": "Nk4qEMlyETm6"
      },
      "source": [
        "new_df = df[['id']].join(df['key_skills'].str.split('\\n', expand=False))"
      ],
      "execution_count": 359,
      "outputs": []
    },
    {
      "cell_type": "code",
      "metadata": {
        "id": "78rMC5ThFLu4"
      },
      "source": [
        "new_df = new_df.reset_index(drop=True)"
      ],
      "execution_count": 360,
      "outputs": []
    },
    {
      "cell_type": "code",
      "metadata": {
        "colab": {
          "base_uri": "https://localhost:8080/",
          "height": 203
        },
        "id": "pH1MfFIsE1w8",
        "outputId": "3e7b0dca-f6b7-4597-c7c9-10220c26e2d6"
      },
      "source": [
        "new_df.head()"
      ],
      "execution_count": 361,
      "outputs": [
        {
          "output_type": "execute_result",
          "data": {
            "text/html": [
              "<div>\n",
              "<style scoped>\n",
              "    .dataframe tbody tr th:only-of-type {\n",
              "        vertical-align: middle;\n",
              "    }\n",
              "\n",
              "    .dataframe tbody tr th {\n",
              "        vertical-align: top;\n",
              "    }\n",
              "\n",
              "    .dataframe thead th {\n",
              "        text-align: right;\n",
              "    }\n",
              "</style>\n",
              "<table border=\"1\" class=\"dataframe\">\n",
              "  <thead>\n",
              "    <tr style=\"text-align: right;\">\n",
              "      <th></th>\n",
              "      <th>id</th>\n",
              "      <th>key_skills</th>\n",
              "    </tr>\n",
              "  </thead>\n",
              "  <tbody>\n",
              "    <tr>\n",
              "      <th>0</th>\n",
              "      <td>36625264</td>\n",
              "      <td>[1С-Битрикс, PHP, REST, ООП, HTML5, CSS3, Техн...</td>\n",
              "    </tr>\n",
              "    <tr>\n",
              "      <th>1</th>\n",
              "      <td>36625264</td>\n",
              "      <td>[Android, JSON API, iOS, JSON, Мобильность]</td>\n",
              "    </tr>\n",
              "    <tr>\n",
              "      <th>2</th>\n",
              "      <td>36625264</td>\n",
              "      <td>[MySQL, PHP, JavaScript, CSS, HTML, Git, jQuer...</td>\n",
              "    </tr>\n",
              "    <tr>\n",
              "      <th>3</th>\n",
              "      <td>36625264</td>\n",
              "      <td>[MS Excel, Presentation skills, MS PowerPoint,...</td>\n",
              "    </tr>\n",
              "    <tr>\n",
              "      <th>4</th>\n",
              "      <td>36625264</td>\n",
              "      <td>[PHP, Symfony, AWS]</td>\n",
              "    </tr>\n",
              "  </tbody>\n",
              "</table>\n",
              "</div>"
            ],
            "text/plain": [
              "         id                                         key_skills\n",
              "0  36625264  [1С-Битрикс, PHP, REST, ООП, HTML5, CSS3, Техн...\n",
              "1  36625264        [Android, JSON API, iOS, JSON, Мобильность]\n",
              "2  36625264  [MySQL, PHP, JavaScript, CSS, HTML, Git, jQuer...\n",
              "3  36625264  [MS Excel, Presentation skills, MS PowerPoint,...\n",
              "4  36625264                                [PHP, Symfony, AWS]"
            ]
          },
          "metadata": {
            "tags": []
          },
          "execution_count": 361
        }
      ]
    },
    {
      "cell_type": "code",
      "metadata": {
        "colab": {
          "base_uri": "https://localhost:8080/"
        },
        "id": "G3-3WM-bE7ps",
        "outputId": "3a399426-bcdc-4449-88da-66c49e2ff0c9"
      },
      "source": [
        "df_skills = df['key_skills'].str.strip('[]')\n",
        "df_skills.head()"
      ],
      "execution_count": 362,
      "outputs": [
        {
          "output_type": "execute_result",
          "data": {
            "text/plain": [
              "0    1С-Битрикс\\nPHP\\nREST\\nООП\\nHTML5\\nCSS3\\nТехни...\n",
              "1    UX\\nAdobe Illustrator\\nAdobe Photoshop\\nДизайн...\n",
              "2    Internet Marketing\\nИнтернет-реклама\\nУправлен...\n",
              "3           PostgreSQL\\nPHP\\nYii\\nYii2\\nSQL\\nPHP7\\nGit\n",
              "4           PostgreSQL\\nPHP\\nYii\\nYii2\\nSQL\\nPHP7\\nGit\n",
              "Name: key_skills, dtype: object"
            ]
          },
          "metadata": {
            "tags": []
          },
          "execution_count": 362
        }
      ]
    },
    {
      "cell_type": "code",
      "metadata": {
        "id": "cXfI2A8_FGQm"
      },
      "source": [
        "df_skills = pd.DataFrame(data = df_skills.str.split('\\n'))"
      ],
      "execution_count": 363,
      "outputs": []
    },
    {
      "cell_type": "code",
      "metadata": {
        "colab": {
          "base_uri": "https://localhost:8080/",
          "height": 203
        },
        "id": "qePSfceiGHob",
        "outputId": "754cb68f-e16c-4b43-f3ef-3b5f0902ceb9"
      },
      "source": [
        "df_skills.head()"
      ],
      "execution_count": 364,
      "outputs": [
        {
          "output_type": "execute_result",
          "data": {
            "text/html": [
              "<div>\n",
              "<style scoped>\n",
              "    .dataframe tbody tr th:only-of-type {\n",
              "        vertical-align: middle;\n",
              "    }\n",
              "\n",
              "    .dataframe tbody tr th {\n",
              "        vertical-align: top;\n",
              "    }\n",
              "\n",
              "    .dataframe thead th {\n",
              "        text-align: right;\n",
              "    }\n",
              "</style>\n",
              "<table border=\"1\" class=\"dataframe\">\n",
              "  <thead>\n",
              "    <tr style=\"text-align: right;\">\n",
              "      <th></th>\n",
              "      <th>key_skills</th>\n",
              "    </tr>\n",
              "  </thead>\n",
              "  <tbody>\n",
              "    <tr>\n",
              "      <th>0</th>\n",
              "      <td>[1С-Битрикс, PHP, REST, ООП, HTML5, CSS3, Техн...</td>\n",
              "    </tr>\n",
              "    <tr>\n",
              "      <th>1</th>\n",
              "      <td>[UX, Adobe Illustrator, Adobe Photoshop, Дизай...</td>\n",
              "    </tr>\n",
              "    <tr>\n",
              "      <th>2</th>\n",
              "      <td>[Internet Marketing, Интернет-реклама, Управле...</td>\n",
              "    </tr>\n",
              "    <tr>\n",
              "      <th>3</th>\n",
              "      <td>[PostgreSQL, PHP, Yii, Yii2, SQL, PHP7, Git]</td>\n",
              "    </tr>\n",
              "    <tr>\n",
              "      <th>4</th>\n",
              "      <td>[PostgreSQL, PHP, Yii, Yii2, SQL, PHP7, Git]</td>\n",
              "    </tr>\n",
              "  </tbody>\n",
              "</table>\n",
              "</div>"
            ],
            "text/plain": [
              "                                          key_skills\n",
              "0  [1С-Битрикс, PHP, REST, ООП, HTML5, CSS3, Техн...\n",
              "1  [UX, Adobe Illustrator, Adobe Photoshop, Дизай...\n",
              "2  [Internet Marketing, Интернет-реклама, Управле...\n",
              "3       [PostgreSQL, PHP, Yii, Yii2, SQL, PHP7, Git]\n",
              "4       [PostgreSQL, PHP, Yii, Yii2, SQL, PHP7, Git]"
            ]
          },
          "metadata": {
            "tags": []
          },
          "execution_count": 364
        }
      ]
    },
    {
      "cell_type": "code",
      "metadata": {
        "id": "j_2w4ME4F0Hg"
      },
      "source": [
        "df_skills = pd.DataFrame(data = df_skills.key_skills.str.join(','))"
      ],
      "execution_count": 365,
      "outputs": []
    },
    {
      "cell_type": "code",
      "metadata": {
        "colab": {
          "base_uri": "https://localhost:8080/",
          "height": 203
        },
        "id": "3pKYlAMhGMfs",
        "outputId": "ef3c4899-6e5a-4882-c9c6-0efb469e3fa8"
      },
      "source": [
        "df_skills.head()"
      ],
      "execution_count": 366,
      "outputs": [
        {
          "output_type": "execute_result",
          "data": {
            "text/html": [
              "<div>\n",
              "<style scoped>\n",
              "    .dataframe tbody tr th:only-of-type {\n",
              "        vertical-align: middle;\n",
              "    }\n",
              "\n",
              "    .dataframe tbody tr th {\n",
              "        vertical-align: top;\n",
              "    }\n",
              "\n",
              "    .dataframe thead th {\n",
              "        text-align: right;\n",
              "    }\n",
              "</style>\n",
              "<table border=\"1\" class=\"dataframe\">\n",
              "  <thead>\n",
              "    <tr style=\"text-align: right;\">\n",
              "      <th></th>\n",
              "      <th>key_skills</th>\n",
              "    </tr>\n",
              "  </thead>\n",
              "  <tbody>\n",
              "    <tr>\n",
              "      <th>0</th>\n",
              "      <td>1С-Битрикс,PHP,REST,ООП,HTML5,CSS3,Техническая...</td>\n",
              "    </tr>\n",
              "    <tr>\n",
              "      <th>1</th>\n",
              "      <td>UX,Adobe Illustrator,Adobe Photoshop,Дизайн ин...</td>\n",
              "    </tr>\n",
              "    <tr>\n",
              "      <th>2</th>\n",
              "      <td>Internet Marketing,Интернет-реклама,Управление...</td>\n",
              "    </tr>\n",
              "    <tr>\n",
              "      <th>3</th>\n",
              "      <td>PostgreSQL,PHP,Yii,Yii2,SQL,PHP7,Git</td>\n",
              "    </tr>\n",
              "    <tr>\n",
              "      <th>4</th>\n",
              "      <td>PostgreSQL,PHP,Yii,Yii2,SQL,PHP7,Git</td>\n",
              "    </tr>\n",
              "  </tbody>\n",
              "</table>\n",
              "</div>"
            ],
            "text/plain": [
              "                                          key_skills\n",
              "0  1С-Битрикс,PHP,REST,ООП,HTML5,CSS3,Техническая...\n",
              "1  UX,Adobe Illustrator,Adobe Photoshop,Дизайн ин...\n",
              "2  Internet Marketing,Интернет-реклама,Управление...\n",
              "3               PostgreSQL,PHP,Yii,Yii2,SQL,PHP7,Git\n",
              "4               PostgreSQL,PHP,Yii,Yii2,SQL,PHP7,Git"
            ]
          },
          "metadata": {
            "tags": []
          },
          "execution_count": 366
        }
      ]
    },
    {
      "cell_type": "code",
      "metadata": {
        "colab": {
          "base_uri": "https://localhost:8080/"
        },
        "id": "BRpb1enCHIKV",
        "outputId": "a945ccef-56f5-4ca8-c3bc-f8c775ff37d9"
      },
      "source": [
        "df_skills.shape"
      ],
      "execution_count": 367,
      "outputs": [
        {
          "output_type": "execute_result",
          "data": {
            "text/plain": [
              "(55963, 1)"
            ]
          },
          "metadata": {
            "tags": []
          },
          "execution_count": 367
        }
      ]
    },
    {
      "cell_type": "code",
      "metadata": {
        "id": "Nb6hrwQCHLVQ"
      },
      "source": [
        "vectorizer = CountVectorizer(stop_words='english')\n",
        "X = vectorizer.fit_transform(df_skills.key_skills.values)"
      ],
      "execution_count": 381,
      "outputs": []
    },
    {
      "cell_type": "code",
      "metadata": {
        "id": "Q7abM38JHgZL"
      },
      "source": [
        "X.toarray()"
      ],
      "execution_count": null,
      "outputs": []
    }
  ]
}