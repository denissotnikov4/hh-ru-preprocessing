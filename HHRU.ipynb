{
  "nbformat": 4,
  "nbformat_minor": 0,
  "metadata": {
    "colab": {
      "name": "HHRU.ipynb",
      "provenance": []
    },
    "kernelspec": {
      "name": "python3",
      "display_name": "Python 3"
    },
    "language_info": {
      "name": "python"
    }
  },
  "cells": [
    {
      "cell_type": "code",
      "metadata": {
        "id": "to3gs_wVcmic"
      },
      "source": [
        "import pandas as pd\n",
        "import numpy as np\n",
        "import seaborn as sns\n",
        "import os"
      ],
      "execution_count": null,
      "outputs": []
    },
    {
      "cell_type": "code",
      "metadata": {
        "colab": {
          "base_uri": "https://localhost:8080/"
        },
        "id": "3CXDL7z1dGKC",
        "outputId": "40963845-0a1f-4048-fedb-fab54e54bd7e"
      },
      "source": [
        "from google.colab import drive\n",
        "drive.mount('/content/drive')"
      ],
      "execution_count": null,
      "outputs": [
        {
          "output_type": "stream",
          "text": [
            "Drive already mounted at /content/drive; to attempt to forcibly remount, call drive.mount(\"/content/drive\", force_remount=True).\n"
          ],
          "name": "stdout"
        }
      ]
    },
    {
      "cell_type": "code",
      "metadata": {
        "colab": {
          "base_uri": "https://localhost:8080/",
          "height": 475
        },
        "id": "YgmILgIOdDcQ",
        "outputId": "23820f07-5108-4875-97d6-d5599e697228"
      },
      "source": [
        "# Your path to data set below\n",
        "fn = '/content/drive/MyDrive/DataSets/vacancies_2020.csv.gz'\n",
        "df = pd.read_csv(fn, compression='gzip')\n",
        "df.head()"
      ],
      "execution_count": null,
      "outputs": [
        {
          "output_type": "execute_result",
          "data": {
            "text/html": [
              "<div>\n",
              "<style scoped>\n",
              "    .dataframe tbody tr th:only-of-type {\n",
              "        vertical-align: middle;\n",
              "    }\n",
              "\n",
              "    .dataframe tbody tr th {\n",
              "        vertical-align: top;\n",
              "    }\n",
              "\n",
              "    .dataframe thead th {\n",
              "        text-align: right;\n",
              "    }\n",
              "</style>\n",
              "<table border=\"1\" class=\"dataframe\">\n",
              "  <thead>\n",
              "    <tr style=\"text-align: right;\">\n",
              "      <th></th>\n",
              "      <th>id</th>\n",
              "      <th>description</th>\n",
              "      <th>key_skills</th>\n",
              "      <th>schedule_id</th>\n",
              "      <th>schedule_name</th>\n",
              "      <th>accept_handicapped</th>\n",
              "      <th>accept_kids</th>\n",
              "      <th>experience_id</th>\n",
              "      <th>experience_name</th>\n",
              "      <th>specializations</th>\n",
              "      <th>contacts</th>\n",
              "      <th>billing_type_id</th>\n",
              "      <th>billing_type_name</th>\n",
              "      <th>allow_messages</th>\n",
              "      <th>premium</th>\n",
              "      <th>driver_license_types</th>\n",
              "      <th>accept_incomplete_resumes</th>\n",
              "      <th>employer_id</th>\n",
              "      <th>employer_name</th>\n",
              "      <th>employer_vacancies_url</th>\n",
              "      <th>employer_trusted</th>\n",
              "      <th>employer_alternate_url</th>\n",
              "      <th>employer_industries</th>\n",
              "      <th>response_letter_required</th>\n",
              "      <th>type_id</th>\n",
              "      <th>type_name</th>\n",
              "      <th>has_test</th>\n",
              "      <th>response_url</th>\n",
              "      <th>test_required</th>\n",
              "      <th>salary_from</th>\n",
              "      <th>salary_to</th>\n",
              "      <th>salary_gross</th>\n",
              "      <th>salary_currency</th>\n",
              "      <th>archived</th>\n",
              "      <th>name</th>\n",
              "      <th>insider_interview</th>\n",
              "      <th>area_id</th>\n",
              "      <th>area_name</th>\n",
              "      <th>area_url</th>\n",
              "      <th>created_at</th>\n",
              "      <th>published_at</th>\n",
              "      <th>address_city</th>\n",
              "      <th>address_street</th>\n",
              "      <th>address_building</th>\n",
              "      <th>address_description</th>\n",
              "      <th>address_lat</th>\n",
              "      <th>address_lng</th>\n",
              "      <th>alternate_url</th>\n",
              "      <th>apply_alternate_url</th>\n",
              "      <th>code</th>\n",
              "      <th>department_id</th>\n",
              "      <th>department_name</th>\n",
              "      <th>employment_id</th>\n",
              "      <th>employment_name</th>\n",
              "      <th>prof_classes_found</th>\n",
              "      <th>terms_found</th>\n",
              "    </tr>\n",
              "  </thead>\n",
              "  <tbody>\n",
              "    <tr>\n",
              "      <th>0</th>\n",
              "      <td>30711158</td>\n",
              "      <td>&lt;p&gt;&lt;strong&gt;О Компании&lt;/strong&gt;&lt;/p&gt; &lt;p&gt;Мы помог...</td>\n",
              "      <td>NaN</td>\n",
              "      <td>fullDay</td>\n",
              "      <td>Полный день</td>\n",
              "      <td>False</td>\n",
              "      <td>False</td>\n",
              "      <td>between1And3</td>\n",
              "      <td>От 1 года до 3 лет</td>\n",
              "      <td>1.117 Тестирование 1 Информационные технологии...</td>\n",
              "      <td>NaN</td>\n",
              "      <td>standard</td>\n",
              "      <td>Стандарт</td>\n",
              "      <td>True</td>\n",
              "      <td>False</td>\n",
              "      <td>NaN</td>\n",
              "      <td>False</td>\n",
              "      <td>3034828.0</td>\n",
              "      <td>Смарт консалтинг</td>\n",
              "      <td>https://api.hh.ru/vacancies?employer_id=3034828</td>\n",
              "      <td>True</td>\n",
              "      <td>https://hh.ru/employer/3034828</td>\n",
              "      <td>Разработка программного обеспечения</td>\n",
              "      <td>False</td>\n",
              "      <td>open</td>\n",
              "      <td>Открытая</td>\n",
              "      <td>False</td>\n",
              "      <td>NaN</td>\n",
              "      <td>NaN</td>\n",
              "      <td>NaN</td>\n",
              "      <td>NaN</td>\n",
              "      <td>NaN</td>\n",
              "      <td>NaN</td>\n",
              "      <td>False</td>\n",
              "      <td>Тестировщик QA</td>\n",
              "      <td>NaN</td>\n",
              "      <td>4</td>\n",
              "      <td>Новосибирск</td>\n",
              "      <td>https://api.hh.ru/areas/4</td>\n",
              "      <td>2020-10-12T05:18:46+0300</td>\n",
              "      <td>2020-10-12T05:18:46+0300</td>\n",
              "      <td>Новосибирск</td>\n",
              "      <td>Октябрьская магистраль</td>\n",
              "      <td>4</td>\n",
              "      <td>NaN</td>\n",
              "      <td>55.022567</td>\n",
              "      <td>82.930086</td>\n",
              "      <td>https://hh.ru/vacancy/30711158</td>\n",
              "      <td>https://hh.ru/applicant/vacancy_response?vacan...</td>\n",
              "      <td>NaN</td>\n",
              "      <td>NaN</td>\n",
              "      <td>NaN</td>\n",
              "      <td>full</td>\n",
              "      <td>Полная занятость</td>\n",
              "      <td>tester</td>\n",
              "      <td>jmeter спринт тестировщик continuous_integrati...</td>\n",
              "    </tr>\n",
              "    <tr>\n",
              "      <th>1</th>\n",
              "      <td>30711538</td>\n",
              "      <td>&lt;p&gt;&lt;strong&gt;Vigrom&lt;/strong&gt; сегодня – междунаро...</td>\n",
              "      <td>PHP\\nSQL\\nООП\\nPostgreSQL\\nMemcached\\nSymfony\\...</td>\n",
              "      <td>fullDay</td>\n",
              "      <td>Полный день</td>\n",
              "      <td>False</td>\n",
              "      <td>False</td>\n",
              "      <td>between1And3</td>\n",
              "      <td>От 1 года до 3 лет</td>\n",
              "      <td>1.221 Программирование, Разработка 1 Информаци...</td>\n",
              "      <td>NaN</td>\n",
              "      <td>standard</td>\n",
              "      <td>Стандарт</td>\n",
              "      <td>True</td>\n",
              "      <td>False</td>\n",
              "      <td>NaN</td>\n",
              "      <td>False</td>\n",
              "      <td>1110684.0</td>\n",
              "      <td>Vigrom Corp.</td>\n",
              "      <td>https://api.hh.ru/vacancies?employer_id=1110684</td>\n",
              "      <td>True</td>\n",
              "      <td>https://hh.ru/employer/1110684</td>\n",
              "      <td>Интернет-компания (поисковики, платежные систе...</td>\n",
              "      <td>False</td>\n",
              "      <td>open</td>\n",
              "      <td>Открытая</td>\n",
              "      <td>False</td>\n",
              "      <td>NaN</td>\n",
              "      <td>NaN</td>\n",
              "      <td>NaN</td>\n",
              "      <td>NaN</td>\n",
              "      <td>NaN</td>\n",
              "      <td>NaN</td>\n",
              "      <td>True</td>\n",
              "      <td>PHP-разработчик</td>\n",
              "      <td>NaN</td>\n",
              "      <td>71</td>\n",
              "      <td>Пенза</td>\n",
              "      <td>https://api.hh.ru/areas/71</td>\n",
              "      <td>2020-01-28T10:52:44+0300</td>\n",
              "      <td>2020-01-28T10:52:44+0300</td>\n",
              "      <td>Пенза</td>\n",
              "      <td>Тамбовская улица</td>\n",
              "      <td>35Б</td>\n",
              "      <td>NaN</td>\n",
              "      <td>53.173614</td>\n",
              "      <td>45.005847</td>\n",
              "      <td>https://hh.ru/vacancy/30711538</td>\n",
              "      <td>https://hh.ru/applicant/vacancy_response?vacan...</td>\n",
              "      <td>NaN</td>\n",
              "      <td>NaN</td>\n",
              "      <td>NaN</td>\n",
              "      <td>full</td>\n",
              "      <td>Полная занятость</td>\n",
              "      <td>programmer</td>\n",
              "      <td>современный_офис memcache team phpunit php арх...</td>\n",
              "    </tr>\n",
              "    <tr>\n",
              "      <th>2</th>\n",
              "      <td>30713109</td>\n",
              "      <td>&lt;p&gt;Каждый день миллионы пользователей находят ...</td>\n",
              "      <td>NaN</td>\n",
              "      <td>remote</td>\n",
              "      <td>Удаленная работа</td>\n",
              "      <td>True</td>\n",
              "      <td>False</td>\n",
              "      <td>noExperience</td>\n",
              "      <td>Нет опыта</td>\n",
              "      <td>4.278 Сотрудник call-центра 4 Административный...</td>\n",
              "      <td>NaN</td>\n",
              "      <td>standard</td>\n",
              "      <td>Стандарт</td>\n",
              "      <td>False</td>\n",
              "      <td>False</td>\n",
              "      <td>NaN</td>\n",
              "      <td>True</td>\n",
              "      <td>1740.0</td>\n",
              "      <td>Яндекс</td>\n",
              "      <td>https://api.hh.ru/vacancies?employer_id=1740</td>\n",
              "      <td>True</td>\n",
              "      <td>https://hh.ru/employer/1740</td>\n",
              "      <td>Интернет-компания (поисковики, платежные систе...</td>\n",
              "      <td>False</td>\n",
              "      <td>open</td>\n",
              "      <td>Открытая</td>\n",
              "      <td>False</td>\n",
              "      <td>NaN</td>\n",
              "      <td>NaN</td>\n",
              "      <td>NaN</td>\n",
              "      <td>NaN</td>\n",
              "      <td>NaN</td>\n",
              "      <td>NaN</td>\n",
              "      <td>True</td>\n",
              "      <td>Оператор саll-центра</td>\n",
              "      <td>NaN</td>\n",
              "      <td>2</td>\n",
              "      <td>Санкт-Петербург</td>\n",
              "      <td>https://api.hh.ru/areas/2</td>\n",
              "      <td>2020-03-21T10:07:10+0300</td>\n",
              "      <td>2020-03-21T10:07:10+0300</td>\n",
              "      <td>NaN</td>\n",
              "      <td>NaN</td>\n",
              "      <td>NaN</td>\n",
              "      <td>NaN</td>\n",
              "      <td>NaN</td>\n",
              "      <td>NaN</td>\n",
              "      <td>https://hh.ru/vacancy/30713109</td>\n",
              "      <td>https://hh.ru/applicant/vacancy_response?vacan...</td>\n",
              "      <td>NaN</td>\n",
              "      <td>NaN</td>\n",
              "      <td>NaN</td>\n",
              "      <td>part</td>\n",
              "      <td>Частичная занятость</td>\n",
              "      <td>operator</td>\n",
              "      <td>яндекс windows_7 гибкий_график</td>\n",
              "    </tr>\n",
              "    <tr>\n",
              "      <th>3</th>\n",
              "      <td>30714567</td>\n",
              "      <td>&lt;p&gt;&lt;strong&gt;В твоих руках - отличная возможност...</td>\n",
              "      <td>NaN</td>\n",
              "      <td>fullDay</td>\n",
              "      <td>Полный день</td>\n",
              "      <td>False</td>\n",
              "      <td>False</td>\n",
              "      <td>noExperience</td>\n",
              "      <td>Нет опыта</td>\n",
              "      <td>17.269 Телекоммуникации, Сетевые решения 17 Пр...</td>\n",
              "      <td>NaN</td>\n",
              "      <td>standard</td>\n",
              "      <td>Стандарт</td>\n",
              "      <td>True</td>\n",
              "      <td>False</td>\n",
              "      <td>NaN</td>\n",
              "      <td>False</td>\n",
              "      <td>1217313.0</td>\n",
              "      <td>МегаФон Ритейл</td>\n",
              "      <td>https://api.hh.ru/vacancies?employer_id=1217313</td>\n",
              "      <td>True</td>\n",
              "      <td>https://hh.ru/employer/1217313</td>\n",
              "      <td>Розничная сеть (мобильный ретейл)</td>\n",
              "      <td>False</td>\n",
              "      <td>open</td>\n",
              "      <td>Открытая</td>\n",
              "      <td>False</td>\n",
              "      <td>NaN</td>\n",
              "      <td>NaN</td>\n",
              "      <td>23000.0</td>\n",
              "      <td>29000.0</td>\n",
              "      <td>False</td>\n",
              "      <td>RUR</td>\n",
              "      <td>True</td>\n",
              "      <td>Продавец - Консультант офиса продаж и обслужив...</td>\n",
              "      <td>NaN</td>\n",
              "      <td>1395</td>\n",
              "      <td>Копейск</td>\n",
              "      <td>https://api.hh.ru/areas/1395</td>\n",
              "      <td>2020-01-13T12:38:10+0300</td>\n",
              "      <td>2020-01-13T12:38:10+0300</td>\n",
              "      <td>Челябинск</td>\n",
              "      <td>улица Кирова</td>\n",
              "      <td>159</td>\n",
              "      <td>NaN</td>\n",
              "      <td>55.164515</td>\n",
              "      <td>61.401188</td>\n",
              "      <td>https://hh.ru/vacancy/30714567</td>\n",
              "      <td>https://hh.ru/applicant/vacancy_response?vacan...</td>\n",
              "      <td>NaN</td>\n",
              "      <td>NaN</td>\n",
              "      <td>NaN</td>\n",
              "      <td>full</td>\n",
              "      <td>Полная занятость</td>\n",
              "      <td>prodajnik</td>\n",
              "      <td>медицинская_страховка официальное_трудоустройс...</td>\n",
              "    </tr>\n",
              "    <tr>\n",
              "      <th>4</th>\n",
              "      <td>30716168</td>\n",
              "      <td>&lt;p&gt;&lt;strong&gt;Компания «Северсталь-Инфоком» - цен...</td>\n",
              "      <td>Bash\\nPowerShell\\nC++\\nC#\\nJava\\nPerl\\nPython\\...</td>\n",
              "      <td>fullDay</td>\n",
              "      <td>Полный день</td>\n",
              "      <td>False</td>\n",
              "      <td>False</td>\n",
              "      <td>between1And3</td>\n",
              "      <td>От 1 года до 3 лет</td>\n",
              "      <td>1.221 Программирование, Разработка 1 Информаци...</td>\n",
              "      <td>NaN</td>\n",
              "      <td>standard</td>\n",
              "      <td>Стандарт</td>\n",
              "      <td>True</td>\n",
              "      <td>False</td>\n",
              "      <td>NaN</td>\n",
              "      <td>False</td>\n",
              "      <td>6041.0</td>\n",
              "      <td>Северсталь, Москва</td>\n",
              "      <td>https://api.hh.ru/vacancies?employer_id=6041</td>\n",
              "      <td>True</td>\n",
              "      <td>https://hh.ru/employer/6041</td>\n",
              "      <td>Добыча и обогащение угля\\nПродукция черной мет...</td>\n",
              "      <td>False</td>\n",
              "      <td>open</td>\n",
              "      <td>Открытая</td>\n",
              "      <td>False</td>\n",
              "      <td>NaN</td>\n",
              "      <td>NaN</td>\n",
              "      <td>NaN</td>\n",
              "      <td>NaN</td>\n",
              "      <td>NaN</td>\n",
              "      <td>NaN</td>\n",
              "      <td>True</td>\n",
              "      <td>Технический консультант</td>\n",
              "      <td>NaN</td>\n",
              "      <td>1753</td>\n",
              "      <td>Череповец</td>\n",
              "      <td>https://api.hh.ru/areas/1753</td>\n",
              "      <td>2020-01-23T17:59:56+0300</td>\n",
              "      <td>2020-01-23T17:59:56+0300</td>\n",
              "      <td>Череповец</td>\n",
              "      <td>улица Мира</td>\n",
              "      <td>30</td>\n",
              "      <td>NaN</td>\n",
              "      <td>59.136091</td>\n",
              "      <td>37.877356</td>\n",
              "      <td>https://hh.ru/vacancy/30716168</td>\n",
              "      <td>https://hh.ru/applicant/vacancy_response?vacan...</td>\n",
              "      <td>NaN</td>\n",
              "      <td>severstal-6041-it</td>\n",
              "      <td>Северсталь. ИТ Компания</td>\n",
              "      <td>full</td>\n",
              "      <td>Полная занятость</td>\n",
              "      <td>consultant</td>\n",
              "      <td>bash team c# perl английский_язык тестирование...</td>\n",
              "    </tr>\n",
              "  </tbody>\n",
              "</table>\n",
              "</div>"
            ],
            "text/plain": [
              "         id  ...                                        terms_found\n",
              "0  30711158  ...  jmeter спринт тестировщик continuous_integrati...\n",
              "1  30711538  ...  современный_офис memcache team phpunit php арх...\n",
              "2  30713109  ...                     яндекс windows_7 гибкий_график\n",
              "3  30714567  ...  медицинская_страховка официальное_трудоустройс...\n",
              "4  30716168  ...  bash team c# perl английский_язык тестирование...\n",
              "\n",
              "[5 rows x 56 columns]"
            ]
          },
          "metadata": {
            "tags": []
          },
          "execution_count": 3
        }
      ]
    },
    {
      "cell_type": "code",
      "metadata": {
        "colab": {
          "base_uri": "https://localhost:8080/"
        },
        "id": "lNy36bLhhOsR",
        "outputId": "c465d8e4-de9d-4289-832b-d3941d5e623a"
      },
      "source": [
        "df.shape"
      ],
      "execution_count": null,
      "outputs": [
        {
          "output_type": "execute_result",
          "data": {
            "text/plain": [
              "(587637, 56)"
            ]
          },
          "metadata": {
            "tags": []
          },
          "execution_count": 4
        }
      ]
    },
    {
      "cell_type": "code",
      "metadata": {
        "colab": {
          "base_uri": "https://localhost:8080/"
        },
        "id": "IZymAXBLekvH",
        "outputId": "674c8098-faf7-4fc9-b12c-472f3f4f4953"
      },
      "source": [
        "df.info()"
      ],
      "execution_count": null,
      "outputs": [
        {
          "output_type": "stream",
          "text": [
            "<class 'pandas.core.frame.DataFrame'>\n",
            "RangeIndex: 587637 entries, 0 to 587636\n",
            "Data columns (total 56 columns):\n",
            " #   Column                     Non-Null Count   Dtype  \n",
            "---  ------                     --------------   -----  \n",
            " 0   id                         587637 non-null  int64  \n",
            " 1   description                587637 non-null  object \n",
            " 2   key_skills                 431738 non-null  object \n",
            " 3   schedule_id                587637 non-null  object \n",
            " 4   schedule_name              587637 non-null  object \n",
            " 5   accept_handicapped         587637 non-null  bool   \n",
            " 6   accept_kids                587637 non-null  bool   \n",
            " 7   experience_id              587637 non-null  object \n",
            " 8   experience_name            587637 non-null  object \n",
            " 9   specializations            587637 non-null  object \n",
            " 10  contacts                   12130 non-null   object \n",
            " 11  billing_type_id            587637 non-null  object \n",
            " 12  billing_type_name          587637 non-null  object \n",
            " 13  allow_messages             587637 non-null  bool   \n",
            " 14  premium                    587637 non-null  bool   \n",
            " 15  driver_license_types       1749 non-null    object \n",
            " 16  accept_incomplete_resumes  587637 non-null  bool   \n",
            " 17  employer_id                586477 non-null  float64\n",
            " 18  employer_name              587637 non-null  object \n",
            " 19  employer_vacancies_url     586477 non-null  object \n",
            " 20  employer_trusted           586477 non-null  object \n",
            " 21  employer_alternate_url     586477 non-null  object \n",
            " 22  employer_industries        473202 non-null  object \n",
            " 23  response_letter_required   587637 non-null  bool   \n",
            " 24  type_id                    587637 non-null  object \n",
            " 25  type_name                  587637 non-null  object \n",
            " 26  has_test                   587637 non-null  bool   \n",
            " 27  response_url               757 non-null     object \n",
            " 28  test_required              2948 non-null    object \n",
            " 29  salary_from                258741 non-null  float64\n",
            " 30  salary_to                  164509 non-null  float64\n",
            " 31  salary_gross               284072 non-null  object \n",
            " 32  salary_currency            285014 non-null  object \n",
            " 33  archived                   587637 non-null  bool   \n",
            " 34  name                       587637 non-null  object \n",
            " 35  insider_interview          6570 non-null    object \n",
            " 36  area_id                    587637 non-null  int64  \n",
            " 37  area_name                  587637 non-null  object \n",
            " 38  area_url                   587637 non-null  object \n",
            " 39  created_at                 587637 non-null  object \n",
            " 40  published_at               587637 non-null  object \n",
            " 41  address_city               276688 non-null  object \n",
            " 42  address_street             271467 non-null  object \n",
            " 43  address_building           262952 non-null  object \n",
            " 44  address_description        0 non-null       float64\n",
            " 45  address_lat                278728 non-null  float64\n",
            " 46  address_lng                278728 non-null  float64\n",
            " 47  alternate_url              587637 non-null  object \n",
            " 48  apply_alternate_url        587637 non-null  object \n",
            " 49  code                       6673 non-null    object \n",
            " 50  department_id              39413 non-null   object \n",
            " 51  department_name            39413 non-null   object \n",
            " 52  employment_id              587637 non-null  object \n",
            " 53  employment_name            587637 non-null  object \n",
            " 54  prof_classes_found         576794 non-null  object \n",
            " 55  terms_found                583826 non-null  object \n",
            "dtypes: bool(8), float64(6), int64(2), object(40)\n",
            "memory usage: 219.7+ MB\n"
          ],
          "name": "stdout"
        }
      ]
    },
    {
      "cell_type": "markdown",
      "metadata": {
        "id": "I8xEIquTrC9w"
      },
      "source": [
        "---\n",
        "# Rename and drop columns\n",
        "---\n"
      ]
    },
    {
      "cell_type": "code",
      "metadata": {
        "id": "wkWx_Q9LU22h"
      },
      "source": [
        "df = df.rename(columns={'schedule_id': 'schedule', \n",
        "                        'experience_id': 'experience',\n",
        "                        'billing_type_id':'billing_type',\n",
        "                        'type_id': 'type',\n",
        "                        'department_id': 'department',\n",
        "                        'employment_id': 'employment',\n",
        "                        'published_at': 'date'})"
      ],
      "execution_count": null,
      "outputs": []
    },
    {
      "cell_type": "code",
      "metadata": {
        "id": "0AGi93xl0Q6c"
      },
      "source": [
        "df = df.drop(columns=['billing_type_name', 'schedule_name', 'experience_name', \n",
        "                      'type_name', 'address_street', 'address_building', \n",
        "                      'address_description', 'address_lat', 'address_lng', \n",
        "                      'address_lng', 'contacts', 'driver_license_types', \n",
        "                      'response_url', 'insider_interview', 'code', 'department', \n",
        "                      'department_name', 'employment_name', 'area_url',\n",
        "                      'created_at', 'employer_alternate_url', \n",
        "                      'apply_alternate_url', 'type', 'billing_type', \n",
        "                      'address_city', 'description', 'specializations', \n",
        "                      'employer_name', 'employer_vacancies_url', 'alternate_url',\n",
        "                      'premium', 'employer_id'])"
      ],
      "execution_count": null,
      "outputs": []
    },
    {
      "cell_type": "code",
      "metadata": {
        "colab": {
          "base_uri": "https://localhost:8080/"
        },
        "id": "W7wFDKzy_9BD",
        "outputId": "dfed2edf-ffd9-4416-d591-2a8e4a829129"
      },
      "source": [
        "df.shape"
      ],
      "execution_count": null,
      "outputs": [
        {
          "output_type": "execute_result",
          "data": {
            "text/plain": [
              "(587637, 25)"
            ]
          },
          "metadata": {
            "tags": []
          },
          "execution_count": 8
        }
      ]
    },
    {
      "cell_type": "markdown",
      "metadata": {
        "id": "DWQkQHHSrMO1"
      },
      "source": [
        "---\n",
        "# Data filtering\n",
        "---\n"
      ]
    },
    {
      "cell_type": "code",
      "metadata": {
        "id": "JmwkIFgL4FsZ"
      },
      "source": [
        "df = df[df.archived == 1]"
      ],
      "execution_count": null,
      "outputs": []
    },
    {
      "cell_type": "code",
      "metadata": {
        "id": "0GbUXuorrbqD"
      },
      "source": [
        "df = df[(df.salary_from.isna() == False) & (df.salary_to.isna() == False) & (df.key_skills.isna() == False)]"
      ],
      "execution_count": null,
      "outputs": []
    },
    {
      "cell_type": "code",
      "metadata": {
        "colab": {
          "base_uri": "https://localhost:8080/"
        },
        "id": "ZC_K3wb-0o0p",
        "outputId": "a78567b5-3edc-4ffc-fc7b-ff5e9b998336"
      },
      "source": [
        "df.prof_classes_found.value_counts().head()"
      ],
      "execution_count": null,
      "outputs": [
        {
          "output_type": "execute_result",
          "data": {
            "text/plain": [
              "programmer    23834\n",
              "prodajnik      8757\n",
              "support        5886\n",
              "sysadmin       4885\n",
              "specialist     3921\n",
              "Name: prof_classes_found, dtype: int64"
            ]
          },
          "metadata": {
            "tags": []
          },
          "execution_count": 11
        }
      ]
    },
    {
      "cell_type": "code",
      "metadata": {
        "id": "lR4bUEJB0tnC"
      },
      "source": [
        "df = df[df.prof_classes_found != 'prodajnik']\n",
        "df = df[df.prof_classes_found != 'montajnik']\n",
        "df = df[df.prof_classes_found != 'teacher']\n",
        "df = df[df.prof_classes_found != 'just_work']\n",
        "df = df[df.prof_classes_found != 'montajnik electric']\n",
        "df = df[df.prof_classes_found != 'rukovoditel_zam']\n",
        "df = df[df.prof_classes_found != 'prodajnik electric']\n",
        "df = df[df.prof_classes_found != 'electric']\n",
        "df = df[(df.prof_classes_found != 'prodajnik technic')]\n",
        "df = df[df.employment != 'volunteer']"
      ],
      "execution_count": null,
      "outputs": []
    },
    {
      "cell_type": "code",
      "metadata": {
        "id": "Jj-MSnH7fzDu"
      },
      "source": [
        "df = df.reset_index(drop=True)"
      ],
      "execution_count": null,
      "outputs": []
    },
    {
      "cell_type": "code",
      "metadata": {
        "id": "VKHSNCmi4aOb",
        "colab": {
          "base_uri": "https://localhost:8080/"
        },
        "outputId": "54a45299-6bb5-4033-b3c7-bc5c18403504"
      },
      "source": [
        "df.shape"
      ],
      "execution_count": null,
      "outputs": [
        {
          "output_type": "execute_result",
          "data": {
            "text/plain": [
              "(75384, 25)"
            ]
          },
          "metadata": {
            "tags": []
          },
          "execution_count": 14
        }
      ]
    },
    {
      "cell_type": "code",
      "metadata": {
        "id": "bq6iY3Q9utnG"
      },
      "source": [
        "df = df.drop(columns='archived')"
      ],
      "execution_count": null,
      "outputs": []
    },
    {
      "cell_type": "code",
      "metadata": {
        "colab": {
          "base_uri": "https://localhost:8080/"
        },
        "id": "A8SlQgzLf1xi",
        "outputId": "4faa467a-8752-4576-a709-acf057dbc19b"
      },
      "source": [
        "df.head()"
      ],
      "execution_count": null,
      "outputs": [
        {
          "output_type": "execute_result",
          "data": {
            "text/html": [
              "<div>\n",
              "<style scoped>\n",
              "    .dataframe tbody tr th:only-of-type {\n",
              "        vertical-align: middle;\n",
              "    }\n",
              "\n",
              "    .dataframe tbody tr th {\n",
              "        vertical-align: top;\n",
              "    }\n",
              "\n",
              "    .dataframe thead th {\n",
              "        text-align: right;\n",
              "    }\n",
              "</style>\n",
              "<table border=\"1\" class=\"dataframe\">\n",
              "  <thead>\n",
              "    <tr style=\"text-align: right;\">\n",
              "      <th></th>\n",
              "      <th>id</th>\n",
              "      <th>key_skills</th>\n",
              "      <th>schedule</th>\n",
              "      <th>accept_handicapped</th>\n",
              "      <th>accept_kids</th>\n",
              "      <th>experience</th>\n",
              "      <th>allow_messages</th>\n",
              "      <th>accept_incomplete_resumes</th>\n",
              "      <th>employer_trusted</th>\n",
              "      <th>employer_industries</th>\n",
              "      <th>response_letter_required</th>\n",
              "      <th>has_test</th>\n",
              "      <th>test_required</th>\n",
              "      <th>salary_from</th>\n",
              "      <th>salary_to</th>\n",
              "      <th>salary_gross</th>\n",
              "      <th>salary_currency</th>\n",
              "      <th>name</th>\n",
              "      <th>area_id</th>\n",
              "      <th>area_name</th>\n",
              "      <th>date</th>\n",
              "      <th>employment</th>\n",
              "      <th>prof_classes_found</th>\n",
              "      <th>terms_found</th>\n",
              "    </tr>\n",
              "  </thead>\n",
              "  <tbody>\n",
              "    <tr>\n",
              "      <th>0</th>\n",
              "      <td>33721414</td>\n",
              "      <td>Активные продажи\\nХолодные продажи\\nПрямые про...</td>\n",
              "      <td>fullDay</td>\n",
              "      <td>False</td>\n",
              "      <td>False</td>\n",
              "      <td>noExperience</td>\n",
              "      <td>True</td>\n",
              "      <td>False</td>\n",
              "      <td>True</td>\n",
              "      <td>Интернет-провайдер\\nОптоволоконная связь\\nФикс...</td>\n",
              "      <td>False</td>\n",
              "      <td>False</td>\n",
              "      <td>NaN</td>\n",
              "      <td>14000.0</td>\n",
              "      <td>50000.0</td>\n",
              "      <td>True</td>\n",
              "      <td>RUR</td>\n",
              "      <td>Агент по сбору заявок на подключение</td>\n",
              "      <td>52</td>\n",
              "      <td>Кострома</td>\n",
              "      <td>2020-02-03T09:05:56+0300</td>\n",
              "      <td>full</td>\n",
              "      <td>NaN</td>\n",
              "      <td>дружный_коллектив опыт_работы</td>\n",
              "    </tr>\n",
              "    <tr>\n",
              "      <th>1</th>\n",
              "      <td>33723735</td>\n",
              "      <td>B2B Продажи\\nВедение переговоров</td>\n",
              "      <td>fullDay</td>\n",
              "      <td>False</td>\n",
              "      <td>False</td>\n",
              "      <td>noExperience</td>\n",
              "      <td>True</td>\n",
              "      <td>True</td>\n",
              "      <td>True</td>\n",
              "      <td>Оптоволоконная связь\\nФиксированная связь</td>\n",
              "      <td>False</td>\n",
              "      <td>False</td>\n",
              "      <td>NaN</td>\n",
              "      <td>35000.0</td>\n",
              "      <td>60000.0</td>\n",
              "      <td>False</td>\n",
              "      <td>RUR</td>\n",
              "      <td>Менеджер по работе с корпоративными клиентами</td>\n",
              "      <td>1753</td>\n",
              "      <td>Череповец</td>\n",
              "      <td>2020-01-15T10:44:35+0300</td>\n",
              "      <td>full</td>\n",
              "      <td>support</td>\n",
              "      <td>комфортный_офис power_point менеджер_по_продаж...</td>\n",
              "    </tr>\n",
              "    <tr>\n",
              "      <th>2</th>\n",
              "      <td>36620015</td>\n",
              "      <td>Windows 7\\nВысокая скорость печати\\nWindows Os...</td>\n",
              "      <td>fullDay</td>\n",
              "      <td>False</td>\n",
              "      <td>False</td>\n",
              "      <td>between3And6</td>\n",
              "      <td>True</td>\n",
              "      <td>False</td>\n",
              "      <td>True</td>\n",
              "      <td>NaN</td>\n",
              "      <td>False</td>\n",
              "      <td>False</td>\n",
              "      <td>NaN</td>\n",
              "      <td>30000.0</td>\n",
              "      <td>35000.0</td>\n",
              "      <td>False</td>\n",
              "      <td>RUR</td>\n",
              "      <td>Инженер-программист</td>\n",
              "      <td>90</td>\n",
              "      <td>Томск</td>\n",
              "      <td>2020-04-10T12:40:35+0300</td>\n",
              "      <td>full</td>\n",
              "      <td>programmer</td>\n",
              "      <td>высшее_образование windows_7 windows_2003 тест...</td>\n",
              "    </tr>\n",
              "    <tr>\n",
              "      <th>3</th>\n",
              "      <td>36620022</td>\n",
              "      <td>Atlassian Jira\\nSQL\\nБазы данных\\nРазработка т...</td>\n",
              "      <td>fullDay</td>\n",
              "      <td>False</td>\n",
              "      <td>False</td>\n",
              "      <td>between1And3</td>\n",
              "      <td>True</td>\n",
              "      <td>False</td>\n",
              "      <td>True</td>\n",
              "      <td>Системная интеграция,  автоматизации технологи...</td>\n",
              "      <td>False</td>\n",
              "      <td>False</td>\n",
              "      <td>NaN</td>\n",
              "      <td>45000.0</td>\n",
              "      <td>73000.0</td>\n",
              "      <td>True</td>\n",
              "      <td>RUR</td>\n",
              "      <td>Системный аналитик</td>\n",
              "      <td>90</td>\n",
              "      <td>Томск</td>\n",
              "      <td>2020-04-10T12:40:57+0300</td>\n",
              "      <td>full</td>\n",
              "      <td>analyst</td>\n",
              "      <td>высшее_образование site разработчик google_ana...</td>\n",
              "    </tr>\n",
              "    <tr>\n",
              "      <th>4</th>\n",
              "      <td>36620106</td>\n",
              "      <td>JavaScript\\nReact\\nReactNative</td>\n",
              "      <td>fullDay</td>\n",
              "      <td>False</td>\n",
              "      <td>False</td>\n",
              "      <td>between3And6</td>\n",
              "      <td>True</td>\n",
              "      <td>False</td>\n",
              "      <td>True</td>\n",
              "      <td>Научно-исследовательская, научная, академическ...</td>\n",
              "      <td>False</td>\n",
              "      <td>False</td>\n",
              "      <td>NaN</td>\n",
              "      <td>150000.0</td>\n",
              "      <td>200000.0</td>\n",
              "      <td>False</td>\n",
              "      <td>RUR</td>\n",
              "      <td>Frontend developer (React)</td>\n",
              "      <td>1</td>\n",
              "      <td>Москва</td>\n",
              "      <td>2020-04-10T12:47:20+0300</td>\n",
              "      <td>full</td>\n",
              "      <td>programmer</td>\n",
              "      <td>разработчик react медицинская_страховка опыт_р...</td>\n",
              "    </tr>\n",
              "  </tbody>\n",
              "</table>\n",
              "</div>"
            ],
            "text/plain": [
              "         id  ...                                        terms_found\n",
              "0  33721414  ...                      дружный_коллектив опыт_работы\n",
              "1  33723735  ...  комфортный_офис power_point менеджер_по_продаж...\n",
              "2  36620015  ...  высшее_образование windows_7 windows_2003 тест...\n",
              "3  36620022  ...  высшее_образование site разработчик google_ana...\n",
              "4  36620106  ...  разработчик react медицинская_страховка опыт_р...\n",
              "\n",
              "[5 rows x 24 columns]"
            ]
          },
          "metadata": {
            "tags": []
          },
          "execution_count": 16
        }
      ]
    },
    {
      "cell_type": "markdown",
      "metadata": {
        "id": "wHHrPCrRbMmz"
      },
      "source": [
        "---\n",
        "# Change a Categorical data\n",
        "---\n"
      ]
    },
    {
      "cell_type": "code",
      "metadata": {
        "id": "aR6X1p48ZoCX"
      },
      "source": [
        "from sklearn.preprocessing import OneHotEncoder, OrdinalEncoder"
      ],
      "execution_count": null,
      "outputs": []
    },
    {
      "cell_type": "code",
      "metadata": {
        "id": "uthNgIY_bpDq"
      },
      "source": [
        "onehot_encoder = OneHotEncoder(sparse=False)"
      ],
      "execution_count": null,
      "outputs": []
    },
    {
      "cell_type": "code",
      "metadata": {
        "id": "cYpsU6YNeZIe"
      },
      "source": [
        "# Change a boolean value\n",
        "df[\"accept_handicapped\"]        = df[\"accept_handicapped\"].replace([False, True], [0, 1])\n",
        "df[\"accept_kids\"]               = df[\"accept_kids\"].replace([False, True], [0, 1])\n",
        "df[\"allow_messages\"]            = df[\"allow_messages\"].replace([False, True], [0, 1])\n",
        "df[\"accept_incomplete_resumes\"] = df[\"accept_incomplete_resumes\"].replace([False, True], [0, 1])\n",
        "df[\"response_letter_required\"]  = df[\"response_letter_required\"].replace([False, True], [0, 1])\n",
        "df[\"has_test\"]                  = df[\"has_test\"].replace([False, True], [0, 1])"
      ],
      "execution_count": null,
      "outputs": []
    },
    {
      "cell_type": "code",
      "metadata": {
        "id": "sMvlhu5yhKC1"
      },
      "source": [
        "# Change a object value\n",
        "df[\"employer_trusted\"] = df[\"employer_trusted\"].replace([False, True], [0, 1])\n",
        "df[\"test_required\"]    = df[\"test_required\"].replace([False, True], [0, 1])\n",
        "df[\"salary_gross\"]     = df[\"salary_gross\"].replace([False, True], [0, 1])"
      ],
      "execution_count": null,
      "outputs": []
    },
    {
      "cell_type": "code",
      "metadata": {
        "colab": {
          "base_uri": "https://localhost:8080/"
        },
        "id": "xEwa32vKUVGv",
        "outputId": "6dd6f593-d541-4e13-8b61-87a9f4bca3cb"
      },
      "source": [
        "df.head(1)"
      ],
      "execution_count": null,
      "outputs": [
        {
          "output_type": "execute_result",
          "data": {
            "text/html": [
              "<div>\n",
              "<style scoped>\n",
              "    .dataframe tbody tr th:only-of-type {\n",
              "        vertical-align: middle;\n",
              "    }\n",
              "\n",
              "    .dataframe tbody tr th {\n",
              "        vertical-align: top;\n",
              "    }\n",
              "\n",
              "    .dataframe thead th {\n",
              "        text-align: right;\n",
              "    }\n",
              "</style>\n",
              "<table border=\"1\" class=\"dataframe\">\n",
              "  <thead>\n",
              "    <tr style=\"text-align: right;\">\n",
              "      <th></th>\n",
              "      <th>id</th>\n",
              "      <th>key_skills</th>\n",
              "      <th>schedule</th>\n",
              "      <th>accept_handicapped</th>\n",
              "      <th>accept_kids</th>\n",
              "      <th>experience</th>\n",
              "      <th>allow_messages</th>\n",
              "      <th>accept_incomplete_resumes</th>\n",
              "      <th>employer_trusted</th>\n",
              "      <th>employer_industries</th>\n",
              "      <th>response_letter_required</th>\n",
              "      <th>has_test</th>\n",
              "      <th>test_required</th>\n",
              "      <th>salary_from</th>\n",
              "      <th>salary_to</th>\n",
              "      <th>salary_gross</th>\n",
              "      <th>salary_currency</th>\n",
              "      <th>name</th>\n",
              "      <th>area_id</th>\n",
              "      <th>area_name</th>\n",
              "      <th>date</th>\n",
              "      <th>employment</th>\n",
              "      <th>prof_classes_found</th>\n",
              "      <th>terms_found</th>\n",
              "    </tr>\n",
              "  </thead>\n",
              "  <tbody>\n",
              "    <tr>\n",
              "      <th>0</th>\n",
              "      <td>33721414</td>\n",
              "      <td>Активные продажи\\nХолодные продажи\\nПрямые про...</td>\n",
              "      <td>fullDay</td>\n",
              "      <td>0</td>\n",
              "      <td>0</td>\n",
              "      <td>noExperience</td>\n",
              "      <td>1</td>\n",
              "      <td>0</td>\n",
              "      <td>1.0</td>\n",
              "      <td>Интернет-провайдер\\nОптоволоконная связь\\nФикс...</td>\n",
              "      <td>0</td>\n",
              "      <td>0</td>\n",
              "      <td>NaN</td>\n",
              "      <td>14000.0</td>\n",
              "      <td>50000.0</td>\n",
              "      <td>1.0</td>\n",
              "      <td>RUR</td>\n",
              "      <td>Агент по сбору заявок на подключение</td>\n",
              "      <td>52</td>\n",
              "      <td>Кострома</td>\n",
              "      <td>2020-02-03T09:05:56+0300</td>\n",
              "      <td>full</td>\n",
              "      <td>NaN</td>\n",
              "      <td>дружный_коллектив опыт_работы</td>\n",
              "    </tr>\n",
              "  </tbody>\n",
              "</table>\n",
              "</div>"
            ],
            "text/plain": [
              "         id  ...                    terms_found\n",
              "0  33721414  ...  дружный_коллектив опыт_работы\n",
              "\n",
              "[1 rows x 24 columns]"
            ]
          },
          "metadata": {
            "tags": []
          },
          "execution_count": 21
        }
      ]
    },
    {
      "cell_type": "markdown",
      "metadata": {
        "id": "0xsNJNeAP9yz"
      },
      "source": [
        "---\n",
        "### OneHotEncoder for the \"schedule\" column\n",
        "---\n"
      ]
    },
    {
      "cell_type": "code",
      "metadata": {
        "id": "pg0ho0KFOaaf",
        "colab": {
          "base_uri": "https://localhost:8080/"
        },
        "outputId": "30ace20a-dc24-44a0-cbfe-1a82a2c653c0"
      },
      "source": [
        "df.schedule.value_counts()"
      ],
      "execution_count": null,
      "outputs": [
        {
          "output_type": "execute_result",
          "data": {
            "text/plain": [
              "fullDay        53464\n",
              "remote         13539\n",
              "flexible        4924\n",
              "shift           2258\n",
              "flyInFlyOut     1199\n",
              "Name: schedule, dtype: int64"
            ]
          },
          "metadata": {
            "tags": []
          },
          "execution_count": 22
        }
      ]
    },
    {
      "cell_type": "code",
      "metadata": {
        "id": "_1odl3OkmooK",
        "colab": {
          "base_uri": "https://localhost:8080/"
        },
        "outputId": "bb4aff15-7fe6-4d03-9316-1c0b4592e845"
      },
      "source": [
        "df.id[df.schedule.isna() == True].count()"
      ],
      "execution_count": null,
      "outputs": [
        {
          "output_type": "execute_result",
          "data": {
            "text/plain": [
              "0"
            ]
          },
          "metadata": {
            "tags": []
          },
          "execution_count": 23
        }
      ]
    },
    {
      "cell_type": "code",
      "metadata": {
        "id": "mZ2QU6TEkYcp"
      },
      "source": [
        "schd = pd.DataFrame(onehot_encoder.fit_transform(df[['schedule']]))\n",
        "schd = schd.rename(columns={0: 'schedule_flexible', 1: 'schedule_flyInFlyOut', \n",
        "                            2: 'schedule_fullDay', 3: 'schedule_remote', \n",
        "                            4: 'schedule_shift'})"
      ],
      "execution_count": null,
      "outputs": []
    },
    {
      "cell_type": "code",
      "metadata": {
        "id": "ZzPW28ihkl-X",
        "colab": {
          "base_uri": "https://localhost:8080/"
        },
        "outputId": "007745bc-caeb-42a4-9bda-0215f667bb19"
      },
      "source": [
        "schd.shape"
      ],
      "execution_count": null,
      "outputs": [
        {
          "output_type": "execute_result",
          "data": {
            "text/plain": [
              "(75384, 5)"
            ]
          },
          "metadata": {
            "tags": []
          },
          "execution_count": 25
        }
      ]
    },
    {
      "cell_type": "code",
      "metadata": {
        "id": "tm0RSk9blmMW"
      },
      "source": [
        "df['schedule_flexible']    = schd.schedule_flexible\n",
        "df['schedule_flyInFlyOut'] = schd.schedule_flyInFlyOut\n",
        "df['schedule_fullDay']     = schd.schedule_fullDay\n",
        "df['schedule_remote']   = schd.schedule_remote\n",
        "df['schedule_shift']   = schd.schedule_shift"
      ],
      "execution_count": null,
      "outputs": []
    },
    {
      "cell_type": "code",
      "metadata": {
        "id": "Wx1UDLnOl_Q9",
        "colab": {
          "base_uri": "https://localhost:8080/"
        },
        "outputId": "f1c88cc2-a7a6-41ca-9780-bbc1432eb5c9"
      },
      "source": [
        "df.head(1)"
      ],
      "execution_count": null,
      "outputs": [
        {
          "output_type": "execute_result",
          "data": {
            "text/html": [
              "<div>\n",
              "<style scoped>\n",
              "    .dataframe tbody tr th:only-of-type {\n",
              "        vertical-align: middle;\n",
              "    }\n",
              "\n",
              "    .dataframe tbody tr th {\n",
              "        vertical-align: top;\n",
              "    }\n",
              "\n",
              "    .dataframe thead th {\n",
              "        text-align: right;\n",
              "    }\n",
              "</style>\n",
              "<table border=\"1\" class=\"dataframe\">\n",
              "  <thead>\n",
              "    <tr style=\"text-align: right;\">\n",
              "      <th></th>\n",
              "      <th>id</th>\n",
              "      <th>key_skills</th>\n",
              "      <th>schedule</th>\n",
              "      <th>accept_handicapped</th>\n",
              "      <th>accept_kids</th>\n",
              "      <th>experience</th>\n",
              "      <th>allow_messages</th>\n",
              "      <th>accept_incomplete_resumes</th>\n",
              "      <th>employer_trusted</th>\n",
              "      <th>employer_industries</th>\n",
              "      <th>response_letter_required</th>\n",
              "      <th>has_test</th>\n",
              "      <th>test_required</th>\n",
              "      <th>salary_from</th>\n",
              "      <th>salary_to</th>\n",
              "      <th>salary_gross</th>\n",
              "      <th>salary_currency</th>\n",
              "      <th>name</th>\n",
              "      <th>area_id</th>\n",
              "      <th>area_name</th>\n",
              "      <th>date</th>\n",
              "      <th>employment</th>\n",
              "      <th>prof_classes_found</th>\n",
              "      <th>terms_found</th>\n",
              "      <th>schedule_flexible</th>\n",
              "      <th>schedule_flyInFlyOut</th>\n",
              "      <th>schedule_fullDay</th>\n",
              "      <th>schedule_remote</th>\n",
              "      <th>schedule_shift</th>\n",
              "    </tr>\n",
              "  </thead>\n",
              "  <tbody>\n",
              "    <tr>\n",
              "      <th>0</th>\n",
              "      <td>33721414</td>\n",
              "      <td>Активные продажи\\nХолодные продажи\\nПрямые про...</td>\n",
              "      <td>fullDay</td>\n",
              "      <td>0</td>\n",
              "      <td>0</td>\n",
              "      <td>noExperience</td>\n",
              "      <td>1</td>\n",
              "      <td>0</td>\n",
              "      <td>1.0</td>\n",
              "      <td>Интернет-провайдер\\nОптоволоконная связь\\nФикс...</td>\n",
              "      <td>0</td>\n",
              "      <td>0</td>\n",
              "      <td>NaN</td>\n",
              "      <td>14000.0</td>\n",
              "      <td>50000.0</td>\n",
              "      <td>1.0</td>\n",
              "      <td>RUR</td>\n",
              "      <td>Агент по сбору заявок на подключение</td>\n",
              "      <td>52</td>\n",
              "      <td>Кострома</td>\n",
              "      <td>2020-02-03T09:05:56+0300</td>\n",
              "      <td>full</td>\n",
              "      <td>NaN</td>\n",
              "      <td>дружный_коллектив опыт_работы</td>\n",
              "      <td>0.0</td>\n",
              "      <td>0.0</td>\n",
              "      <td>1.0</td>\n",
              "      <td>0.0</td>\n",
              "      <td>0.0</td>\n",
              "    </tr>\n",
              "  </tbody>\n",
              "</table>\n",
              "</div>"
            ],
            "text/plain": [
              "         id  ... schedule_shift\n",
              "0  33721414  ...            0.0\n",
              "\n",
              "[1 rows x 29 columns]"
            ]
          },
          "metadata": {
            "tags": []
          },
          "execution_count": 27
        }
      ]
    },
    {
      "cell_type": "code",
      "metadata": {
        "id": "oeb64xWxmDla"
      },
      "source": [
        "df = df.drop(columns='schedule')"
      ],
      "execution_count": null,
      "outputs": []
    },
    {
      "cell_type": "code",
      "metadata": {
        "id": "vMwTa--RmgaN",
        "colab": {
          "base_uri": "https://localhost:8080/"
        },
        "outputId": "a9548133-4556-4604-b08d-49ca8ee7ebff"
      },
      "source": [
        "df.shape"
      ],
      "execution_count": null,
      "outputs": [
        {
          "output_type": "execute_result",
          "data": {
            "text/plain": [
              "(75384, 28)"
            ]
          },
          "metadata": {
            "tags": []
          },
          "execution_count": 29
        }
      ]
    },
    {
      "cell_type": "markdown",
      "metadata": {
        "id": "2IhH-xsLd_Hy"
      },
      "source": [
        "---\n",
        "### OneHotEncoder for the \"employment\" column\n",
        "---"
      ]
    },
    {
      "cell_type": "code",
      "metadata": {
        "id": "5F3625lrnLHv",
        "colab": {
          "base_uri": "https://localhost:8080/"
        },
        "outputId": "08b7d572-a7ba-401f-f810-c958101c0f0c"
      },
      "source": [
        "df.id[df.employment.isna() == True].count()"
      ],
      "execution_count": null,
      "outputs": [
        {
          "output_type": "execute_result",
          "data": {
            "text/plain": [
              "0"
            ]
          },
          "metadata": {
            "tags": []
          },
          "execution_count": 30
        }
      ]
    },
    {
      "cell_type": "code",
      "metadata": {
        "id": "cxEz2J4CblBB",
        "colab": {
          "base_uri": "https://localhost:8080/"
        },
        "outputId": "c0197bb3-4649-4028-e1f6-25e885181c3a"
      },
      "source": [
        "empl = pd.DataFrame(onehot_encoder.fit_transform(df[['employment']]))\n",
        "empl = empl.rename(columns={0 : 'employment_full', 1: 'employment_part', \n",
        "                            2: 'employment_probation', 3: 'employment_project'})\n",
        "empl.shape"
      ],
      "execution_count": null,
      "outputs": [
        {
          "output_type": "execute_result",
          "data": {
            "text/plain": [
              "(75384, 4)"
            ]
          },
          "metadata": {
            "tags": []
          },
          "execution_count": 31
        }
      ]
    },
    {
      "cell_type": "code",
      "metadata": {
        "id": "4SjIlXuDiSuI"
      },
      "source": [
        "df['employment_full']      = empl.employment_full\n",
        "df['employment_part']      = empl.employment_part\n",
        "df['employment_probation'] = empl.employment_probation\n",
        "df['employment_project']   = empl.employment_project"
      ],
      "execution_count": null,
      "outputs": []
    },
    {
      "cell_type": "code",
      "metadata": {
        "id": "ghuljcSsia6W"
      },
      "source": [
        "df = df.drop(columns='employment')"
      ],
      "execution_count": null,
      "outputs": []
    },
    {
      "cell_type": "code",
      "metadata": {
        "id": "VsbMmn9htWR7",
        "colab": {
          "base_uri": "https://localhost:8080/"
        },
        "outputId": "78026b17-14bf-4bd6-dac3-60180c4bc57d"
      },
      "source": [
        "df.head(1)"
      ],
      "execution_count": null,
      "outputs": [
        {
          "output_type": "execute_result",
          "data": {
            "text/html": [
              "<div>\n",
              "<style scoped>\n",
              "    .dataframe tbody tr th:only-of-type {\n",
              "        vertical-align: middle;\n",
              "    }\n",
              "\n",
              "    .dataframe tbody tr th {\n",
              "        vertical-align: top;\n",
              "    }\n",
              "\n",
              "    .dataframe thead th {\n",
              "        text-align: right;\n",
              "    }\n",
              "</style>\n",
              "<table border=\"1\" class=\"dataframe\">\n",
              "  <thead>\n",
              "    <tr style=\"text-align: right;\">\n",
              "      <th></th>\n",
              "      <th>id</th>\n",
              "      <th>key_skills</th>\n",
              "      <th>accept_handicapped</th>\n",
              "      <th>accept_kids</th>\n",
              "      <th>experience</th>\n",
              "      <th>allow_messages</th>\n",
              "      <th>accept_incomplete_resumes</th>\n",
              "      <th>employer_trusted</th>\n",
              "      <th>employer_industries</th>\n",
              "      <th>response_letter_required</th>\n",
              "      <th>has_test</th>\n",
              "      <th>test_required</th>\n",
              "      <th>salary_from</th>\n",
              "      <th>salary_to</th>\n",
              "      <th>salary_gross</th>\n",
              "      <th>salary_currency</th>\n",
              "      <th>name</th>\n",
              "      <th>area_id</th>\n",
              "      <th>area_name</th>\n",
              "      <th>date</th>\n",
              "      <th>prof_classes_found</th>\n",
              "      <th>terms_found</th>\n",
              "      <th>schedule_flexible</th>\n",
              "      <th>schedule_flyInFlyOut</th>\n",
              "      <th>schedule_fullDay</th>\n",
              "      <th>schedule_remote</th>\n",
              "      <th>schedule_shift</th>\n",
              "      <th>employment_full</th>\n",
              "      <th>employment_part</th>\n",
              "      <th>employment_probation</th>\n",
              "      <th>employment_project</th>\n",
              "    </tr>\n",
              "  </thead>\n",
              "  <tbody>\n",
              "    <tr>\n",
              "      <th>0</th>\n",
              "      <td>33721414</td>\n",
              "      <td>Активные продажи\\nХолодные продажи\\nПрямые про...</td>\n",
              "      <td>0</td>\n",
              "      <td>0</td>\n",
              "      <td>noExperience</td>\n",
              "      <td>1</td>\n",
              "      <td>0</td>\n",
              "      <td>1.0</td>\n",
              "      <td>Интернет-провайдер\\nОптоволоконная связь\\nФикс...</td>\n",
              "      <td>0</td>\n",
              "      <td>0</td>\n",
              "      <td>NaN</td>\n",
              "      <td>14000.0</td>\n",
              "      <td>50000.0</td>\n",
              "      <td>1.0</td>\n",
              "      <td>RUR</td>\n",
              "      <td>Агент по сбору заявок на подключение</td>\n",
              "      <td>52</td>\n",
              "      <td>Кострома</td>\n",
              "      <td>2020-02-03T09:05:56+0300</td>\n",
              "      <td>NaN</td>\n",
              "      <td>дружный_коллектив опыт_работы</td>\n",
              "      <td>0.0</td>\n",
              "      <td>0.0</td>\n",
              "      <td>1.0</td>\n",
              "      <td>0.0</td>\n",
              "      <td>0.0</td>\n",
              "      <td>1.0</td>\n",
              "      <td>0.0</td>\n",
              "      <td>0.0</td>\n",
              "      <td>0.0</td>\n",
              "    </tr>\n",
              "  </tbody>\n",
              "</table>\n",
              "</div>"
            ],
            "text/plain": [
              "         id  ... employment_project\n",
              "0  33721414  ...                0.0\n",
              "\n",
              "[1 rows x 31 columns]"
            ]
          },
          "metadata": {
            "tags": []
          },
          "execution_count": 34
        }
      ]
    },
    {
      "cell_type": "markdown",
      "metadata": {
        "id": "9RfXGz5Go4P0"
      },
      "source": [
        "---\n",
        "### OneHotEncoder for the \"area_name\" column \n",
        "---\n"
      ]
    },
    {
      "cell_type": "code",
      "metadata": {
        "id": "mJ7qt_aPpEUj",
        "colab": {
          "base_uri": "https://localhost:8080/"
        },
        "outputId": "aab8bc2b-f542-4961-ee75-74ba8d0534ab"
      },
      "source": [
        "df.area_name.value_counts().head(26)"
      ],
      "execution_count": null,
      "outputs": [
        {
          "output_type": "execute_result",
          "data": {
            "text/plain": [
              "Москва             20075\n",
              "Санкт-Петербург     8202\n",
              "Новосибирск         2597\n",
              "Екатеринбург        2172\n",
              "Минск               1927\n",
              "Казань              1823\n",
              "Алматы              1675\n",
              "Краснодар           1662\n",
              "Нижний Новгород     1598\n",
              "Ростов-на-Дону      1373\n",
              "Киев                1079\n",
              "Воронеж             1069\n",
              "Самара              1010\n",
              "Пермь                990\n",
              "Челябинск            975\n",
              "Красноярск           952\n",
              "Нур-Султан           912\n",
              "Уфа                  831\n",
              "Томск                774\n",
              "Тюмень               687\n",
              "Омск                 670\n",
              "Владивосток          622\n",
              "Тула                 609\n",
              "Волгоград            584\n",
              "Саратов              584\n",
              "Ташкент              511\n",
              "Name: area_name, dtype: int64"
            ]
          },
          "metadata": {
            "tags": []
          },
          "execution_count": 35
        }
      ]
    },
    {
      "cell_type": "code",
      "metadata": {
        "id": "HjnKjGhKtkQ3",
        "colab": {
          "base_uri": "https://localhost:8080/"
        },
        "outputId": "3ffb1c1c-21ac-4dc8-9965-40d1ac9e629d"
      },
      "source": [
        "df.shape"
      ],
      "execution_count": null,
      "outputs": [
        {
          "output_type": "execute_result",
          "data": {
            "text/plain": [
              "(75384, 31)"
            ]
          },
          "metadata": {
            "tags": []
          },
          "execution_count": 36
        }
      ]
    },
    {
      "cell_type": "code",
      "metadata": {
        "id": "D4QOanA_pRxv",
        "colab": {
          "base_uri": "https://localhost:8080/"
        },
        "outputId": "8f995704-1bfc-44c0-9b97-f19815a24c34"
      },
      "source": [
        "df.id[df.area_name.isna() == True].count()"
      ],
      "execution_count": null,
      "outputs": [
        {
          "output_type": "execute_result",
          "data": {
            "text/plain": [
              "0"
            ]
          },
          "metadata": {
            "tags": []
          },
          "execution_count": 37
        }
      ]
    },
    {
      "cell_type": "code",
      "metadata": {
        "id": "Td3ZFxsSppCy"
      },
      "source": [
        "df_moskow = df[df.area_name == 'Москва']\n",
        "df_spb = df[df.area_name == 'Санкт-Петербург']\n",
        "df_novosib = df[df.area_name == 'Новосибирск']\n",
        "df_ekb = df[df.area_name == 'Екатеринбург']\n",
        "df_minsk = df[df.area_name == 'Минск']\n",
        "df_kazan = df[df.area_name == 'Казань']\n",
        "df_almaty = df[df.area_name == 'Алматы']\n",
        "df_krasnodar = df[df.area_name == 'Краснодар']\n",
        "df_nnovgorod = df[df.area_name == 'Нижний Новгород']\n",
        "df_rostov = df[df.area_name == 'Ростов-на-Дону']\n",
        "df_kiev = df[df.area_name == 'Киев']\n",
        "df_voronezh = df[df.area_name == 'Воронеж']\n",
        "df_samara = df[df.area_name == 'Самара']\n",
        "df_perm = df[df.area_name == 'Пермь']\n",
        "df_chelyabinsk = df[df.area_name == 'Челябинск']\n",
        "df_krasnoyarsk = df[df.area_name == 'Красноярск']\n",
        "df_nur_sultan = df[df.area_name == 'Нур-Султан']\n",
        "df_ufa = df[df.area_name == 'Уфа']\n",
        "df_tomsk = df[df.area_name == 'Томск']\n",
        "df_tyumen = df[df.area_name == 'Тюмень']\n",
        "df_omsk = df[df.area_name == 'Омск']\n",
        "df_vladivostok = df[df.area_name == 'Владивосток']\n",
        "df_tula = df[df.area_name == 'Тула']\n",
        "df_volgograd = df[df.area_name == 'Волгоград']\n",
        "df_saratov = df[df.area_name == 'Саратов']\n",
        "df_tashkent = df[df.area_name == 'Ташкент']"
      ],
      "execution_count": null,
      "outputs": []
    },
    {
      "cell_type": "code",
      "metadata": {
        "id": "LvKg7IF6pUaw"
      },
      "source": [
        "df_city = df_moskow.append(df_spb).append(df_novosib).append(df_ekb).append(df_minsk) \\\n",
        ".append(df_kazan).append(df_almaty).append(df_krasnodar).append(df_nnovgorod) \\\n",
        ".append(df_rostov).append(df_kiev).append(df_voronezh) \\\n",
        ".append(df_samara).append(df_perm).append(df_chelyabinsk).append(df_krasnoyarsk) \\\n",
        ".append(df_nur_sultan).append(df_ufa).append(df_tomsk).append(df_tyumen) \\\n",
        ".append(df_omsk).append(df_vladivostok).append(df_tula).append(df_volgograd) \\\n",
        ".append(df_saratov).append(df_tashkent)"
      ],
      "execution_count": null,
      "outputs": []
    },
    {
      "cell_type": "code",
      "metadata": {
        "id": "BrZhbKxFy2XJ",
        "colab": {
          "base_uri": "https://localhost:8080/"
        },
        "outputId": "d9cc5afc-9800-4b96-fbf5-ec0edd08bd9c"
      },
      "source": [
        "df_city.shape"
      ],
      "execution_count": null,
      "outputs": [
        {
          "output_type": "execute_result",
          "data": {
            "text/plain": [
              "(55963, 31)"
            ]
          },
          "metadata": {
            "tags": []
          },
          "execution_count": 40
        }
      ]
    },
    {
      "cell_type": "code",
      "metadata": {
        "id": "RE2jNDR4zh_y"
      },
      "source": [
        "df_city = df_city.reset_index(drop=True)\n",
        "df = df_city"
      ],
      "execution_count": null,
      "outputs": []
    },
    {
      "cell_type": "code",
      "metadata": {
        "id": "efk6Mv6wzTyE"
      },
      "source": [
        "city = pd.DataFrame(onehot_encoder.fit_transform(df_city[['area_name']]))\n",
        "city = city.rename(columns={0: 'almaty', 1: 'vladivostok', 2: 'volgograd',  3: 'voronezh', 4: 'ekaterinburg', 5: 'kazan', \\\n",
        "                            6: 'kiev', 7: 'krasnodar', 8: 'krasnoyarsk', 9: 'minsk', 10: 'moskow', \\\n",
        "                            11: 'nizhny_novgorod', 12: 'novosibirsk', 13: 'nur_sultan', 15: 'perm', 14: 'omsk', 16: 'rostov_on_don', \\\n",
        "                            17: 'samara', 18: 'st_petersburg', 19: 'saratov', 20: 'tashkent', 21: 'tomsk', 22: 'tula', 23: 'tyumen', 24: 'ufa',  25: 'chelyabinsk'})"
      ],
      "execution_count": null,
      "outputs": []
    },
    {
      "cell_type": "code",
      "metadata": {
        "id": "esIRQo498CA1",
        "colab": {
          "base_uri": "https://localhost:8080/"
        },
        "outputId": "b1d9e4b5-c779-4ef4-e583-6f58f6b668b1"
      },
      "source": [
        "city.columns"
      ],
      "execution_count": null,
      "outputs": [
        {
          "output_type": "execute_result",
          "data": {
            "text/plain": [
              "Index(['almaty', 'vladivostok', 'volgograd', 'voronezh', 'ekaterinburg',\n",
              "       'kazan', 'kiev', 'krasnodar', 'krasnoyarsk', 'minsk', 'moskow',\n",
              "       'nizhny_novgorod', 'novosibirsk', 'nur_sultan', 'omsk', 'perm',\n",
              "       'rostov_on_don', 'samara', 'st_petersburg', 'saratov', 'tashkent',\n",
              "       'tomsk', 'tula', 'tyumen', 'ufa', 'chelyabinsk'],\n",
              "      dtype='object')"
            ]
          },
          "metadata": {
            "tags": []
          },
          "execution_count": 43
        }
      ]
    },
    {
      "cell_type": "code",
      "metadata": {
        "id": "ZStvVJV78APW"
      },
      "source": [
        "df['almaty']          = city.almaty\n",
        "df['vladivostok']     = city.vladivostok\n",
        "df['volgograd']       = city.volgograd\n",
        "df['voronezh']        = city.voronezh\n",
        "df['ekaterinburg']    = city.ekaterinburg\n",
        "df['kazan']           = city.kazan\n",
        "df['kiev']            = city.kiev\n",
        "df['krasnodar']       = city.krasnodar\n",
        "df['krasnoyarsk']     = city.krasnoyarsk\n",
        "df['minsk']           = city.minsk\n",
        "df['moskow']          = city.moskow\n",
        "df['nizhny_novgorod'] = city.nizhny_novgorod\n",
        "df['novosibirsk']     = city.novosibirsk\n",
        "df['nur-sultan']      = city.nur_sultan\n",
        "df['omsk']            = city.omsk\n",
        "df['perm']            = city.perm\n",
        "df['rostov_on_don']   = city.rostov_on_don\n",
        "df['samara']          = city.samara\n",
        "df['st_petersburg']   = city.st_petersburg\n",
        "df['saratov']         = city.saratov\n",
        "df['tashkent']        = city.tashkent\n",
        "df['tomsk']           = city.tomsk\n",
        "df['tula']            = city.tula\n",
        "df['tyumen']          = city.tyumen\n",
        "df['ufa']             = city.ufa\n",
        "df['chelyabinsk']     = city.chelyabinsk"
      ],
      "execution_count": null,
      "outputs": []
    },
    {
      "cell_type": "code",
      "metadata": {
        "id": "SR45bJZ3CMRq"
      },
      "source": [
        "df = df.drop(columns='area_name')"
      ],
      "execution_count": null,
      "outputs": []
    },
    {
      "cell_type": "code",
      "metadata": {
        "id": "RiB3JIkk9rif",
        "colab": {
          "base_uri": "https://localhost:8080/"
        },
        "outputId": "c6415ee8-f70e-405c-ce8d-f45488bffb53"
      },
      "source": [
        "df.shape"
      ],
      "execution_count": null,
      "outputs": [
        {
          "output_type": "execute_result",
          "data": {
            "text/plain": [
              "(55963, 56)"
            ]
          },
          "metadata": {
            "tags": []
          },
          "execution_count": 46
        }
      ]
    },
    {
      "cell_type": "code",
      "metadata": {
        "id": "GxR6iiIe9x70",
        "colab": {
          "base_uri": "https://localhost:8080/"
        },
        "outputId": "bd431fca-f4db-4eec-e2f2-9fca24db57a6"
      },
      "source": [
        "df.head()"
      ],
      "execution_count": null,
      "outputs": [
        {
          "output_type": "execute_result",
          "data": {
            "text/html": [
              "<div>\n",
              "<style scoped>\n",
              "    .dataframe tbody tr th:only-of-type {\n",
              "        vertical-align: middle;\n",
              "    }\n",
              "\n",
              "    .dataframe tbody tr th {\n",
              "        vertical-align: top;\n",
              "    }\n",
              "\n",
              "    .dataframe thead th {\n",
              "        text-align: right;\n",
              "    }\n",
              "</style>\n",
              "<table border=\"1\" class=\"dataframe\">\n",
              "  <thead>\n",
              "    <tr style=\"text-align: right;\">\n",
              "      <th></th>\n",
              "      <th>id</th>\n",
              "      <th>key_skills</th>\n",
              "      <th>accept_handicapped</th>\n",
              "      <th>accept_kids</th>\n",
              "      <th>experience</th>\n",
              "      <th>allow_messages</th>\n",
              "      <th>accept_incomplete_resumes</th>\n",
              "      <th>employer_trusted</th>\n",
              "      <th>employer_industries</th>\n",
              "      <th>response_letter_required</th>\n",
              "      <th>has_test</th>\n",
              "      <th>test_required</th>\n",
              "      <th>salary_from</th>\n",
              "      <th>salary_to</th>\n",
              "      <th>salary_gross</th>\n",
              "      <th>salary_currency</th>\n",
              "      <th>name</th>\n",
              "      <th>area_id</th>\n",
              "      <th>date</th>\n",
              "      <th>prof_classes_found</th>\n",
              "      <th>terms_found</th>\n",
              "      <th>schedule_flexible</th>\n",
              "      <th>schedule_flyInFlyOut</th>\n",
              "      <th>schedule_fullDay</th>\n",
              "      <th>schedule_remote</th>\n",
              "      <th>schedule_shift</th>\n",
              "      <th>employment_full</th>\n",
              "      <th>employment_part</th>\n",
              "      <th>employment_probation</th>\n",
              "      <th>employment_project</th>\n",
              "      <th>almaty</th>\n",
              "      <th>vladivostok</th>\n",
              "      <th>volgograd</th>\n",
              "      <th>voronezh</th>\n",
              "      <th>ekaterinburg</th>\n",
              "      <th>kazan</th>\n",
              "      <th>kiev</th>\n",
              "      <th>krasnodar</th>\n",
              "      <th>krasnoyarsk</th>\n",
              "      <th>minsk</th>\n",
              "      <th>moskow</th>\n",
              "      <th>nizhny_novgorod</th>\n",
              "      <th>novosibirsk</th>\n",
              "      <th>nur-sultan</th>\n",
              "      <th>omsk</th>\n",
              "      <th>perm</th>\n",
              "      <th>rostov_on_don</th>\n",
              "      <th>samara</th>\n",
              "      <th>st_petersburg</th>\n",
              "      <th>saratov</th>\n",
              "      <th>tashkent</th>\n",
              "      <th>tomsk</th>\n",
              "      <th>tula</th>\n",
              "      <th>tyumen</th>\n",
              "      <th>ufa</th>\n",
              "      <th>chelyabinsk</th>\n",
              "    </tr>\n",
              "  </thead>\n",
              "  <tbody>\n",
              "    <tr>\n",
              "      <th>0</th>\n",
              "      <td>36620106</td>\n",
              "      <td>JavaScript\\nReact\\nReactNative</td>\n",
              "      <td>0</td>\n",
              "      <td>0</td>\n",
              "      <td>between3And6</td>\n",
              "      <td>1</td>\n",
              "      <td>0</td>\n",
              "      <td>1.0</td>\n",
              "      <td>Научно-исследовательская, научная, академическ...</td>\n",
              "      <td>0</td>\n",
              "      <td>0</td>\n",
              "      <td>NaN</td>\n",
              "      <td>150000.0</td>\n",
              "      <td>200000.0</td>\n",
              "      <td>0.0</td>\n",
              "      <td>RUR</td>\n",
              "      <td>Frontend developer (React)</td>\n",
              "      <td>1</td>\n",
              "      <td>2020-04-10T12:47:20+0300</td>\n",
              "      <td>programmer</td>\n",
              "      <td>разработчик react медицинская_страховка опыт_р...</td>\n",
              "      <td>0.0</td>\n",
              "      <td>0.0</td>\n",
              "      <td>1.0</td>\n",
              "      <td>0.0</td>\n",
              "      <td>0.0</td>\n",
              "      <td>1.0</td>\n",
              "      <td>0.0</td>\n",
              "      <td>0.0</td>\n",
              "      <td>0.0</td>\n",
              "      <td>0.0</td>\n",
              "      <td>0.0</td>\n",
              "      <td>0.0</td>\n",
              "      <td>0.0</td>\n",
              "      <td>0.0</td>\n",
              "      <td>0.0</td>\n",
              "      <td>0.0</td>\n",
              "      <td>0.0</td>\n",
              "      <td>0.0</td>\n",
              "      <td>0.0</td>\n",
              "      <td>1.0</td>\n",
              "      <td>0.0</td>\n",
              "      <td>0.0</td>\n",
              "      <td>0.0</td>\n",
              "      <td>0.0</td>\n",
              "      <td>0.0</td>\n",
              "      <td>0.0</td>\n",
              "      <td>0.0</td>\n",
              "      <td>0.0</td>\n",
              "      <td>0.0</td>\n",
              "      <td>0.0</td>\n",
              "      <td>0.0</td>\n",
              "      <td>0.0</td>\n",
              "      <td>0.0</td>\n",
              "      <td>0.0</td>\n",
              "      <td>0.0</td>\n",
              "    </tr>\n",
              "    <tr>\n",
              "      <th>1</th>\n",
              "      <td>36620535</td>\n",
              "      <td>Информационная безопасность\\nMS Visio\\nРазрабо...</td>\n",
              "      <td>0</td>\n",
              "      <td>0</td>\n",
              "      <td>between1And3</td>\n",
              "      <td>1</td>\n",
              "      <td>0</td>\n",
              "      <td>1.0</td>\n",
              "      <td>Государственные организации\\nРазработка програ...</td>\n",
              "      <td>1</td>\n",
              "      <td>0</td>\n",
              "      <td>NaN</td>\n",
              "      <td>70000.0</td>\n",
              "      <td>100000.0</td>\n",
              "      <td>1.0</td>\n",
              "      <td>RUR</td>\n",
              "      <td>Советник отдела информационной безопасности</td>\n",
              "      <td>1</td>\n",
              "      <td>2020-04-10T13:17:56+0300</td>\n",
              "      <td>it_security</td>\n",
              "      <td>разработка информационная_безопасность опыт_ра...</td>\n",
              "      <td>0.0</td>\n",
              "      <td>0.0</td>\n",
              "      <td>1.0</td>\n",
              "      <td>0.0</td>\n",
              "      <td>0.0</td>\n",
              "      <td>1.0</td>\n",
              "      <td>0.0</td>\n",
              "      <td>0.0</td>\n",
              "      <td>0.0</td>\n",
              "      <td>0.0</td>\n",
              "      <td>0.0</td>\n",
              "      <td>0.0</td>\n",
              "      <td>0.0</td>\n",
              "      <td>0.0</td>\n",
              "      <td>0.0</td>\n",
              "      <td>0.0</td>\n",
              "      <td>0.0</td>\n",
              "      <td>0.0</td>\n",
              "      <td>0.0</td>\n",
              "      <td>1.0</td>\n",
              "      <td>0.0</td>\n",
              "      <td>0.0</td>\n",
              "      <td>0.0</td>\n",
              "      <td>0.0</td>\n",
              "      <td>0.0</td>\n",
              "      <td>0.0</td>\n",
              "      <td>0.0</td>\n",
              "      <td>0.0</td>\n",
              "      <td>0.0</td>\n",
              "      <td>0.0</td>\n",
              "      <td>0.0</td>\n",
              "      <td>0.0</td>\n",
              "      <td>0.0</td>\n",
              "      <td>0.0</td>\n",
              "      <td>0.0</td>\n",
              "    </tr>\n",
              "    <tr>\n",
              "      <th>2</th>\n",
              "      <td>36620748</td>\n",
              "      <td>C++\\nУмение принимать решения\\nQt\\nCистемы упр...</td>\n",
              "      <td>0</td>\n",
              "      <td>0</td>\n",
              "      <td>between3And6</td>\n",
              "      <td>1</td>\n",
              "      <td>0</td>\n",
              "      <td>1.0</td>\n",
              "      <td>NaN</td>\n",
              "      <td>0</td>\n",
              "      <td>0</td>\n",
              "      <td>NaN</td>\n",
              "      <td>100000.0</td>\n",
              "      <td>200000.0</td>\n",
              "      <td>0.0</td>\n",
              "      <td>RUR</td>\n",
              "      <td>Программист C/С++</td>\n",
              "      <td>1</td>\n",
              "      <td>2020-05-07T13:32:58+0300</td>\n",
              "      <td>programmer</td>\n",
              "      <td>комфортный_офис кофе team дружный_коллектив вк...</td>\n",
              "      <td>0.0</td>\n",
              "      <td>0.0</td>\n",
              "      <td>1.0</td>\n",
              "      <td>0.0</td>\n",
              "      <td>0.0</td>\n",
              "      <td>1.0</td>\n",
              "      <td>0.0</td>\n",
              "      <td>0.0</td>\n",
              "      <td>0.0</td>\n",
              "      <td>0.0</td>\n",
              "      <td>0.0</td>\n",
              "      <td>0.0</td>\n",
              "      <td>0.0</td>\n",
              "      <td>0.0</td>\n",
              "      <td>0.0</td>\n",
              "      <td>0.0</td>\n",
              "      <td>0.0</td>\n",
              "      <td>0.0</td>\n",
              "      <td>0.0</td>\n",
              "      <td>1.0</td>\n",
              "      <td>0.0</td>\n",
              "      <td>0.0</td>\n",
              "      <td>0.0</td>\n",
              "      <td>0.0</td>\n",
              "      <td>0.0</td>\n",
              "      <td>0.0</td>\n",
              "      <td>0.0</td>\n",
              "      <td>0.0</td>\n",
              "      <td>0.0</td>\n",
              "      <td>0.0</td>\n",
              "      <td>0.0</td>\n",
              "      <td>0.0</td>\n",
              "      <td>0.0</td>\n",
              "      <td>0.0</td>\n",
              "      <td>0.0</td>\n",
              "    </tr>\n",
              "    <tr>\n",
              "      <th>3</th>\n",
              "      <td>36620797</td>\n",
              "      <td>Linux\\nSQL\\nООП</td>\n",
              "      <td>0</td>\n",
              "      <td>0</td>\n",
              "      <td>between1And3</td>\n",
              "      <td>1</td>\n",
              "      <td>0</td>\n",
              "      <td>1.0</td>\n",
              "      <td>Банк</td>\n",
              "      <td>0</td>\n",
              "      <td>0</td>\n",
              "      <td>NaN</td>\n",
              "      <td>145000.0</td>\n",
              "      <td>180000.0</td>\n",
              "      <td>0.0</td>\n",
              "      <td>RUR</td>\n",
              "      <td>Golang developer</td>\n",
              "      <td>1</td>\n",
              "      <td>2020-07-15T11:12:40+0300</td>\n",
              "      <td>programmer</td>\n",
              "      <td>высшее_образование разработчик высоконагруженн...</td>\n",
              "      <td>0.0</td>\n",
              "      <td>0.0</td>\n",
              "      <td>1.0</td>\n",
              "      <td>0.0</td>\n",
              "      <td>0.0</td>\n",
              "      <td>1.0</td>\n",
              "      <td>0.0</td>\n",
              "      <td>0.0</td>\n",
              "      <td>0.0</td>\n",
              "      <td>0.0</td>\n",
              "      <td>0.0</td>\n",
              "      <td>0.0</td>\n",
              "      <td>0.0</td>\n",
              "      <td>0.0</td>\n",
              "      <td>0.0</td>\n",
              "      <td>0.0</td>\n",
              "      <td>0.0</td>\n",
              "      <td>0.0</td>\n",
              "      <td>0.0</td>\n",
              "      <td>1.0</td>\n",
              "      <td>0.0</td>\n",
              "      <td>0.0</td>\n",
              "      <td>0.0</td>\n",
              "      <td>0.0</td>\n",
              "      <td>0.0</td>\n",
              "      <td>0.0</td>\n",
              "      <td>0.0</td>\n",
              "      <td>0.0</td>\n",
              "      <td>0.0</td>\n",
              "      <td>0.0</td>\n",
              "      <td>0.0</td>\n",
              "      <td>0.0</td>\n",
              "      <td>0.0</td>\n",
              "      <td>0.0</td>\n",
              "      <td>0.0</td>\n",
              "    </tr>\n",
              "    <tr>\n",
              "      <th>4</th>\n",
              "      <td>36620865</td>\n",
              "      <td>ООП\\nSQL\\nPHP</td>\n",
              "      <td>0</td>\n",
              "      <td>0</td>\n",
              "      <td>between1And3</td>\n",
              "      <td>1</td>\n",
              "      <td>0</td>\n",
              "      <td>1.0</td>\n",
              "      <td>Банк</td>\n",
              "      <td>0</td>\n",
              "      <td>0</td>\n",
              "      <td>NaN</td>\n",
              "      <td>145000.0</td>\n",
              "      <td>180000.0</td>\n",
              "      <td>0.0</td>\n",
              "      <td>RUR</td>\n",
              "      <td>PHP-разработчик (backend)</td>\n",
              "      <td>1</td>\n",
              "      <td>2020-04-23T17:41:30+0300</td>\n",
              "      <td>programmer</td>\n",
              "      <td>высшее_образование кухня symfony rest php план...</td>\n",
              "      <td>0.0</td>\n",
              "      <td>0.0</td>\n",
              "      <td>1.0</td>\n",
              "      <td>0.0</td>\n",
              "      <td>0.0</td>\n",
              "      <td>1.0</td>\n",
              "      <td>0.0</td>\n",
              "      <td>0.0</td>\n",
              "      <td>0.0</td>\n",
              "      <td>0.0</td>\n",
              "      <td>0.0</td>\n",
              "      <td>0.0</td>\n",
              "      <td>0.0</td>\n",
              "      <td>0.0</td>\n",
              "      <td>0.0</td>\n",
              "      <td>0.0</td>\n",
              "      <td>0.0</td>\n",
              "      <td>0.0</td>\n",
              "      <td>0.0</td>\n",
              "      <td>1.0</td>\n",
              "      <td>0.0</td>\n",
              "      <td>0.0</td>\n",
              "      <td>0.0</td>\n",
              "      <td>0.0</td>\n",
              "      <td>0.0</td>\n",
              "      <td>0.0</td>\n",
              "      <td>0.0</td>\n",
              "      <td>0.0</td>\n",
              "      <td>0.0</td>\n",
              "      <td>0.0</td>\n",
              "      <td>0.0</td>\n",
              "      <td>0.0</td>\n",
              "      <td>0.0</td>\n",
              "      <td>0.0</td>\n",
              "      <td>0.0</td>\n",
              "    </tr>\n",
              "  </tbody>\n",
              "</table>\n",
              "</div>"
            ],
            "text/plain": [
              "         id  ... chelyabinsk\n",
              "0  36620106  ...         0.0\n",
              "1  36620535  ...         0.0\n",
              "2  36620748  ...         0.0\n",
              "3  36620797  ...         0.0\n",
              "4  36620865  ...         0.0\n",
              "\n",
              "[5 rows x 56 columns]"
            ]
          },
          "metadata": {
            "tags": []
          },
          "execution_count": 47
        }
      ]
    },
    {
      "cell_type": "markdown",
      "metadata": {
        "id": "oU3AD2Rln0-_"
      },
      "source": [
        "---\n",
        "### OrdinalEncoder for the \"experience\" column\n",
        "---"
      ]
    },
    {
      "cell_type": "code",
      "metadata": {
        "id": "L2gcee9qn6gh",
        "colab": {
          "base_uri": "https://localhost:8080/"
        },
        "outputId": "ddcfabb0-16b3-4a58-deb6-a36838dac6a2"
      },
      "source": [
        "df.experience.value_counts()"
      ],
      "execution_count": null,
      "outputs": [
        {
          "output_type": "execute_result",
          "data": {
            "text/plain": [
              "between1And3    29294\n",
              "between3And6    14974\n",
              "noExperience    10230\n",
              "moreThan6        1465\n",
              "Name: experience, dtype: int64"
            ]
          },
          "metadata": {
            "tags": []
          },
          "execution_count": 48
        }
      ]
    },
    {
      "cell_type": "code",
      "metadata": {
        "id": "Mc0n8H9RouLN",
        "colab": {
          "base_uri": "https://localhost:8080/"
        },
        "outputId": "68741506-be2e-4ac2-929d-5e99a29c1743"
      },
      "source": [
        "df.id[df.experience.isna() == True].count()"
      ],
      "execution_count": null,
      "outputs": [
        {
          "output_type": "execute_result",
          "data": {
            "text/plain": [
              "0"
            ]
          },
          "metadata": {
            "tags": []
          },
          "execution_count": 49
        }
      ]
    },
    {
      "cell_type": "code",
      "metadata": {
        "id": "fx4DD48jq3CB"
      },
      "source": [
        "ordinal_encoder = OrdinalEncoder(categories=[['noExperience', 'between1And3',\n",
        "                                             'between3And6', 'moreThan6']])"
      ],
      "execution_count": null,
      "outputs": []
    },
    {
      "cell_type": "code",
      "metadata": {
        "id": "mGrsIxwwrFUu"
      },
      "source": [
        "expr = pd.DataFrame(ordinal_encoder.fit_transform(df[['experience']]))"
      ],
      "execution_count": null,
      "outputs": []
    },
    {
      "cell_type": "code",
      "metadata": {
        "id": "9w6zkhO5rg-L"
      },
      "source": [
        "expr = expr.rename(columns={0: 'experience'})"
      ],
      "execution_count": null,
      "outputs": []
    },
    {
      "cell_type": "code",
      "metadata": {
        "id": "43XNq2y5rYrB",
        "colab": {
          "base_uri": "https://localhost:8080/"
        },
        "outputId": "66e9bbb2-52eb-4a77-fef7-34c4e842707c"
      },
      "source": [
        "df.experience.head()"
      ],
      "execution_count": null,
      "outputs": [
        {
          "output_type": "execute_result",
          "data": {
            "text/plain": [
              "0    between3And6\n",
              "1    between1And3\n",
              "2    between3And6\n",
              "3    between1And3\n",
              "4    between1And3\n",
              "Name: experience, dtype: object"
            ]
          },
          "metadata": {
            "tags": []
          },
          "execution_count": 53
        }
      ]
    },
    {
      "cell_type": "code",
      "metadata": {
        "id": "9lYqzGxErVwo",
        "colab": {
          "base_uri": "https://localhost:8080/"
        },
        "outputId": "4d713d81-1f67-4d55-adf9-e0794d9a75e3"
      },
      "source": [
        "expr.head()"
      ],
      "execution_count": null,
      "outputs": [
        {
          "output_type": "execute_result",
          "data": {
            "text/html": [
              "<div>\n",
              "<style scoped>\n",
              "    .dataframe tbody tr th:only-of-type {\n",
              "        vertical-align: middle;\n",
              "    }\n",
              "\n",
              "    .dataframe tbody tr th {\n",
              "        vertical-align: top;\n",
              "    }\n",
              "\n",
              "    .dataframe thead th {\n",
              "        text-align: right;\n",
              "    }\n",
              "</style>\n",
              "<table border=\"1\" class=\"dataframe\">\n",
              "  <thead>\n",
              "    <tr style=\"text-align: right;\">\n",
              "      <th></th>\n",
              "      <th>experience</th>\n",
              "    </tr>\n",
              "  </thead>\n",
              "  <tbody>\n",
              "    <tr>\n",
              "      <th>0</th>\n",
              "      <td>2.0</td>\n",
              "    </tr>\n",
              "    <tr>\n",
              "      <th>1</th>\n",
              "      <td>1.0</td>\n",
              "    </tr>\n",
              "    <tr>\n",
              "      <th>2</th>\n",
              "      <td>2.0</td>\n",
              "    </tr>\n",
              "    <tr>\n",
              "      <th>3</th>\n",
              "      <td>1.0</td>\n",
              "    </tr>\n",
              "    <tr>\n",
              "      <th>4</th>\n",
              "      <td>1.0</td>\n",
              "    </tr>\n",
              "  </tbody>\n",
              "</table>\n",
              "</div>"
            ],
            "text/plain": [
              "   experience\n",
              "0         2.0\n",
              "1         1.0\n",
              "2         2.0\n",
              "3         1.0\n",
              "4         1.0"
            ]
          },
          "metadata": {
            "tags": []
          },
          "execution_count": 54
        }
      ]
    },
    {
      "cell_type": "code",
      "metadata": {
        "id": "6xJZZgaYruoY"
      },
      "source": [
        "df['experience'] = expr"
      ],
      "execution_count": null,
      "outputs": []
    },
    {
      "cell_type": "code",
      "metadata": {
        "id": "pq2auB3mrz0j",
        "colab": {
          "base_uri": "https://localhost:8080/"
        },
        "outputId": "177cc87a-5d92-44ab-b4ba-b05352ed2388"
      },
      "source": [
        "df.head(1)"
      ],
      "execution_count": null,
      "outputs": [
        {
          "output_type": "execute_result",
          "data": {
            "text/html": [
              "<div>\n",
              "<style scoped>\n",
              "    .dataframe tbody tr th:only-of-type {\n",
              "        vertical-align: middle;\n",
              "    }\n",
              "\n",
              "    .dataframe tbody tr th {\n",
              "        vertical-align: top;\n",
              "    }\n",
              "\n",
              "    .dataframe thead th {\n",
              "        text-align: right;\n",
              "    }\n",
              "</style>\n",
              "<table border=\"1\" class=\"dataframe\">\n",
              "  <thead>\n",
              "    <tr style=\"text-align: right;\">\n",
              "      <th></th>\n",
              "      <th>id</th>\n",
              "      <th>key_skills</th>\n",
              "      <th>accept_handicapped</th>\n",
              "      <th>accept_kids</th>\n",
              "      <th>experience</th>\n",
              "      <th>allow_messages</th>\n",
              "      <th>accept_incomplete_resumes</th>\n",
              "      <th>employer_trusted</th>\n",
              "      <th>employer_industries</th>\n",
              "      <th>response_letter_required</th>\n",
              "      <th>has_test</th>\n",
              "      <th>test_required</th>\n",
              "      <th>salary_from</th>\n",
              "      <th>salary_to</th>\n",
              "      <th>salary_gross</th>\n",
              "      <th>salary_currency</th>\n",
              "      <th>name</th>\n",
              "      <th>area_id</th>\n",
              "      <th>date</th>\n",
              "      <th>prof_classes_found</th>\n",
              "      <th>terms_found</th>\n",
              "      <th>schedule_flexible</th>\n",
              "      <th>schedule_flyInFlyOut</th>\n",
              "      <th>schedule_fullDay</th>\n",
              "      <th>schedule_remote</th>\n",
              "      <th>schedule_shift</th>\n",
              "      <th>employment_full</th>\n",
              "      <th>employment_part</th>\n",
              "      <th>employment_probation</th>\n",
              "      <th>employment_project</th>\n",
              "      <th>almaty</th>\n",
              "      <th>vladivostok</th>\n",
              "      <th>volgograd</th>\n",
              "      <th>voronezh</th>\n",
              "      <th>ekaterinburg</th>\n",
              "      <th>kazan</th>\n",
              "      <th>kiev</th>\n",
              "      <th>krasnodar</th>\n",
              "      <th>krasnoyarsk</th>\n",
              "      <th>minsk</th>\n",
              "      <th>moskow</th>\n",
              "      <th>nizhny_novgorod</th>\n",
              "      <th>novosibirsk</th>\n",
              "      <th>nur-sultan</th>\n",
              "      <th>omsk</th>\n",
              "      <th>perm</th>\n",
              "      <th>rostov_on_don</th>\n",
              "      <th>samara</th>\n",
              "      <th>st_petersburg</th>\n",
              "      <th>saratov</th>\n",
              "      <th>tashkent</th>\n",
              "      <th>tomsk</th>\n",
              "      <th>tula</th>\n",
              "      <th>tyumen</th>\n",
              "      <th>ufa</th>\n",
              "      <th>chelyabinsk</th>\n",
              "    </tr>\n",
              "  </thead>\n",
              "  <tbody>\n",
              "    <tr>\n",
              "      <th>0</th>\n",
              "      <td>36620106</td>\n",
              "      <td>JavaScript\\nReact\\nReactNative</td>\n",
              "      <td>0</td>\n",
              "      <td>0</td>\n",
              "      <td>2.0</td>\n",
              "      <td>1</td>\n",
              "      <td>0</td>\n",
              "      <td>1.0</td>\n",
              "      <td>Научно-исследовательская, научная, академическ...</td>\n",
              "      <td>0</td>\n",
              "      <td>0</td>\n",
              "      <td>NaN</td>\n",
              "      <td>150000.0</td>\n",
              "      <td>200000.0</td>\n",
              "      <td>0.0</td>\n",
              "      <td>RUR</td>\n",
              "      <td>Frontend developer (React)</td>\n",
              "      <td>1</td>\n",
              "      <td>2020-04-10T12:47:20+0300</td>\n",
              "      <td>programmer</td>\n",
              "      <td>разработчик react медицинская_страховка опыт_р...</td>\n",
              "      <td>0.0</td>\n",
              "      <td>0.0</td>\n",
              "      <td>1.0</td>\n",
              "      <td>0.0</td>\n",
              "      <td>0.0</td>\n",
              "      <td>1.0</td>\n",
              "      <td>0.0</td>\n",
              "      <td>0.0</td>\n",
              "      <td>0.0</td>\n",
              "      <td>0.0</td>\n",
              "      <td>0.0</td>\n",
              "      <td>0.0</td>\n",
              "      <td>0.0</td>\n",
              "      <td>0.0</td>\n",
              "      <td>0.0</td>\n",
              "      <td>0.0</td>\n",
              "      <td>0.0</td>\n",
              "      <td>0.0</td>\n",
              "      <td>0.0</td>\n",
              "      <td>1.0</td>\n",
              "      <td>0.0</td>\n",
              "      <td>0.0</td>\n",
              "      <td>0.0</td>\n",
              "      <td>0.0</td>\n",
              "      <td>0.0</td>\n",
              "      <td>0.0</td>\n",
              "      <td>0.0</td>\n",
              "      <td>0.0</td>\n",
              "      <td>0.0</td>\n",
              "      <td>0.0</td>\n",
              "      <td>0.0</td>\n",
              "      <td>0.0</td>\n",
              "      <td>0.0</td>\n",
              "      <td>0.0</td>\n",
              "      <td>0.0</td>\n",
              "    </tr>\n",
              "  </tbody>\n",
              "</table>\n",
              "</div>"
            ],
            "text/plain": [
              "         id                      key_skills  ...  ufa  chelyabinsk\n",
              "0  36620106  JavaScript\\nReact\\nReactNative  ...  0.0          0.0\n",
              "\n",
              "[1 rows x 56 columns]"
            ]
          },
          "metadata": {
            "tags": []
          },
          "execution_count": 56
        }
      ]
    },
    {
      "cell_type": "markdown",
      "metadata": {
        "id": "Od2FqKOEvoEQ"
      },
      "source": [
        "---\n",
        "# Convert a currency\n",
        "---\n"
      ]
    },
    {
      "cell_type": "markdown",
      "metadata": {
        "id": "Cso7HUSij8p1"
      },
      "source": [
        "## Format a column \"published_at\" to format 'YYYY-MM-DD' in code below"
      ]
    },
    {
      "cell_type": "code",
      "metadata": {
        "id": "Is8SHKYBx77b"
      },
      "source": [
        "df[\"date\"] = pd.to_datetime(df[\"date\"])"
      ],
      "execution_count": null,
      "outputs": []
    },
    {
      "cell_type": "code",
      "metadata": {
        "colab": {
          "base_uri": "https://localhost:8080/"
        },
        "id": "1ZUKQfzyvnWh",
        "outputId": "b3e8134c-15a6-4073-ff22-d3bcc26ec06a"
      },
      "source": [
        "df.info()"
      ],
      "execution_count": null,
      "outputs": [
        {
          "output_type": "stream",
          "text": [
            "<class 'pandas.core.frame.DataFrame'>\n",
            "RangeIndex: 55963 entries, 0 to 55962\n",
            "Data columns (total 56 columns):\n",
            " #   Column                     Non-Null Count  Dtype                                \n",
            "---  ------                     --------------  -----                                \n",
            " 0   id                         55963 non-null  int64                                \n",
            " 1   key_skills                 55963 non-null  object                               \n",
            " 2   accept_handicapped         55963 non-null  int64                                \n",
            " 3   accept_kids                55963 non-null  int64                                \n",
            " 4   experience                 55963 non-null  float64                              \n",
            " 5   allow_messages             55963 non-null  int64                                \n",
            " 6   accept_incomplete_resumes  55963 non-null  int64                                \n",
            " 7   employer_trusted           55842 non-null  float64                              \n",
            " 8   employer_industries        39639 non-null  object                               \n",
            " 9   response_letter_required   55963 non-null  int64                                \n",
            " 10  has_test                   55963 non-null  int64                                \n",
            " 11  test_required              0 non-null      float64                              \n",
            " 12  salary_from                55963 non-null  float64                              \n",
            " 13  salary_to                  55963 non-null  float64                              \n",
            " 14  salary_gross               55940 non-null  float64                              \n",
            " 15  salary_currency            55963 non-null  object                               \n",
            " 16  name                       55963 non-null  object                               \n",
            " 17  area_id                    55963 non-null  int64                                \n",
            " 18  date                       55963 non-null  datetime64[ns, pytz.FixedOffset(180)]\n",
            " 19  prof_classes_found         54921 non-null  object                               \n",
            " 20  terms_found                55671 non-null  object                               \n",
            " 21  schedule_flexible          55963 non-null  float64                              \n",
            " 22  schedule_flyInFlyOut       55963 non-null  float64                              \n",
            " 23  schedule_fullDay           55963 non-null  float64                              \n",
            " 24  schedule_remote            55963 non-null  float64                              \n",
            " 25  schedule_shift             55963 non-null  float64                              \n",
            " 26  employment_full            55963 non-null  float64                              \n",
            " 27  employment_part            55963 non-null  float64                              \n",
            " 28  employment_probation       55963 non-null  float64                              \n",
            " 29  employment_project         55963 non-null  float64                              \n",
            " 30  almaty                     55963 non-null  float64                              \n",
            " 31  vladivostok                55963 non-null  float64                              \n",
            " 32  volgograd                  55963 non-null  float64                              \n",
            " 33  voronezh                   55963 non-null  float64                              \n",
            " 34  ekaterinburg               55963 non-null  float64                              \n",
            " 35  kazan                      55963 non-null  float64                              \n",
            " 36  kiev                       55963 non-null  float64                              \n",
            " 37  krasnodar                  55963 non-null  float64                              \n",
            " 38  krasnoyarsk                55963 non-null  float64                              \n",
            " 39  minsk                      55963 non-null  float64                              \n",
            " 40  moskow                     55963 non-null  float64                              \n",
            " 41  nizhny_novgorod            55963 non-null  float64                              \n",
            " 42  novosibirsk                55963 non-null  float64                              \n",
            " 43  nur-sultan                 55963 non-null  float64                              \n",
            " 44  omsk                       55963 non-null  float64                              \n",
            " 45  perm                       55963 non-null  float64                              \n",
            " 46  rostov_on_don              55963 non-null  float64                              \n",
            " 47  samara                     55963 non-null  float64                              \n",
            " 48  st_petersburg              55963 non-null  float64                              \n",
            " 49  saratov                    55963 non-null  float64                              \n",
            " 50  tashkent                   55963 non-null  float64                              \n",
            " 51  tomsk                      55963 non-null  float64                              \n",
            " 52  tula                       55963 non-null  float64                              \n",
            " 53  tyumen                     55963 non-null  float64                              \n",
            " 54  ufa                        55963 non-null  float64                              \n",
            " 55  chelyabinsk                55963 non-null  float64                              \n",
            "dtypes: datetime64[ns, pytz.FixedOffset(180)](1), float64(41), int64(8), object(6)\n",
            "memory usage: 23.9+ MB\n"
          ],
          "name": "stdout"
        }
      ]
    },
    {
      "cell_type": "code",
      "metadata": {
        "id": "WV72y8DXypi0"
      },
      "source": [
        "df[\"date\"] = df[\"date\"].dt.strftime(\"%Y-%m-%d\")"
      ],
      "execution_count": null,
      "outputs": []
    },
    {
      "cell_type": "code",
      "metadata": {
        "colab": {
          "base_uri": "https://localhost:8080/"
        },
        "id": "ENl2pUY7yUcP",
        "outputId": "805be6c9-4f5b-414a-da78-9ee3841f83de"
      },
      "source": [
        "df.head(1)"
      ],
      "execution_count": null,
      "outputs": [
        {
          "output_type": "execute_result",
          "data": {
            "text/html": [
              "<div>\n",
              "<style scoped>\n",
              "    .dataframe tbody tr th:only-of-type {\n",
              "        vertical-align: middle;\n",
              "    }\n",
              "\n",
              "    .dataframe tbody tr th {\n",
              "        vertical-align: top;\n",
              "    }\n",
              "\n",
              "    .dataframe thead th {\n",
              "        text-align: right;\n",
              "    }\n",
              "</style>\n",
              "<table border=\"1\" class=\"dataframe\">\n",
              "  <thead>\n",
              "    <tr style=\"text-align: right;\">\n",
              "      <th></th>\n",
              "      <th>id</th>\n",
              "      <th>key_skills</th>\n",
              "      <th>accept_handicapped</th>\n",
              "      <th>accept_kids</th>\n",
              "      <th>experience</th>\n",
              "      <th>allow_messages</th>\n",
              "      <th>accept_incomplete_resumes</th>\n",
              "      <th>employer_trusted</th>\n",
              "      <th>employer_industries</th>\n",
              "      <th>response_letter_required</th>\n",
              "      <th>has_test</th>\n",
              "      <th>test_required</th>\n",
              "      <th>salary_from</th>\n",
              "      <th>salary_to</th>\n",
              "      <th>salary_gross</th>\n",
              "      <th>salary_currency</th>\n",
              "      <th>name</th>\n",
              "      <th>area_id</th>\n",
              "      <th>date</th>\n",
              "      <th>prof_classes_found</th>\n",
              "      <th>terms_found</th>\n",
              "      <th>schedule_flexible</th>\n",
              "      <th>schedule_flyInFlyOut</th>\n",
              "      <th>schedule_fullDay</th>\n",
              "      <th>schedule_remote</th>\n",
              "      <th>schedule_shift</th>\n",
              "      <th>employment_full</th>\n",
              "      <th>employment_part</th>\n",
              "      <th>employment_probation</th>\n",
              "      <th>employment_project</th>\n",
              "      <th>almaty</th>\n",
              "      <th>vladivostok</th>\n",
              "      <th>volgograd</th>\n",
              "      <th>voronezh</th>\n",
              "      <th>ekaterinburg</th>\n",
              "      <th>kazan</th>\n",
              "      <th>kiev</th>\n",
              "      <th>krasnodar</th>\n",
              "      <th>krasnoyarsk</th>\n",
              "      <th>minsk</th>\n",
              "      <th>moskow</th>\n",
              "      <th>nizhny_novgorod</th>\n",
              "      <th>novosibirsk</th>\n",
              "      <th>nur-sultan</th>\n",
              "      <th>omsk</th>\n",
              "      <th>perm</th>\n",
              "      <th>rostov_on_don</th>\n",
              "      <th>samara</th>\n",
              "      <th>st_petersburg</th>\n",
              "      <th>saratov</th>\n",
              "      <th>tashkent</th>\n",
              "      <th>tomsk</th>\n",
              "      <th>tula</th>\n",
              "      <th>tyumen</th>\n",
              "      <th>ufa</th>\n",
              "      <th>chelyabinsk</th>\n",
              "    </tr>\n",
              "  </thead>\n",
              "  <tbody>\n",
              "    <tr>\n",
              "      <th>0</th>\n",
              "      <td>36620106</td>\n",
              "      <td>JavaScript\\nReact\\nReactNative</td>\n",
              "      <td>0</td>\n",
              "      <td>0</td>\n",
              "      <td>2.0</td>\n",
              "      <td>1</td>\n",
              "      <td>0</td>\n",
              "      <td>1.0</td>\n",
              "      <td>Научно-исследовательская, научная, академическ...</td>\n",
              "      <td>0</td>\n",
              "      <td>0</td>\n",
              "      <td>NaN</td>\n",
              "      <td>150000.0</td>\n",
              "      <td>200000.0</td>\n",
              "      <td>0.0</td>\n",
              "      <td>RUR</td>\n",
              "      <td>Frontend developer (React)</td>\n",
              "      <td>1</td>\n",
              "      <td>2020-04-10</td>\n",
              "      <td>programmer</td>\n",
              "      <td>разработчик react медицинская_страховка опыт_р...</td>\n",
              "      <td>0.0</td>\n",
              "      <td>0.0</td>\n",
              "      <td>1.0</td>\n",
              "      <td>0.0</td>\n",
              "      <td>0.0</td>\n",
              "      <td>1.0</td>\n",
              "      <td>0.0</td>\n",
              "      <td>0.0</td>\n",
              "      <td>0.0</td>\n",
              "      <td>0.0</td>\n",
              "      <td>0.0</td>\n",
              "      <td>0.0</td>\n",
              "      <td>0.0</td>\n",
              "      <td>0.0</td>\n",
              "      <td>0.0</td>\n",
              "      <td>0.0</td>\n",
              "      <td>0.0</td>\n",
              "      <td>0.0</td>\n",
              "      <td>0.0</td>\n",
              "      <td>1.0</td>\n",
              "      <td>0.0</td>\n",
              "      <td>0.0</td>\n",
              "      <td>0.0</td>\n",
              "      <td>0.0</td>\n",
              "      <td>0.0</td>\n",
              "      <td>0.0</td>\n",
              "      <td>0.0</td>\n",
              "      <td>0.0</td>\n",
              "      <td>0.0</td>\n",
              "      <td>0.0</td>\n",
              "      <td>0.0</td>\n",
              "      <td>0.0</td>\n",
              "      <td>0.0</td>\n",
              "      <td>0.0</td>\n",
              "      <td>0.0</td>\n",
              "    </tr>\n",
              "  </tbody>\n",
              "</table>\n",
              "</div>"
            ],
            "text/plain": [
              "         id                      key_skills  ...  ufa  chelyabinsk\n",
              "0  36620106  JavaScript\\nReact\\nReactNative  ...  0.0          0.0\n",
              "\n",
              "[1 rows x 56 columns]"
            ]
          },
          "metadata": {
            "tags": []
          },
          "execution_count": 60
        }
      ]
    },
    {
      "cell_type": "markdown",
      "metadata": {
        "id": "7zbnxBcikGZD"
      },
      "source": [
        "## Work with currency"
      ]
    },
    {
      "cell_type": "code",
      "metadata": {
        "id": "dcDwXNz2kNYf",
        "colab": {
          "base_uri": "https://localhost:8080/"
        },
        "outputId": "c487909a-8fca-489b-fe14-d4fb86242552"
      },
      "source": [
        "df.salary_currency.value_counts()"
      ],
      "execution_count": null,
      "outputs": [
        {
          "output_type": "execute_result",
          "data": {
            "text/plain": [
              "RUR    48357\n",
              "USD     2713\n",
              "KZT     2473\n",
              "BYR     1129\n",
              "UAH      485\n",
              "EUR      433\n",
              "UZS      371\n",
              "KGS        2\n",
              "Name: salary_currency, dtype: int64"
            ]
          },
          "metadata": {
            "tags": []
          },
          "execution_count": 61
        }
      ]
    },
    {
      "cell_type": "code",
      "metadata": {
        "id": "SZRp1b5S7T9i"
      },
      "source": [
        "kzt = pd.read_csv('/content/drive/MyDrive/DataSets/Currencies/KZT_RUB.csv')\n",
        "usd = pd.read_csv('/content/drive/MyDrive/DataSets/Currencies/USD_RUB.csv')\n",
        "byr = pd.read_csv('/content/drive/MyDrive/DataSets/Currencies/BYN_RUB.csv')\n",
        "uah = pd.read_csv('/content/drive/MyDrive/DataSets/Currencies/UAH_RUB.csv')\n",
        "eur = pd.read_csv('/content/drive/MyDrive/DataSets/Currencies/EUR_RUB.csv')\n",
        "uzs = pd.read_csv('/content/drive/MyDrive/DataSets/Currencies/UZS_RUB.csv')\n",
        "kgs = pd.read_csv('/content/drive/MyDrive/DataSets/Currencies/KGS_RUB.csv')\n",
        "azn = pd.read_csv('/content/drive/MyDrive/DataSets/Currencies/AZN_RUB.csv')\n",
        "gel = pd.read_csv('/content/drive/MyDrive/DataSets/Currencies/GEL_RUB.csv')"
      ],
      "execution_count": null,
      "outputs": []
    },
    {
      "cell_type": "code",
      "metadata": {
        "id": "q9mFqZYsYCeL"
      },
      "source": [
        "def remove_column_currency(df):\n",
        "  df = df.rename(columns={'Change %': 'Change_%', 'Date': 'date', 'Price': 'price'})\n",
        "  df = df.drop(columns=['Open', 'High', 'Low', 'Change_%'])\n",
        "  return df"
      ],
      "execution_count": null,
      "outputs": []
    },
    {
      "cell_type": "code",
      "metadata": {
        "id": "4MPtVXzkPYPQ"
      },
      "source": [
        "def convert_datetime(df):\n",
        "  df.date = pd.to_datetime(df.date).dt.strftime('%Y-%m-%d')\n",
        "  return df"
      ],
      "execution_count": null,
      "outputs": []
    },
    {
      "cell_type": "code",
      "metadata": {
        "id": "QjSuD7P_Ymbx"
      },
      "source": [
        "kzt = remove_column_currency(kzt)\n",
        "usd = remove_column_currency(usd)\n",
        "byr = remove_column_currency(byr)\n",
        "uah = remove_column_currency(uah)\n",
        "eur = remove_column_currency(eur)\n",
        "uzs = remove_column_currency(uzs)\n",
        "kgs = remove_column_currency(kgs)\n",
        "azn = remove_column_currency(azn)\n",
        "gel = remove_column_currency(gel)"
      ],
      "execution_count": null,
      "outputs": []
    },
    {
      "cell_type": "code",
      "metadata": {
        "id": "h-knoLTBhJAz"
      },
      "source": [
        "kzt = convert_datetime(kzt)\n",
        "usd = convert_datetime(usd)\n",
        "byr = convert_datetime(byr)\n",
        "uah = convert_datetime(uah)\n",
        "eur = convert_datetime(eur)\n",
        "uzs = convert_datetime(uzs)\n",
        "kgs = convert_datetime(kgs)\n",
        "azn = convert_datetime(azn)\n",
        "gel = convert_datetime(gel)"
      ],
      "execution_count": null,
      "outputs": []
    },
    {
      "cell_type": "code",
      "metadata": {
        "id": "hkDh2zOwkCku",
        "colab": {
          "base_uri": "https://localhost:8080/",
          "height": 142
        },
        "outputId": "2ba3793c-10a3-476f-f76c-a46b5416050e"
      },
      "source": [
        "kzt.head(3)"
      ],
      "execution_count": null,
      "outputs": [
        {
          "output_type": "execute_result",
          "data": {
            "text/html": [
              "<div>\n",
              "<style scoped>\n",
              "    .dataframe tbody tr th:only-of-type {\n",
              "        vertical-align: middle;\n",
              "    }\n",
              "\n",
              "    .dataframe tbody tr th {\n",
              "        vertical-align: top;\n",
              "    }\n",
              "\n",
              "    .dataframe thead th {\n",
              "        text-align: right;\n",
              "    }\n",
              "</style>\n",
              "<table border=\"1\" class=\"dataframe\">\n",
              "  <thead>\n",
              "    <tr style=\"text-align: right;\">\n",
              "      <th></th>\n",
              "      <th>date</th>\n",
              "      <th>price</th>\n",
              "    </tr>\n",
              "  </thead>\n",
              "  <tbody>\n",
              "    <tr>\n",
              "      <th>0</th>\n",
              "      <td>2021-01-01</td>\n",
              "      <td>0.1757</td>\n",
              "    </tr>\n",
              "    <tr>\n",
              "      <th>1</th>\n",
              "      <td>2020-12-31</td>\n",
              "      <td>0.1766</td>\n",
              "    </tr>\n",
              "    <tr>\n",
              "      <th>2</th>\n",
              "      <td>2020-12-30</td>\n",
              "      <td>0.1765</td>\n",
              "    </tr>\n",
              "  </tbody>\n",
              "</table>\n",
              "</div>"
            ],
            "text/plain": [
              "         date   price\n",
              "0  2021-01-01  0.1757\n",
              "1  2020-12-31  0.1766\n",
              "2  2020-12-30  0.1765"
            ]
          },
          "metadata": {
            "tags": []
          },
          "execution_count": 67
        }
      ]
    },
    {
      "cell_type": "code",
      "metadata": {
        "id": "P4a5dqhKjEYt",
        "colab": {
          "base_uri": "https://localhost:8080/"
        },
        "outputId": "3ebce937-f2f8-481f-d41a-c9aaf942729f"
      },
      "source": [
        "df_kzt = df[df.salary_currency == 'KZT'].merge(kzt, how='left', on='date')\n",
        "df_usd = df[df.salary_currency == 'USD'].merge(usd, how='left', on='date')\n",
        "df_byr = df[df.salary_currency == 'BYR'].merge(byr, how='left', on='date')\n",
        "df_uah = df[df.salary_currency == 'UAH'].merge(uah, how='left', on='date')\n",
        "df_eur = df[df.salary_currency == 'EUR'].merge(eur, how='left', on='date')\n",
        "df_uzs = df[df.salary_currency == 'UZS'].merge(uzs, how='left', on='date')\n",
        "df_kgs = df[df.salary_currency == 'KGS'].merge(kgs, how='left', on='date')\n",
        "df_azn = df[df.salary_currency == 'AZN'].merge(azn, how='left', on='date')\n",
        "df_gel = df[df.salary_currency == 'GEL'].merge(gel, how='left', on='date')\n",
        "\n",
        "df_rouble = df[df.salary_currency == 'RUR']\n",
        "df_rouble['price'] = [1 for i in range(len(df_rouble))]"
      ],
      "execution_count": null,
      "outputs": [
        {
          "output_type": "stream",
          "text": [
            "/usr/local/lib/python3.7/dist-packages/ipykernel_launcher.py:12: SettingWithCopyWarning: \n",
            "A value is trying to be set on a copy of a slice from a DataFrame.\n",
            "Try using .loc[row_indexer,col_indexer] = value instead\n",
            "\n",
            "See the caveats in the documentation: https://pandas.pydata.org/pandas-docs/stable/user_guide/indexing.html#returning-a-view-versus-a-copy\n",
            "  if sys.path[0] == '':\n"
          ],
          "name": "stderr"
        }
      ]
    },
    {
      "cell_type": "code",
      "metadata": {
        "id": "LjuqnAgc6z_I",
        "colab": {
          "base_uri": "https://localhost:8080/",
          "height": 168
        },
        "outputId": "275f22ca-e678-4810-8f45-ef7f55de5598"
      },
      "source": [
        "display(df_kzt.id[df_kzt.salary_currency.isna() == True].count())\n",
        "display(df_usd.id[df_usd.salary_currency.isna() == True].count())\n",
        "display(df_byr.id[df_byr.salary_currency.isna() == True].count())\n",
        "display(df_uah.id[df_uah.salary_currency.isna() == True].count())\n",
        "display(df_eur.id[df_eur.salary_currency.isna() == True].count())\n",
        "display(df_uzs.id[df_uzs.salary_currency.isna() == True].count())\n",
        "display(df_kgs.id[df_kgs.salary_currency.isna() == True].count())\n",
        "display(df_azn.id[df_azn.salary_currency.isna() == True].count())\n",
        "display(df_gel.id[df_gel.salary_currency.isna() == True].count())"
      ],
      "execution_count": null,
      "outputs": [
        {
          "output_type": "display_data",
          "data": {
            "text/plain": [
              "0"
            ]
          },
          "metadata": {
            "tags": []
          }
        },
        {
          "output_type": "display_data",
          "data": {
            "text/plain": [
              "0"
            ]
          },
          "metadata": {
            "tags": []
          }
        },
        {
          "output_type": "display_data",
          "data": {
            "text/plain": [
              "0"
            ]
          },
          "metadata": {
            "tags": []
          }
        },
        {
          "output_type": "display_data",
          "data": {
            "text/plain": [
              "0"
            ]
          },
          "metadata": {
            "tags": []
          }
        },
        {
          "output_type": "display_data",
          "data": {
            "text/plain": [
              "0"
            ]
          },
          "metadata": {
            "tags": []
          }
        },
        {
          "output_type": "display_data",
          "data": {
            "text/plain": [
              "0"
            ]
          },
          "metadata": {
            "tags": []
          }
        },
        {
          "output_type": "display_data",
          "data": {
            "text/plain": [
              "0"
            ]
          },
          "metadata": {
            "tags": []
          }
        },
        {
          "output_type": "display_data",
          "data": {
            "text/plain": [
              "0"
            ]
          },
          "metadata": {
            "tags": []
          }
        },
        {
          "output_type": "display_data",
          "data": {
            "text/plain": [
              "0"
            ]
          },
          "metadata": {
            "tags": []
          }
        }
      ]
    },
    {
      "cell_type": "code",
      "metadata": {
        "id": "zEgGwkJ38Er1"
      },
      "source": [
        "df1 = df_kzt.append(df_usd).append(df_byr).append(df_uah).append(df_eur).append(df_uzs).append(df_kgs).append(df_azn).append(df_gel).append(df_rouble)"
      ],
      "execution_count": null,
      "outputs": []
    },
    {
      "cell_type": "code",
      "metadata": {
        "id": "ACqCHQMyGZNR"
      },
      "source": [
        "df1['salary_from'] = df1['salary_from'] * df1['price']\n",
        "df1['salary_to'] = df1['salary_to'] * df1['price']"
      ],
      "execution_count": null,
      "outputs": []
    },
    {
      "cell_type": "code",
      "metadata": {
        "id": "brmOZNJjH-Qb"
      },
      "source": [
        "df = df1.drop(columns=['price', 'salary_currency'])"
      ],
      "execution_count": null,
      "outputs": []
    },
    {
      "cell_type": "code",
      "metadata": {
        "id": "gWzHdFd8tIAS",
        "colab": {
          "base_uri": "https://localhost:8080/",
          "height": 184
        },
        "outputId": "3dbe4e42-a1c2-4198-fce9-6ecc892b0a8a"
      },
      "source": [
        "df.head(1)"
      ],
      "execution_count": null,
      "outputs": [
        {
          "output_type": "execute_result",
          "data": {
            "text/html": [
              "<div>\n",
              "<style scoped>\n",
              "    .dataframe tbody tr th:only-of-type {\n",
              "        vertical-align: middle;\n",
              "    }\n",
              "\n",
              "    .dataframe tbody tr th {\n",
              "        vertical-align: top;\n",
              "    }\n",
              "\n",
              "    .dataframe thead th {\n",
              "        text-align: right;\n",
              "    }\n",
              "</style>\n",
              "<table border=\"1\" class=\"dataframe\">\n",
              "  <thead>\n",
              "    <tr style=\"text-align: right;\">\n",
              "      <th></th>\n",
              "      <th>id</th>\n",
              "      <th>key_skills</th>\n",
              "      <th>accept_handicapped</th>\n",
              "      <th>accept_kids</th>\n",
              "      <th>experience</th>\n",
              "      <th>allow_messages</th>\n",
              "      <th>accept_incomplete_resumes</th>\n",
              "      <th>employer_trusted</th>\n",
              "      <th>employer_industries</th>\n",
              "      <th>response_letter_required</th>\n",
              "      <th>has_test</th>\n",
              "      <th>test_required</th>\n",
              "      <th>salary_from</th>\n",
              "      <th>salary_to</th>\n",
              "      <th>salary_gross</th>\n",
              "      <th>name</th>\n",
              "      <th>area_id</th>\n",
              "      <th>date</th>\n",
              "      <th>prof_classes_found</th>\n",
              "      <th>terms_found</th>\n",
              "      <th>schedule_flexible</th>\n",
              "      <th>schedule_flyInFlyOut</th>\n",
              "      <th>schedule_fullDay</th>\n",
              "      <th>schedule_remote</th>\n",
              "      <th>schedule_shift</th>\n",
              "      <th>employment_full</th>\n",
              "      <th>employment_part</th>\n",
              "      <th>employment_probation</th>\n",
              "      <th>employment_project</th>\n",
              "      <th>almaty</th>\n",
              "      <th>vladivostok</th>\n",
              "      <th>volgograd</th>\n",
              "      <th>voronezh</th>\n",
              "      <th>ekaterinburg</th>\n",
              "      <th>kazan</th>\n",
              "      <th>kiev</th>\n",
              "      <th>krasnodar</th>\n",
              "      <th>krasnoyarsk</th>\n",
              "      <th>minsk</th>\n",
              "      <th>moskow</th>\n",
              "      <th>nizhny_novgorod</th>\n",
              "      <th>novosibirsk</th>\n",
              "      <th>nur-sultan</th>\n",
              "      <th>omsk</th>\n",
              "      <th>perm</th>\n",
              "      <th>rostov_on_don</th>\n",
              "      <th>samara</th>\n",
              "      <th>st_petersburg</th>\n",
              "      <th>saratov</th>\n",
              "      <th>tashkent</th>\n",
              "      <th>tomsk</th>\n",
              "      <th>tula</th>\n",
              "      <th>tyumen</th>\n",
              "      <th>ufa</th>\n",
              "      <th>chelyabinsk</th>\n",
              "    </tr>\n",
              "  </thead>\n",
              "  <tbody>\n",
              "    <tr>\n",
              "      <th>0</th>\n",
              "      <td>36625264</td>\n",
              "      <td>1С-Битрикс\\nPHP\\nREST\\nООП\\nHTML5\\nCSS3\\nТехни...</td>\n",
              "      <td>1</td>\n",
              "      <td>0</td>\n",
              "      <td>2.0</td>\n",
              "      <td>1</td>\n",
              "      <td>0</td>\n",
              "      <td>1.0</td>\n",
              "      <td>Земледелие, растениеводство, животноводство</td>\n",
              "      <td>1</td>\n",
              "      <td>0</td>\n",
              "      <td>NaN</td>\n",
              "      <td>70240.0</td>\n",
              "      <td>136968.0</td>\n",
              "      <td>0.0</td>\n",
              "      <td>Битрикс-разработчик</td>\n",
              "      <td>1</td>\n",
              "      <td>2020-05-07</td>\n",
              "      <td>programmer</td>\n",
              "      <td>1c site разработчик rpc rest php архитектура а...</td>\n",
              "      <td>0.0</td>\n",
              "      <td>0.0</td>\n",
              "      <td>0.0</td>\n",
              "      <td>1.0</td>\n",
              "      <td>0.0</td>\n",
              "      <td>1.0</td>\n",
              "      <td>0.0</td>\n",
              "      <td>0.0</td>\n",
              "      <td>0.0</td>\n",
              "      <td>0.0</td>\n",
              "      <td>0.0</td>\n",
              "      <td>0.0</td>\n",
              "      <td>0.0</td>\n",
              "      <td>0.0</td>\n",
              "      <td>0.0</td>\n",
              "      <td>0.0</td>\n",
              "      <td>0.0</td>\n",
              "      <td>0.0</td>\n",
              "      <td>0.0</td>\n",
              "      <td>1.0</td>\n",
              "      <td>0.0</td>\n",
              "      <td>0.0</td>\n",
              "      <td>0.0</td>\n",
              "      <td>0.0</td>\n",
              "      <td>0.0</td>\n",
              "      <td>0.0</td>\n",
              "      <td>0.0</td>\n",
              "      <td>0.0</td>\n",
              "      <td>0.0</td>\n",
              "      <td>0.0</td>\n",
              "      <td>0.0</td>\n",
              "      <td>0.0</td>\n",
              "      <td>0.0</td>\n",
              "      <td>0.0</td>\n",
              "      <td>0.0</td>\n",
              "    </tr>\n",
              "  </tbody>\n",
              "</table>\n",
              "</div>"
            ],
            "text/plain": [
              "         id  ... chelyabinsk\n",
              "0  36625264  ...         0.0\n",
              "\n",
              "[1 rows x 55 columns]"
            ]
          },
          "metadata": {
            "tags": []
          },
          "execution_count": 73
        }
      ]
    },
    {
      "cell_type": "code",
      "metadata": {
        "colab": {
          "base_uri": "https://localhost:8080/"
        },
        "id": "ShYKPJIgBCuz",
        "outputId": "23b87c62-1906-499e-d3a4-45c3836ae205"
      },
      "source": [
        "df.shape"
      ],
      "execution_count": null,
      "outputs": [
        {
          "output_type": "execute_result",
          "data": {
            "text/plain": [
              "(55963, 55)"
            ]
          },
          "metadata": {
            "tags": []
          },
          "execution_count": 74
        }
      ]
    }
  ]
}